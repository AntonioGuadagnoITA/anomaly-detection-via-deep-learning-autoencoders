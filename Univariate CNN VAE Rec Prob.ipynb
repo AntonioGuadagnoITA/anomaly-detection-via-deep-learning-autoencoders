{
 "cells": [
  {
   "cell_type": "code",
   "execution_count": 1,
   "id": "8eb2f6e8",
   "metadata": {
    "_cell_guid": "999f13ae-f6e2-45f2-9bdf-5f16f6ea7208",
    "_uuid": "abc9049a-ee73-4012-a12c-211ecbec7338",
    "collapsed": false,
    "execution": {
     "iopub.execute_input": "2022-08-27T20:01:01.562279Z",
     "iopub.status.busy": "2022-08-27T20:01:01.561651Z",
     "iopub.status.idle": "2022-08-27T20:01:12.342289Z",
     "shell.execute_reply": "2022-08-27T20:01:12.340465Z"
    },
    "jupyter": {
     "outputs_hidden": false
    },
    "papermill": {
     "duration": 10.798815,
     "end_time": "2022-08-27T20:01:12.346343",
     "exception": false,
     "start_time": "2022-08-27T20:01:01.547528",
     "status": "completed"
    },
    "tags": []
   },
   "outputs": [
    {
     "name": "stderr",
     "output_type": "stream",
     "text": [
      "2022-08-27 20:01:12.308640: I tensorflow/core/common_runtime/process_util.cc:146] Creating new thread pool with default inter op setting: 2. Tune using inter_op_parallelism_threads for best performance.\n"
     ]
    },
    {
     "data": {
      "text/plain": [
       "<tf.Tensor: shape=(2,), dtype=int32, numpy=array([2083866985, -350068510], dtype=int32)>"
      ]
     },
     "execution_count": 1,
     "metadata": {},
     "output_type": "execute_result"
    }
   ],
   "source": [
    "# Importing libraries\n",
    "\n",
    "import tensorflow as tf\n",
    "import tensorflow_probability as tfp\n",
    "import numpy as np\n",
    "import os\n",
    "import random\n",
    "import pandas as pd\n",
    "import seaborn as sns\n",
    "import itertools as it\n",
    "import matplotlib.pyplot as plt\n",
    "\n",
    "from datetime import datetime\n",
    "from scipy.stats import multivariate_normal\n",
    "from sklearn.metrics import confusion_matrix\n",
    "from sklearn.metrics import precision_score, recall_score, f1_score, accuracy_score\n",
    "\n",
    "plt.rc('font', size=16)\n",
    "\n",
    "import warnings\n",
    "warnings.filterwarnings('ignore')\n",
    "tf.get_logger().setLevel('ERROR')\n",
    "\n",
    "tfk = tf.keras\n",
    "tfkl = tf.keras.layers\n",
    "\n",
    "# Setting random seed for reproducibility\n",
    "\n",
    "seed = 42\n",
    "random.seed(seed)\n",
    "os.environ['PYTHONHASHSEED'] = str(seed)\n",
    "np.random.seed(seed)\n",
    "tf.random.set_seed(seed)\n",
    "tf.compat.v1.set_random_seed(seed)\n",
    "tfp.random.sanitize_seed(seed)"
   ]
  },
  {
   "cell_type": "code",
   "execution_count": 2,
   "id": "31ebf022",
   "metadata": {
    "_cell_guid": "f7b8aaaf-e2a4-4cf1-91ac-408cc486d271",
    "_uuid": "3eb831a9-a39f-44a0-932b-eeec86611ae2",
    "collapsed": false,
    "execution": {
     "iopub.execute_input": "2022-08-27T20:01:12.371098Z",
     "iopub.status.busy": "2022-08-27T20:01:12.370357Z",
     "iopub.status.idle": "2022-08-27T20:01:12.502474Z",
     "shell.execute_reply": "2022-08-27T20:01:12.501016Z"
    },
    "jupyter": {
     "outputs_hidden": false
    },
    "papermill": {
     "duration": 0.148129,
     "end_time": "2022-08-27T20:01:12.505868",
     "exception": false,
     "start_time": "2022-08-27T20:01:12.357739",
     "status": "completed"
    },
    "tags": []
   },
   "outputs": [
    {
     "data": {
      "text/html": [
       "<div>\n",
       "<style scoped>\n",
       "    .dataframe tbody tr th:only-of-type {\n",
       "        vertical-align: middle;\n",
       "    }\n",
       "\n",
       "    .dataframe tbody tr th {\n",
       "        vertical-align: top;\n",
       "    }\n",
       "\n",
       "    .dataframe thead th {\n",
       "        text-align: right;\n",
       "    }\n",
       "</style>\n",
       "<table border=\"1\" class=\"dataframe\">\n",
       "  <thead>\n",
       "    <tr style=\"text-align: right;\">\n",
       "      <th></th>\n",
       "      <th>Consumption</th>\n",
       "      <th>Anomaly</th>\n",
       "      <th>DayOfWeek</th>\n",
       "    </tr>\n",
       "  </thead>\n",
       "  <tbody>\n",
       "    <tr>\n",
       "      <th>0</th>\n",
       "      <td>950.0</td>\n",
       "      <td>0</td>\n",
       "      <td>2</td>\n",
       "    </tr>\n",
       "    <tr>\n",
       "      <th>1</th>\n",
       "      <td>939.0</td>\n",
       "      <td>0</td>\n",
       "      <td>2</td>\n",
       "    </tr>\n",
       "    <tr>\n",
       "      <th>2</th>\n",
       "      <td>943.0</td>\n",
       "      <td>0</td>\n",
       "      <td>2</td>\n",
       "    </tr>\n",
       "    <tr>\n",
       "      <th>3</th>\n",
       "      <td>971.0</td>\n",
       "      <td>0</td>\n",
       "      <td>2</td>\n",
       "    </tr>\n",
       "    <tr>\n",
       "      <th>4</th>\n",
       "      <td>1014.0</td>\n",
       "      <td>0</td>\n",
       "      <td>2</td>\n",
       "    </tr>\n",
       "    <tr>\n",
       "      <th>...</th>\n",
       "      <td>...</td>\n",
       "      <td>...</td>\n",
       "      <td>...</td>\n",
       "    </tr>\n",
       "    <tr>\n",
       "      <th>34939</th>\n",
       "      <td>886.0</td>\n",
       "      <td>0</td>\n",
       "      <td>1</td>\n",
       "    </tr>\n",
       "    <tr>\n",
       "      <th>34940</th>\n",
       "      <td>883.0</td>\n",
       "      <td>0</td>\n",
       "      <td>1</td>\n",
       "    </tr>\n",
       "    <tr>\n",
       "      <th>34941</th>\n",
       "      <td>868.0</td>\n",
       "      <td>0</td>\n",
       "      <td>1</td>\n",
       "    </tr>\n",
       "    <tr>\n",
       "      <th>34942</th>\n",
       "      <td>872.0</td>\n",
       "      <td>0</td>\n",
       "      <td>1</td>\n",
       "    </tr>\n",
       "    <tr>\n",
       "      <th>34943</th>\n",
       "      <td>874.0</td>\n",
       "      <td>0</td>\n",
       "      <td>1</td>\n",
       "    </tr>\n",
       "  </tbody>\n",
       "</table>\n",
       "<p>34944 rows × 3 columns</p>\n",
       "</div>"
      ],
      "text/plain": [
       "       Consumption  Anomaly  DayOfWeek\n",
       "0            950.0        0          2\n",
       "1            939.0        0          2\n",
       "2            943.0        0          2\n",
       "3            971.0        0          2\n",
       "4           1014.0        0          2\n",
       "...            ...      ...        ...\n",
       "34939        886.0        0          1\n",
       "34940        883.0        0          1\n",
       "34941        868.0        0          1\n",
       "34942        872.0        0          1\n",
       "34943        874.0        0          1\n",
       "\n",
       "[34944 rows x 3 columns]"
      ]
     },
     "execution_count": 2,
     "metadata": {},
     "output_type": "execute_result"
    }
   ],
   "source": [
    "# Opening the dataframe and setting the index\n",
    "Univariate_data = pd.read_csv('../input/electricity-demand/Univariate_Labeled.csv', parse_dates=['DateTime'])\n",
    "Univariate_data['DayOfWeek'] = Univariate_data['DateTime'].dt.day_of_week # Introducing the day of the week\n",
    "Univariate_data.drop(columns='DateTime', inplace=True) # Removing DateTime (we have the day of the week)\n",
    "Univariate_data = Univariate_data[0:34944] # 52 weeks\n",
    "Univariate_data"
   ]
  },
  {
   "cell_type": "code",
   "execution_count": 3,
   "id": "93726197",
   "metadata": {
    "_cell_guid": "0b868acb-9f53-435d-9cb8-95a0cf570f96",
    "_uuid": "8ff5a788-2470-4ecc-ad3d-7937ebcd09ed",
    "collapsed": false,
    "execution": {
     "iopub.execute_input": "2022-08-27T20:01:12.531290Z",
     "iopub.status.busy": "2022-08-27T20:01:12.530908Z",
     "iopub.status.idle": "2022-08-27T20:01:12.982671Z",
     "shell.execute_reply": "2022-08-27T20:01:12.981207Z"
    },
    "jupyter": {
     "outputs_hidden": false
    },
    "papermill": {
     "duration": 0.469946,
     "end_time": "2022-08-27T20:01:12.987496",
     "exception": false,
     "start_time": "2022-08-27T20:01:12.517550",
     "status": "completed"
    },
    "tags": []
   },
   "outputs": [
    {
     "data": {
      "image/png": "[encoded data removed]",
      "text/plain": [
       "<Figure size 1800x432 with 3 Axes>"
      ]
     },
     "metadata": {
      "needs_background": "light"
     },
     "output_type": "display_data"
    }
   ],
   "source": [
    "# Function used to plot time series\n",
    "def inspect_dataframe(df, columns):\n",
    "    figs, axs = plt.subplots(len(columns), 1, sharex=True, figsize=(25,6))\n",
    "    for i, col in enumerate(columns):\n",
    "        axs[i].plot(df[col])\n",
    "        axs[i].set_title(col)\n",
    "    plt.show()\n",
    "    \n",
    "# Plotting time series\n",
    "inspect_dataframe(Univariate_data, Univariate_data.columns)"
   ]
  },
  {
   "cell_type": "code",
   "execution_count": 4,
   "id": "32d03b7d",
   "metadata": {
    "_cell_guid": "56548da1-9cba-4a2b-b2df-a96fd55fa322",
    "_uuid": "14440f5d-c56d-4a3f-80f8-76e599635d14",
    "collapsed": false,
    "execution": {
     "iopub.execute_input": "2022-08-27T20:01:13.028536Z",
     "iopub.status.busy": "2022-08-27T20:01:13.027768Z",
     "iopub.status.idle": "2022-08-27T20:01:13.050100Z",
     "shell.execute_reply": "2022-08-27T20:01:13.048713Z"
    },
    "jupyter": {
     "outputs_hidden": false
    },
    "papermill": {
     "duration": 0.041153,
     "end_time": "2022-08-27T20:01:13.053100",
     "exception": false,
     "start_time": "2022-08-27T20:01:13.011947",
     "status": "completed"
    },
    "tags": []
   },
   "outputs": [
    {
     "data": {
      "text/html": [
       "<div>\n",
       "<style scoped>\n",
       "    .dataframe tbody tr th:only-of-type {\n",
       "        vertical-align: middle;\n",
       "    }\n",
       "\n",
       "    .dataframe tbody tr th {\n",
       "        vertical-align: top;\n",
       "    }\n",
       "\n",
       "    .dataframe thead th {\n",
       "        text-align: right;\n",
       "    }\n",
       "</style>\n",
       "<table border=\"1\" class=\"dataframe\">\n",
       "  <thead>\n",
       "    <tr style=\"text-align: right;\">\n",
       "      <th></th>\n",
       "      <th>Consumption</th>\n",
       "      <th>Anomaly</th>\n",
       "      <th>DayOfWeek</th>\n",
       "      <th>Test</th>\n",
       "      <th>Validation</th>\n",
       "      <th>Train_P1</th>\n",
       "      <th>Train_P2</th>\n",
       "      <th>Train_P3</th>\n",
       "    </tr>\n",
       "  </thead>\n",
       "  <tbody>\n",
       "    <tr>\n",
       "      <th>0</th>\n",
       "      <td>950.0</td>\n",
       "      <td>0</td>\n",
       "      <td>2</td>\n",
       "      <td>0</td>\n",
       "      <td>0</td>\n",
       "      <td>0</td>\n",
       "      <td>0</td>\n",
       "      <td>0</td>\n",
       "    </tr>\n",
       "    <tr>\n",
       "      <th>1</th>\n",
       "      <td>939.0</td>\n",
       "      <td>0</td>\n",
       "      <td>2</td>\n",
       "      <td>0</td>\n",
       "      <td>0</td>\n",
       "      <td>0</td>\n",
       "      <td>0</td>\n",
       "      <td>0</td>\n",
       "    </tr>\n",
       "    <tr>\n",
       "      <th>2</th>\n",
       "      <td>943.0</td>\n",
       "      <td>0</td>\n",
       "      <td>2</td>\n",
       "      <td>0</td>\n",
       "      <td>0</td>\n",
       "      <td>0</td>\n",
       "      <td>0</td>\n",
       "      <td>0</td>\n",
       "    </tr>\n",
       "    <tr>\n",
       "      <th>3</th>\n",
       "      <td>971.0</td>\n",
       "      <td>0</td>\n",
       "      <td>2</td>\n",
       "      <td>0</td>\n",
       "      <td>0</td>\n",
       "      <td>0</td>\n",
       "      <td>0</td>\n",
       "      <td>0</td>\n",
       "    </tr>\n",
       "    <tr>\n",
       "      <th>4</th>\n",
       "      <td>1014.0</td>\n",
       "      <td>0</td>\n",
       "      <td>2</td>\n",
       "      <td>0</td>\n",
       "      <td>0</td>\n",
       "      <td>0</td>\n",
       "      <td>0</td>\n",
       "      <td>0</td>\n",
       "    </tr>\n",
       "    <tr>\n",
       "      <th>...</th>\n",
       "      <td>...</td>\n",
       "      <td>...</td>\n",
       "      <td>...</td>\n",
       "      <td>...</td>\n",
       "      <td>...</td>\n",
       "      <td>...</td>\n",
       "      <td>...</td>\n",
       "      <td>...</td>\n",
       "    </tr>\n",
       "    <tr>\n",
       "      <th>34939</th>\n",
       "      <td>886.0</td>\n",
       "      <td>0</td>\n",
       "      <td>1</td>\n",
       "      <td>0</td>\n",
       "      <td>0</td>\n",
       "      <td>0</td>\n",
       "      <td>0</td>\n",
       "      <td>0</td>\n",
       "    </tr>\n",
       "    <tr>\n",
       "      <th>34940</th>\n",
       "      <td>883.0</td>\n",
       "      <td>0</td>\n",
       "      <td>1</td>\n",
       "      <td>0</td>\n",
       "      <td>0</td>\n",
       "      <td>0</td>\n",
       "      <td>0</td>\n",
       "      <td>0</td>\n",
       "    </tr>\n",
       "    <tr>\n",
       "      <th>34941</th>\n",
       "      <td>868.0</td>\n",
       "      <td>0</td>\n",
       "      <td>1</td>\n",
       "      <td>0</td>\n",
       "      <td>0</td>\n",
       "      <td>0</td>\n",
       "      <td>0</td>\n",
       "      <td>0</td>\n",
       "    </tr>\n",
       "    <tr>\n",
       "      <th>34942</th>\n",
       "      <td>872.0</td>\n",
       "      <td>0</td>\n",
       "      <td>1</td>\n",
       "      <td>0</td>\n",
       "      <td>0</td>\n",
       "      <td>0</td>\n",
       "      <td>0</td>\n",
       "      <td>0</td>\n",
       "    </tr>\n",
       "    <tr>\n",
       "      <th>34943</th>\n",
       "      <td>874.0</td>\n",
       "      <td>0</td>\n",
       "      <td>1</td>\n",
       "      <td>0</td>\n",
       "      <td>0</td>\n",
       "      <td>0</td>\n",
       "      <td>0</td>\n",
       "      <td>0</td>\n",
       "    </tr>\n",
       "  </tbody>\n",
       "</table>\n",
       "<p>34944 rows × 8 columns</p>\n",
       "</div>"
      ],
      "text/plain": [
       "       Consumption  Anomaly  DayOfWeek  Test  Validation  Train_P1  Train_P2  \\\n",
       "0            950.0        0          2     0           0         0         0   \n",
       "1            939.0        0          2     0           0         0         0   \n",
       "2            943.0        0          2     0           0         0         0   \n",
       "3            971.0        0          2     0           0         0         0   \n",
       "4           1014.0        0          2     0           0         0         0   \n",
       "...            ...      ...        ...   ...         ...       ...       ...   \n",
       "34939        886.0        0          1     0           0         0         0   \n",
       "34940        883.0        0          1     0           0         0         0   \n",
       "34941        868.0        0          1     0           0         0         0   \n",
       "34942        872.0        0          1     0           0         0         0   \n",
       "34943        874.0        0          1     0           0         0         0   \n",
       "\n",
       "       Train_P3  \n",
       "0             0  \n",
       "1             0  \n",
       "2             0  \n",
       "3             0  \n",
       "4             0  \n",
       "...         ...  \n",
       "34939         0  \n",
       "34940         0  \n",
       "34941         0  \n",
       "34942         0  \n",
       "34943         0  \n",
       "\n",
       "[34944 rows x 8 columns]"
      ]
     },
     "execution_count": 4,
     "metadata": {},
     "output_type": "execute_result"
    }
   ],
   "source": [
    "# Columns used for the following split in train, test and validation sets\n",
    "Univariate_data['Test'] = 0\n",
    "Univariate_data['Validation'] = 0\n",
    "Univariate_data['Train_P1'] = 0\n",
    "Univariate_data['Train_P2'] = 0\n",
    "Univariate_data['Train_P3'] = 0\n",
    "Univariate_data"
   ]
  },
  {
   "cell_type": "code",
   "execution_count": 5,
   "id": "b0478993",
   "metadata": {
    "_cell_guid": "3d004887-bb61-4047-b12b-c998319750e4",
    "_uuid": "db037a30-2590-43a4-90a6-e43d8a5f9f5c",
    "collapsed": false,
    "execution": {
     "iopub.execute_input": "2022-08-27T20:01:13.083283Z",
     "iopub.status.busy": "2022-08-27T20:01:13.082217Z",
     "iopub.status.idle": "2022-08-27T20:01:13.103327Z",
     "shell.execute_reply": "2022-08-27T20:01:13.102431Z"
    },
    "jupyter": {
     "outputs_hidden": false
    },
    "papermill": {
     "duration": 0.03921,
     "end_time": "2022-08-27T20:01:13.106166",
     "exception": false,
     "start_time": "2022-08-27T20:01:13.066956",
     "status": "completed"
    },
    "tags": []
   },
   "outputs": [],
   "source": [
    "# TEST SET\n",
    "\n",
    "# Weeks containing anomalies\n",
    "for i in range (52):\n",
    "    Slice_Univariate_data = Univariate_data.iloc[(i)*672:(i+1)*672]\n",
    "    if(Slice_Univariate_data['Anomaly'].sum() != 0):\n",
    "        Univariate_data.iloc[(i)*672:(i+1)*672]['Test'] = 1"
   ]
  },
  {
   "cell_type": "code",
   "execution_count": 6,
   "id": "885bb96b",
   "metadata": {
    "_cell_guid": "891a4d6e-33a4-4662-b18d-cb9c934fa3dc",
    "_uuid": "dc481384-c6c3-4090-a09a-701e762a4b54",
    "collapsed": false,
    "execution": {
     "iopub.execute_input": "2022-08-27T20:01:13.137502Z",
     "iopub.status.busy": "2022-08-27T20:01:13.136782Z",
     "iopub.status.idle": "2022-08-27T20:01:13.147354Z",
     "shell.execute_reply": "2022-08-27T20:01:13.145778Z"
    },
    "jupyter": {
     "outputs_hidden": false
    },
    "papermill": {
     "duration": 0.02924,
     "end_time": "2022-08-27T20:01:13.150011",
     "exception": false,
     "start_time": "2022-08-27T20:01:13.120771",
     "status": "completed"
    },
    "tags": []
   },
   "outputs": [],
   "source": [
    "# VALIDATION SET\n",
    "\n",
    "# Some random weeks\n",
    "week = [40,41,42,43,44,45,46,47,48,49,50]\n",
    "for j in week:\n",
    "    Slice_Univariate_data = Univariate_data.iloc[(j)*672:(j+1)*672]\n",
    "    Univariate_data.iloc[(j)*672:(j+1)*672]['Validation'] = 1"
   ]
  },
  {
   "cell_type": "code",
   "execution_count": 7,
   "id": "5cd6ee6b",
   "metadata": {
    "_cell_guid": "cd0fc175-5162-4444-8239-3efa2d44f15d",
    "_uuid": "92c3b1b5-59e9-4bfb-a4c1-25696314272d",
    "collapsed": false,
    "execution": {
     "iopub.execute_input": "2022-08-27T20:01:13.180735Z",
     "iopub.status.busy": "2022-08-27T20:01:13.179824Z",
     "iopub.status.idle": "2022-08-27T20:01:13.196187Z",
     "shell.execute_reply": "2022-08-27T20:01:13.195094Z"
    },
    "jupyter": {
     "outputs_hidden": false
    },
    "papermill": {
     "duration": 0.034986,
     "end_time": "2022-08-27T20:01:13.198899",
     "exception": false,
     "start_time": "2022-08-27T20:01:13.163913",
     "status": "completed"
    },
    "tags": []
   },
   "outputs": [],
   "source": [
    "# TRAINING SET\n",
    "\n",
    "week = [5,6,7,8,9,10,11]\n",
    "for j in week:\n",
    "    Slice_Univariate_data = Univariate_data.iloc[(j)*672:(j+1)*672]\n",
    "    Univariate_data.iloc[(j)*672:(j+1)*672]['Train_P1'] = 1\n",
    "    \n",
    "week = [13,14,15,16]\n",
    "for j in week:\n",
    "    Slice_Univariate_data = Univariate_data.iloc[(j)*672:(j+1)*672]\n",
    "    Univariate_data.iloc[(j)*672:(j+1)*672]['Train_P2'] = 1\n",
    "    \n",
    "week = [20,21,22,23,24,25,26,27,28,29,30,31,32,33,34,35,36,37,38]\n",
    "for j in week:\n",
    "    Slice_Univariate_data = Univariate_data.iloc[(j)*672:(j+1)*672]\n",
    "    Univariate_data.iloc[(j)*672:(j+1)*672]['Train_P3'] = 1"
   ]
  },
  {
   "cell_type": "code",
   "execution_count": 8,
   "id": "6e114b51",
   "metadata": {
    "_cell_guid": "c0f13784-8247-430b-8b89-4f93fe3d51fa",
    "_uuid": "0b535ed8-9dc0-4658-9b0f-49db2aac9494",
    "collapsed": false,
    "execution": {
     "iopub.execute_input": "2022-08-27T20:01:13.230297Z",
     "iopub.status.busy": "2022-08-27T20:01:13.229445Z",
     "iopub.status.idle": "2022-08-27T20:01:14.159897Z",
     "shell.execute_reply": "2022-08-27T20:01:14.158505Z"
    },
    "jupyter": {
     "outputs_hidden": false
    },
    "papermill": {
     "duration": 0.949198,
     "end_time": "2022-08-27T20:01:14.162323",
     "exception": false,
     "start_time": "2022-08-27T20:01:13.213125",
     "status": "completed"
    },
    "tags": []
   },
   "outputs": [
    {
     "data": {
      "image/png": "[encoded data removed]",
      "text/plain": [
       "<Figure size 1800x432 with 8 Axes>"
      ]
     },
     "metadata": {
      "needs_background": "light"
     },
     "output_type": "display_data"
    }
   ],
   "source": [
    "# Plotting time series\n",
    "inspect_dataframe(Univariate_data, Univariate_data.columns)"
   ]
  },
  {
   "cell_type": "code",
   "execution_count": 9,
   "id": "ec5173b8",
   "metadata": {
    "_cell_guid": "ba4dc9c1-1a78-4eaa-892f-69ab6f79fbda",
    "_uuid": "9b541bab-3b1a-4f1c-b15f-b5208fda79b8",
    "collapsed": false,
    "execution": {
     "iopub.execute_input": "2022-08-27T20:01:14.196193Z",
     "iopub.status.busy": "2022-08-27T20:01:14.195327Z",
     "iopub.status.idle": "2022-08-27T20:01:14.211248Z",
     "shell.execute_reply": "2022-08-27T20:01:14.210206Z"
    },
    "jupyter": {
     "outputs_hidden": false
    },
    "papermill": {
     "duration": 0.036263,
     "end_time": "2022-08-27T20:01:14.214214",
     "exception": false,
     "start_time": "2022-08-27T20:01:14.177951",
     "status": "completed"
    },
    "tags": []
   },
   "outputs": [],
   "source": [
    "# TRAIN, TEST, VALIDATION SETS\n",
    "X_train_temp_P1 = Univariate_data[Univariate_data['Train_P1']==1].copy()\n",
    "X_train_temp_P2 = Univariate_data[Univariate_data['Train_P2']==1].copy()\n",
    "X_train_temp_P3 = Univariate_data[Univariate_data['Train_P3']==1].copy()\n",
    "X_validation_temp = Univariate_data[Univariate_data['Validation']==1].copy()\n",
    "X_test_temp = Univariate_data[Univariate_data['Test']==1].copy()"
   ]
  },
  {
   "cell_type": "code",
   "execution_count": 10,
   "id": "072134ce",
   "metadata": {
    "_cell_guid": "e4be67ce-6a9e-44ee-9b5d-2937de4b2ff7",
    "_uuid": "b2808fbd-698e-4ee5-886a-f2220bcc4713",
    "collapsed": false,
    "execution": {
     "iopub.execute_input": "2022-08-27T20:01:14.248826Z",
     "iopub.status.busy": "2022-08-27T20:01:14.248332Z",
     "iopub.status.idle": "2022-08-27T20:01:14.259811Z",
     "shell.execute_reply": "2022-08-27T20:01:14.258014Z"
    },
    "jupyter": {
     "outputs_hidden": false
    },
    "papermill": {
     "duration": 0.031799,
     "end_time": "2022-08-27T20:01:14.262060",
     "exception": false,
     "start_time": "2022-08-27T20:01:14.230261",
     "status": "completed"
    },
    "tags": []
   },
   "outputs": [],
   "source": [
    "# Training, Validation and Test set - Anomalies (not used for training)\n",
    "Anomaly_Train_P1 = X_train_temp_P1[['Anomaly']]\n",
    "Anomaly_Train_P2 = X_train_temp_P2[['Anomaly']]\n",
    "Anomaly_Train_P3 = X_train_temp_P3[['Anomaly']]\n",
    "Anomaly_Validation = X_validation_temp[['Anomaly']]\n",
    "Anomaly_Test = X_test_temp[['Anomaly']]"
   ]
  },
  {
   "cell_type": "code",
   "execution_count": 11,
   "id": "8daebce1",
   "metadata": {
    "_cell_guid": "b4248ac1-6543-4507-a18f-043c8e28e0a8",
    "_uuid": "826a021a-a735-4f5c-973b-28b4c6fc4c35",
    "collapsed": false,
    "execution": {
     "iopub.execute_input": "2022-08-27T20:01:14.296999Z",
     "iopub.status.busy": "2022-08-27T20:01:14.295917Z",
     "iopub.status.idle": "2022-08-27T20:01:14.307003Z",
     "shell.execute_reply": "2022-08-27T20:01:14.305739Z"
    },
    "jupyter": {
     "outputs_hidden": false
    },
    "papermill": {
     "duration": 0.032042,
     "end_time": "2022-08-27T20:01:14.309993",
     "exception": false,
     "start_time": "2022-08-27T20:01:14.277951",
     "status": "completed"
    },
    "tags": []
   },
   "outputs": [
    {
     "data": {
      "text/plain": [
       "(20160, 8)"
      ]
     },
     "execution_count": 11,
     "metadata": {},
     "output_type": "execute_result"
    }
   ],
   "source": [
    "temp = pd.concat([X_train_temp_P1,X_train_temp_P2],axis=0)\n",
    "X_train_temp_global = pd.concat([X_train_temp_P3,temp],axis=0)\n",
    "X_train_temp_global.shape"
   ]
  },
  {
   "cell_type": "code",
   "execution_count": 12,
   "id": "190e898b",
   "metadata": {
    "_cell_guid": "a7f37fe7-92cf-4ff9-9360-fba31c495dc3",
    "_uuid": "0d1d67ff-e843-463f-9b9f-5aa9f0e2dab0",
    "collapsed": false,
    "execution": {
     "iopub.execute_input": "2022-08-27T20:01:14.346198Z",
     "iopub.status.busy": "2022-08-27T20:01:14.345499Z",
     "iopub.status.idle": "2022-08-27T20:01:14.371644Z",
     "shell.execute_reply": "2022-08-27T20:01:14.370299Z"
    },
    "jupyter": {
     "outputs_hidden": false
    },
    "papermill": {
     "duration": 0.047107,
     "end_time": "2022-08-27T20:01:14.374418",
     "exception": false,
     "start_time": "2022-08-27T20:01:14.327311",
     "status": "completed"
    },
    "tags": []
   },
   "outputs": [
    {
     "name": "stdout",
     "output_type": "stream",
     "text": [
      "Consumption    1136.788542\n",
      "Anomaly           0.000000\n",
      "DayOfWeek         3.000000\n",
      "Test              0.000000\n",
      "Validation        0.000000\n",
      "Train_P1          0.233333\n",
      "Train_P2          0.133333\n",
      "Train_P3          0.633333\n",
      "dtype: float64 Consumption    282.830237\n",
      "Anomaly          0.000000\n",
      "DayOfWeek        2.000050\n",
      "Test             0.000000\n",
      "Validation       0.000000\n",
      "Train_P1         0.422963\n",
      "Train_P2         0.339943\n",
      "Train_P3         0.481906\n",
      "dtype: float64\n",
      "True\n"
     ]
    }
   ],
   "source": [
    "# STANDARDIZATION\n",
    "\n",
    "mean = X_train_temp_global.mean()\n",
    "std_dev = X_train_temp_global.std()\n",
    "print(mean, std_dev)\n",
    "\n",
    "X_train_raw_P1 = (X_train_temp_P1-mean)/std_dev\n",
    "X_train_raw_P2 = (X_train_temp_P2-mean)/std_dev\n",
    "X_train_raw_P3 = (X_train_temp_P3-mean)/std_dev\n",
    "X_validation_raw = (X_validation_temp-mean)/std_dev\n",
    "X_test_raw = (X_test_temp-mean)/std_dev\n",
    "\n",
    "print(X_test_raw.shape[0]+X_validation_raw.shape[0]+X_train_raw_P1.shape[0]+X_train_raw_P2.shape[0]+X_train_raw_P3.shape[0] == Univariate_data.shape[0])"
   ]
  },
  {
   "cell_type": "code",
   "execution_count": 13,
   "id": "4326f26a",
   "metadata": {
    "_cell_guid": "f17d2b3e-bbe1-4213-bb9d-6f8620c26cd4",
    "_uuid": "94fb1c52-9f27-44bd-858b-df352bc452a0",
    "collapsed": false,
    "execution": {
     "iopub.execute_input": "2022-08-27T20:01:14.410866Z",
     "iopub.status.busy": "2022-08-27T20:01:14.410100Z",
     "iopub.status.idle": "2022-08-27T20:01:14.425456Z",
     "shell.execute_reply": "2022-08-27T20:01:14.424264Z"
    },
    "jupyter": {
     "outputs_hidden": false
    },
    "papermill": {
     "duration": 0.036529,
     "end_time": "2022-08-27T20:01:14.428171",
     "exception": false,
     "start_time": "2022-08-27T20:01:14.391642",
     "status": "completed"
    },
    "tags": []
   },
   "outputs": [
    {
     "data": {
      "text/plain": [
       "((4704, 2), (2688, 2), (12768, 2), (7392, 2), (7392, 2))"
      ]
     },
     "execution_count": 13,
     "metadata": {},
     "output_type": "execute_result"
    }
   ],
   "source": [
    "# Anomalies are not considered during the training\n",
    "X_train_raw_P1 = X_train_raw_P1[['Consumption', 'DayOfWeek']]\n",
    "X_train_raw_P2 = X_train_raw_P2[['Consumption', 'DayOfWeek']]\n",
    "X_train_raw_P3 = X_train_raw_P3[['Consumption', 'DayOfWeek']]\n",
    "X_validation_raw = X_validation_raw[['Consumption', 'DayOfWeek']]\n",
    "X_test_raw = X_test_raw[['Consumption', 'DayOfWeek']]\n",
    "X_train_raw_P1.shape, X_train_raw_P2.shape, X_train_raw_P3.shape, X_validation_raw.shape, X_test_raw.shape"
   ]
  },
  {
   "cell_type": "code",
   "execution_count": 14,
   "id": "bbcb735f",
   "metadata": {
    "_cell_guid": "73210715-3cef-4fcb-af15-028c9447b908",
    "_uuid": "ddffce21-944d-4824-ab65-39d37041284f",
    "collapsed": false,
    "execution": {
     "iopub.execute_input": "2022-08-27T20:01:14.463490Z",
     "iopub.status.busy": "2022-08-27T20:01:14.463068Z",
     "iopub.status.idle": "2022-08-27T20:01:14.478105Z",
     "shell.execute_reply": "2022-08-27T20:01:14.476914Z"
    },
    "jupyter": {
     "outputs_hidden": false
    },
    "papermill": {
     "duration": 0.036458,
     "end_time": "2022-08-27T20:01:14.481071",
     "exception": false,
     "start_time": "2022-08-27T20:01:14.444613",
     "status": "completed"
    },
    "tags": []
   },
   "outputs": [],
   "source": [
    "X_train_raw_P1.reset_index(inplace=True)\n",
    "X_train_raw_P1.drop(columns='index', inplace=True)\n",
    "X_train_raw_P2.reset_index(inplace=True)\n",
    "X_train_raw_P2.drop(columns='index', inplace=True)\n",
    "X_train_raw_P3.reset_index(inplace=True)\n",
    "X_train_raw_P3.drop(columns='index', inplace=True)\n",
    "X_validation_raw.reset_index(inplace=True)\n",
    "X_validation_raw.drop(columns='index', inplace=True)\n",
    "X_test_raw.reset_index(inplace=True)\n",
    "X_test_raw.drop(columns='index', inplace=True)"
   ]
  },
  {
   "cell_type": "code",
   "execution_count": 15,
   "id": "6fbe7ac5",
   "metadata": {
    "_cell_guid": "72d28c55-baf6-4d5b-b9c0-331c959d5044",
    "_uuid": "fc8e7ebd-517d-469f-ad2e-0c3664d15aab",
    "collapsed": false,
    "execution": {
     "iopub.execute_input": "2022-08-27T20:01:14.516009Z",
     "iopub.status.busy": "2022-08-27T20:01:14.515275Z",
     "iopub.status.idle": "2022-08-27T20:01:14.852703Z",
     "shell.execute_reply": "2022-08-27T20:01:14.851640Z"
    },
    "jupyter": {
     "outputs_hidden": false
    },
    "papermill": {
     "duration": 0.358138,
     "end_time": "2022-08-27T20:01:14.855605",
     "exception": false,
     "start_time": "2022-08-27T20:01:14.497467",
     "status": "completed"
    },
    "tags": []
   },
   "outputs": [
    {
     "data": {
      "image/png": "[encoded data removed]",
      "text/plain": [
       "<Figure size 1800x432 with 2 Axes>"
      ]
     },
     "metadata": {
      "needs_background": "light"
     },
     "output_type": "display_data"
    }
   ],
   "source": [
    "# Plotting time series\n",
    "inspect_dataframe(X_test_raw, X_test_raw.columns)"
   ]
  },
  {
   "cell_type": "markdown",
   "id": "98d42757",
   "metadata": {
    "_cell_guid": "6d449b0c-d484-4a42-a6d7-b19c87357ec6",
    "_uuid": "96dce09e-6f77-44d1-98f7-7675e9579190",
    "papermill": {
     "duration": 0.016728,
     "end_time": "2022-08-27T20:01:14.890418",
     "exception": false,
     "start_time": "2022-08-27T20:01:14.873690",
     "status": "completed"
    },
    "tags": []
   },
   "source": [
    "## Training - Preparation"
   ]
  },
  {
   "cell_type": "code",
   "execution_count": 16,
   "id": "940009dd",
   "metadata": {
    "_cell_guid": "940d6c9b-eeb2-4b88-84e0-0802a2bb8912",
    "_uuid": "daee88fd-c068-4b12-aa80-f5dff1c7b11b",
    "collapsed": false,
    "execution": {
     "iopub.execute_input": "2022-08-27T20:01:14.927919Z",
     "iopub.status.busy": "2022-08-27T20:01:14.927407Z",
     "iopub.status.idle": "2022-08-27T20:01:14.933555Z",
     "shell.execute_reply": "2022-08-27T20:01:14.932277Z"
    },
    "jupyter": {
     "outputs_hidden": false
    },
    "papermill": {
     "duration": 0.02836,
     "end_time": "2022-08-27T20:01:14.936092",
     "exception": false,
     "start_time": "2022-08-27T20:01:14.907732",
     "status": "completed"
    },
    "tags": []
   },
   "outputs": [],
   "source": [
    "# Training parameters\n",
    "\n",
    "window = 672       # 1 week\n",
    "stride = 4         # 1 hour\n",
    "latent_dim = 10    # Latent dimension\n",
    "epochs = 200       # Number of epochs (no early stopping)\n",
    "batch_size = 8     # Batch size\n",
    "M = 50              # Montecarlo\n",
    "alpha = 0.5\n",
    "f = 5              # Filters' dimensions"
   ]
  },
  {
   "cell_type": "code",
   "execution_count": 17,
   "id": "d05c7f13",
   "metadata": {
    "_cell_guid": "127a26fb-591f-4417-9b38-16c42dccc173",
    "_uuid": "f906f98f-8fd5-4920-b51c-2e60f3e5753c",
    "collapsed": false,
    "execution": {
     "iopub.execute_input": "2022-08-27T20:01:14.974926Z",
     "iopub.status.busy": "2022-08-27T20:01:14.974011Z",
     "iopub.status.idle": "2022-08-27T20:01:14.985042Z",
     "shell.execute_reply": "2022-08-27T20:01:14.984132Z"
    },
    "jupyter": {
     "outputs_hidden": false
    },
    "papermill": {
     "duration": 0.034443,
     "end_time": "2022-08-27T20:01:14.988155",
     "exception": false,
     "start_time": "2022-08-27T20:01:14.953712",
     "status": "completed"
    },
    "tags": []
   },
   "outputs": [],
   "source": [
    "# Function used to create (overlapped) windows that we will use for the training\n",
    "def build_sequences(df, anomaly, window=window, stride=stride):\n",
    "    \n",
    "    assert len(df) > window\n",
    "    dataset = []\n",
    "    anomalies = []\n",
    "    temp_df = df.copy().values\n",
    "    temp_an = anomaly.copy().values\n",
    "    padding_len = (len(df)-window)%stride # Padding computed considering the stride\n",
    "    print(\"PADDING: \" + str(padding_len)) #DEBUG\n",
    "\n",
    "    if(padding_len != 0):\n",
    "        # Compute padding length\n",
    "        padding_len = window - len(df)%window\n",
    "        padding = np.zeros((padding_len,temp_df.shape[1]), dtype='float32')\n",
    "        temp_df = np.concatenate((padding,df))\n",
    "        padding = np.zeros((padding_len,temp_an.shape[1]), dtype='float32')\n",
    "        temp_an = np.concatenate((padding,temp_an))\n",
    "        assert len(temp_df) % window == 0\n",
    "\n",
    "    for idx in np.arange(0,len(temp_df)-window+1,stride):\n",
    "        dataset.append(temp_df[idx:idx+window])\n",
    "        anomalies.append(temp_an[idx:idx+window])\n",
    "\n",
    "    dataset = np.array(dataset)\n",
    "    anomalies = np.array(anomalies)\n",
    "    return dataset, anomalies"
   ]
  },
  {
   "cell_type": "code",
   "execution_count": 18,
   "id": "bc97f838",
   "metadata": {
    "_cell_guid": "471c98cb-3e35-4bdc-a5ae-c94a83e02a05",
    "_uuid": "3f2e022b-79be-47de-b47f-63e563cfceaa",
    "collapsed": false,
    "execution": {
     "iopub.execute_input": "2022-08-27T20:01:15.028894Z",
     "iopub.status.busy": "2022-08-27T20:01:15.028388Z",
     "iopub.status.idle": "2022-08-27T20:01:15.163819Z",
     "shell.execute_reply": "2022-08-27T20:01:15.162364Z"
    },
    "jupyter": {
     "outputs_hidden": false
    },
    "papermill": {
     "duration": 0.159843,
     "end_time": "2022-08-27T20:01:15.167562",
     "exception": false,
     "start_time": "2022-08-27T20:01:15.007719",
     "status": "completed"
    },
    "tags": []
   },
   "outputs": [
    {
     "name": "stdout",
     "output_type": "stream",
     "text": [
      "PADDING: 0\n",
      "PADDING: 0\n",
      "PADDING: 0\n",
      "PADDING: 0\n"
     ]
    },
    {
     "data": {
      "text/plain": [
       "((1009, 672, 2), (505, 672, 2), (3025, 672, 2))"
      ]
     },
     "execution_count": 18,
     "metadata": {},
     "output_type": "execute_result"
    }
   ],
   "source": [
    "X_train_P1, A_train_P1 = build_sequences(X_train_raw_P1, Anomaly_Train_P1, window=window, stride=stride)\n",
    "X_train_P2, A_train_P2 = build_sequences(X_train_raw_P2, Anomaly_Train_P2, window=window, stride=stride)\n",
    "X_train_P3, A_train_P3 = build_sequences(X_train_raw_P3, Anomaly_Train_P3, window=window, stride=stride)\n",
    "X_val, A_val = build_sequences(X_validation_raw, Anomaly_Validation, window=window, stride=stride)\n",
    "X_train_P1.shape,X_train_P2.shape,X_train_P3.shape"
   ]
  },
  {
   "cell_type": "code",
   "execution_count": 19,
   "id": "8e11d1c5",
   "metadata": {
    "_cell_guid": "e33bf5bd-d577-4220-9098-1496ab7b4f1b",
    "_uuid": "b0750675-575e-4d9d-8277-592585c47f0b",
    "collapsed": false,
    "execution": {
     "iopub.execute_input": "2022-08-27T20:01:15.206658Z",
     "iopub.status.busy": "2022-08-27T20:01:15.205391Z",
     "iopub.status.idle": "2022-08-27T20:01:15.296368Z",
     "shell.execute_reply": "2022-08-27T20:01:15.294944Z"
    },
    "jupyter": {
     "outputs_hidden": false
    },
    "papermill": {
     "duration": 0.113437,
     "end_time": "2022-08-27T20:01:15.299056",
     "exception": false,
     "start_time": "2022-08-27T20:01:15.185619",
     "status": "completed"
    },
    "tags": []
   },
   "outputs": [
    {
     "data": {
      "text/plain": [
       "((4539, 672, 2), (4539, 672, 1))"
      ]
     },
     "execution_count": 19,
     "metadata": {},
     "output_type": "execute_result"
    }
   ],
   "source": [
    "X_train = np.concatenate([X_train_P1,X_train_P2],axis=0)\n",
    "X_train = np.concatenate([X_train,X_train_P3],axis=0)\n",
    "A_train = np.concatenate([A_train_P1,A_train_P2],axis=0)\n",
    "A_train = np.concatenate([A_train,A_train_P3],axis=0)\n",
    "X_train.shape, A_train.shape"
   ]
  },
  {
   "cell_type": "code",
   "execution_count": 20,
   "id": "c6febec4",
   "metadata": {
    "_cell_guid": "6319e399-35ef-496a-a086-ff185c4d0e9e",
    "_uuid": "e677c80f-596e-49b2-b9ec-c73a8f4ded4c",
    "collapsed": false,
    "execution": {
     "iopub.execute_input": "2022-08-27T20:01:15.354038Z",
     "iopub.status.busy": "2022-08-27T20:01:15.353086Z",
     "iopub.status.idle": "2022-08-27T20:01:15.366569Z",
     "shell.execute_reply": "2022-08-27T20:01:15.364273Z"
    },
    "jupyter": {
     "outputs_hidden": false
    },
    "papermill": {
     "duration": 0.044002,
     "end_time": "2022-08-27T20:01:15.370030",
     "exception": false,
     "start_time": "2022-08-27T20:01:15.326028",
     "status": "completed"
    },
    "tags": []
   },
   "outputs": [
    {
     "name": "stdout",
     "output_type": "stream",
     "text": [
      "PADDING: 0\n"
     ]
    },
    {
     "data": {
      "text/plain": [
       "(11, 672, 2)"
      ]
     },
     "execution_count": 20,
     "metadata": {},
     "output_type": "execute_result"
    }
   ],
   "source": [
    "X_test, A_test = build_sequences(X_test_raw, Anomaly_Test, window=window, stride=window) \n",
    "X_test.shape"
   ]
  },
  {
   "cell_type": "markdown",
   "id": "39b2e33f",
   "metadata": {
    "_cell_guid": "b735187e-d292-4590-b47b-d55c1ac81029",
    "_uuid": "6f057977-c693-4a0b-bf3b-b88d262aa719",
    "papermill": {
     "duration": 0.019396,
     "end_time": "2022-08-27T20:01:15.410847",
     "exception": false,
     "start_time": "2022-08-27T20:01:15.391451",
     "status": "completed"
    },
    "tags": []
   },
   "source": [
    "## Building the model + Training"
   ]
  },
  {
   "cell_type": "code",
   "execution_count": 21,
   "id": "cc9c891e",
   "metadata": {
    "_cell_guid": "2d9f076e-ae1a-4720-b536-fca5412f83f4",
    "_uuid": "8a40c700-5345-4ee4-95fa-07f1e57173eb",
    "collapsed": false,
    "execution": {
     "iopub.execute_input": "2022-08-27T20:01:15.453528Z",
     "iopub.status.busy": "2022-08-27T20:01:15.452801Z",
     "iopub.status.idle": "2022-08-27T20:01:15.895862Z",
     "shell.execute_reply": "2022-08-27T20:01:15.894397Z"
    },
    "jupyter": {
     "outputs_hidden": false
    },
    "papermill": {
     "duration": 0.471241,
     "end_time": "2022-08-27T20:01:15.901698",
     "exception": false,
     "start_time": "2022-08-27T20:01:15.430457",
     "status": "completed"
    },
    "tags": []
   },
   "outputs": [
    {
     "name": "stdout",
     "output_type": "stream",
     "text": [
      "Model: \"encoder\"\n",
      "__________________________________________________________________________________________________\n",
      "Layer (type)                    Output Shape         Param #     Connected to                     \n",
      "==================================================================================================\n",
      "input_1 (InputLayer)            [(None, 672, 2)]     0                                            \n",
      "__________________________________________________________________________________________________\n",
      "conv1d (Conv1D)                 (None, 672, 16)      176         input_1[0][0]                    \n",
      "__________________________________________________________________________________________________\n",
      "max_pooling1d (MaxPooling1D)    (None, 336, 16)      0           conv1d[0][0]                     \n",
      "__________________________________________________________________________________________________\n",
      "conv1d_1 (Conv1D)               (None, 336, 32)      2592        max_pooling1d[0][0]              \n",
      "__________________________________________________________________________________________________\n",
      "max_pooling1d_1 (MaxPooling1D)  (None, 168, 32)      0           conv1d_1[0][0]                   \n",
      "__________________________________________________________________________________________________\n",
      "conv1d_2 (Conv1D)               (None, 168, 64)      10304       max_pooling1d_1[0][0]            \n",
      "__________________________________________________________________________________________________\n",
      "max_pooling1d_2 (MaxPooling1D)  (None, 84, 64)       0           conv1d_2[0][0]                   \n",
      "__________________________________________________________________________________________________\n",
      "flatten (Flatten)               (None, 5376)         0           max_pooling1d_2[0][0]            \n",
      "__________________________________________________________________________________________________\n",
      "dense (Dense)                   (None, 10)           53770       flatten[0][0]                    \n",
      "__________________________________________________________________________________________________\n",
      "latent_mu (Dense)               (None, 10)           110         dense[0][0]                      \n",
      "__________________________________________________________________________________________________\n",
      "latent_log_var (Dense)          (None, 10)           110         dense[0][0]                      \n",
      "__________________________________________________________________________________________________\n",
      "z (Lambda)                      (None, 10)           0           latent_mu[0][0]                  \n",
      "                                                                 latent_log_var[0][0]             \n",
      "==================================================================================================\n",
      "Total params: 67,062\n",
      "Trainable params: 67,062\n",
      "Non-trainable params: 0\n",
      "__________________________________________________________________________________________________\n",
      "None\n"
     ]
    }
   ],
   "source": [
    "# Building the model\n",
    "\n",
    "from keras import backend as K\n",
    "from tensorflow.keras import Input\n",
    "\n",
    "input_shape = X_train.shape[1:]\n",
    "output_shape = X_train.shape[1:]\n",
    "\n",
    "###########\n",
    "# ENCODER #\n",
    "###########\n",
    "\n",
    "encoder_input = tf.keras.Input(shape=input_shape)\n",
    "\n",
    "x = tfkl.Conv1D(16, f, activation=\"relu\", strides=1, padding=\"same\")(encoder_input)\n",
    "x = tfkl.MaxPool1D(pool_size=2, strides=2)(x)\n",
    "x = tfkl.Conv1D(32, f, activation=\"relu\", strides=1, padding=\"same\")(x)\n",
    "x = tfkl.MaxPool1D(pool_size=2, strides=2)(x)\n",
    "x = tfkl.Conv1D(64, f, activation=\"relu\", strides=1, padding=\"same\")(x)\n",
    "x = tfkl.MaxPool1D(pool_size=2, strides=2)(x)\n",
    "\n",
    "x = tfkl.Flatten()(x)\n",
    "x = tfkl.Dense(latent_dim, activation='linear')(x)\n",
    "\n",
    "# Latent representation: mean + log of std.dev.\n",
    "z_mu = tfkl.Dense(latent_dim, name='latent_mu')(x) # Mean\n",
    "z_log_var = tfkl.Dense(latent_dim, name='latent_log_var')(x) # Log Var\n",
    "\n",
    "# Reparametrization trick\n",
    "def sample_z1(args):\n",
    "    z_mean, z_log_var = args\n",
    "    eps = tf.keras.backend.random_normal(shape=(K.shape(z_mean)[0], K.int_shape(z_mean)[1]))\n",
    "    return z_mean + tf.exp(alpha * z_log_var) * eps\n",
    "    \n",
    "\n",
    "# Sampling a vector from the latent distribution\n",
    "z = tfkl.Lambda(sample_z1, output_shape=(latent_dim, ), name='z')([z_mu, z_log_var])\n",
    "\n",
    "encoder = tfk.Model(encoder_input, [z_mu, z_log_var, z], name='encoder')\n",
    "print(encoder.summary())"
   ]
  },
  {
   "cell_type": "code",
   "execution_count": 22,
   "id": "17572641",
   "metadata": {
    "_cell_guid": "6c1d6b54-49d6-48f1-a6f3-38175181fc5f",
    "_uuid": "840b7a8f-5a52-439d-9686-79891debd8d1",
    "collapsed": false,
    "execution": {
     "iopub.execute_input": "2022-08-27T20:01:15.943249Z",
     "iopub.status.busy": "2022-08-27T20:01:15.941991Z",
     "iopub.status.idle": "2022-08-27T20:01:16.103627Z",
     "shell.execute_reply": "2022-08-27T20:01:16.102398Z"
    },
    "jupyter": {
     "outputs_hidden": false
    },
    "papermill": {
     "duration": 0.185457,
     "end_time": "2022-08-27T20:01:16.106468",
     "exception": false,
     "start_time": "2022-08-27T20:01:15.921011",
     "status": "completed"
    },
    "tags": []
   },
   "outputs": [
    {
     "name": "stdout",
     "output_type": "stream",
     "text": [
      "Model: \"decoder\"\n",
      "__________________________________________________________________________________________________\n",
      "Layer (type)                    Output Shape         Param #     Connected to                     \n",
      "==================================================================================================\n",
      "decoder_input (InputLayer)      [(None, 10)]         0                                            \n",
      "__________________________________________________________________________________________________\n",
      "dense_1 (Dense)                 (None, 84)           924         decoder_input[0][0]              \n",
      "__________________________________________________________________________________________________\n",
      "reshape (Reshape)               (None, 42, 2)        0           dense_1[0][0]                    \n",
      "__________________________________________________________________________________________________\n",
      "conv1d_transpose (Conv1DTranspo (None, 84, 64)       704         reshape[0][0]                    \n",
      "__________________________________________________________________________________________________\n",
      "conv1d_transpose_1 (Conv1DTrans (None, 168, 32)      10272       conv1d_transpose[0][0]           \n",
      "__________________________________________________________________________________________________\n",
      "conv1d_transpose_2 (Conv1DTrans (None, 336, 16)      2576        conv1d_transpose_1[0][0]         \n",
      "__________________________________________________________________________________________________\n",
      "conv1d_transpose_3 (Conv1DTrans (None, 672, 2)       162         conv1d_transpose_2[0][0]         \n",
      "__________________________________________________________________________________________________\n",
      "mu (Conv1D)                     (None, 672, 2)       10          conv1d_transpose_3[0][0]         \n",
      "__________________________________________________________________________________________________\n",
      "log_var (Conv1D)                (None, 672, 2)       10          conv1d_transpose_3[0][0]         \n",
      "__________________________________________________________________________________________________\n",
      "decoder_output (Lambda)         (None, 672, 2)       0           mu[0][0]                         \n",
      "                                                                 log_var[0][0]                    \n",
      "==================================================================================================\n",
      "Total params: 14,658\n",
      "Trainable params: 14,658\n",
      "Non-trainable params: 0\n",
      "__________________________________________________________________________________________________\n"
     ]
    }
   ],
   "source": [
    "###########\n",
    "# DECODER #\n",
    "###########\n",
    "\n",
    "decoder_input = Input(shape=(latent_dim, ), name='decoder_input')\n",
    "x = tfkl.Dense(units=42*X_train.shape[2])(decoder_input)\n",
    "x = tfkl.Reshape((42,X_train.shape[2]))(x)\n",
    "x = tfkl.Conv1DTranspose(64,f,2, padding='same', activation='relu')(x)\n",
    "x = tfkl.Conv1DTranspose(32,f,2, padding='same', activation='relu')(x)\n",
    "x = tfkl.Conv1DTranspose(16,f,2, padding='same', activation='relu')(x)\n",
    "x = tfkl.Conv1DTranspose(X_train.shape[2],f,2, padding='same', activation='linear')(x)\n",
    "\n",
    "mu = tfkl.Conv1D(X_train.shape[2],2,1, padding='same', name='mu')(x)\n",
    "log_var = tfkl.Conv1D(X_train.shape[2],2,1, padding='same', name='log_var')(x)\n",
    "\n",
    "# RECONSTRUCTION FOR THE PLOT (NO TRAINING)\n",
    "\n",
    "# Reparametrization trick\n",
    "def sample_z2(args):\n",
    "    z_mean, z_log_var = args\n",
    "    eps = tf.keras.backend.random_normal(shape=(K.shape(z_mean)[0], K.int_shape(z_mean)[1], K.int_shape(z_mean)[2]))\n",
    "    return z_mean + tf.exp(alpha * z_log_var) * eps\n",
    "\n",
    "decoder_output = tfkl.Lambda(sample_z2, name='decoder_output')([mu, log_var])\n",
    "\n",
    "# Define and summarize decoder model\n",
    "decoder = tfk.Model(decoder_input, [mu, log_var, decoder_output], name='decoder')\n",
    "\n",
    "decoder.summary()"
   ]
  },
  {
   "cell_type": "code",
   "execution_count": 23,
   "id": "1e55471d",
   "metadata": {
    "_cell_guid": "6abeeb1d-b047-4fe9-a3e5-ed5bb59bf70d",
    "_uuid": "36931ab9-f55f-428f-8cad-6d52e9521aec",
    "collapsed": false,
    "execution": {
     "iopub.execute_input": "2022-08-27T20:01:16.147144Z",
     "iopub.status.busy": "2022-08-27T20:01:16.146730Z",
     "iopub.status.idle": "2022-08-27T20:01:16.171974Z",
     "shell.execute_reply": "2022-08-27T20:01:16.170436Z"
    },
    "jupyter": {
     "outputs_hidden": false
    },
    "papermill": {
     "duration": 0.049617,
     "end_time": "2022-08-27T20:01:16.175199",
     "exception": false,
     "start_time": "2022-08-27T20:01:16.125582",
     "status": "completed"
    },
    "tags": []
   },
   "outputs": [],
   "source": [
    "class VAE(tfk.Model):\n",
    "    def __init__(self, encoder, decoder, **kwargs):\n",
    "        super(VAE, self).__init__(**kwargs)\n",
    "        self.encoder = encoder\n",
    "        self.decoder = decoder\n",
    "        self.total_loss_tracker = tfk.metrics.Mean(name=\"total_loss\")\n",
    "        self.likelihood_tracker = tfk.metrics.Mean(name=\"likelihood\")\n",
    "        self.kl_loss_tracker = tfk.metrics.Mean(name=\"kl_loss\")\n",
    "        self.reconstruction_loss_tracker = tfk.metrics.Mean(name=\"reconstruction_loss\")\n",
    "\n",
    "    @property\n",
    "    def metrics(self):\n",
    "        return [\n",
    "            self.total_loss_tracker,\n",
    "            self.likelihood_tracker,\n",
    "            self.kl_loss_tracker,\n",
    "            self.reconstruction_loss_tracker\n",
    "        ]\n",
    "    \n",
    "\n",
    "    def train_step(self, data):\n",
    "        with tf.GradientTape() as tape:\n",
    "            \n",
    "            # Reparametrization trick\n",
    "            def sample_z2(args):\n",
    "                z_mean, z_log_var = args\n",
    "                eps = tf.keras.backend.random_normal(shape=(K.shape(z_mean)[0], K.int_shape(z_mean)[1], K.int_shape(z_mean)[2]))\n",
    "                return z_mean + tf.exp(alpha * z_log_var) * eps\n",
    "            \n",
    "            encoder_mu, encoder_log_var, z = self.encoder(data)\n",
    "            decoder_mu, decoder_log_var, _ = self.decoder(z)\n",
    "            decoder_sigma = tf.exp(alpha * decoder_log_var)\n",
    "                             \n",
    "            pdf_normal = tfp.distributions.MultivariateNormalDiag(decoder_mu, decoder_sigma, validate_args=True, name='Gauss')\n",
    "            likelihood = -(pdf_normal.log_prob(data))\n",
    "            likelihood = tf.reduce_mean(likelihood, axis=-1)\n",
    "            likelihood = tf.reduce_mean(likelihood, axis=-1)\n",
    "                \n",
    "            decoder_output = tfkl.Lambda(sample_z2, output_shape=input_shape, name='decoder_output')([decoder_mu, decoder_log_var])\n",
    "            reconstruction_loss = tf.reduce_mean(tf.reduce_sum(tfk.losses.mse(data, decoder_output), axis=1))\n",
    "            \n",
    "            kl_loss = -0.5 * (1 + encoder_log_var - tf.square(encoder_mu) - tf.exp(encoder_log_var))\n",
    "            kl_loss = tf.reduce_mean(tf.reduce_sum(kl_loss, axis=1))\n",
    "\n",
    "            total_loss = likelihood + kl_loss + reconstruction_loss\n",
    "            \n",
    "        grads = tape.gradient(total_loss, self.trainable_weights)\n",
    "        self.optimizer.apply_gradients(zip(grads, self.trainable_weights))\n",
    "        self.total_loss_tracker.update_state(total_loss)\n",
    "        self.reconstruction_loss_tracker.update_state(reconstruction_loss)\n",
    "        self.likelihood_tracker.update_state(likelihood)\n",
    "        self.kl_loss_tracker.update_state(kl_loss)\n",
    "        \n",
    "        return {\n",
    "            \"loss\": self.total_loss_tracker.result(),\n",
    "            \"likelihood\": self.likelihood_tracker.result(),\n",
    "            \"kl_loss\": self.kl_loss_tracker.result(),\n",
    "            \"reconstruction_loss\": self.reconstruction_loss_tracker.result()\n",
    "        }\n",
    "    \n",
    "    \n",
    "    \n",
    "    def test_step(self, data): # https://github.com/keras-team/keras-io/issues/38\n",
    "\n",
    "        # Reparametrization trick\n",
    "        def sample_z2(args):\n",
    "            z_mean, z_log_var = args\n",
    "            eps = tf.keras.backend.random_normal(shape=(K.shape(z_mean)[0], K.int_shape(z_mean)[1], K.int_shape(z_mean)[2]))\n",
    "            return z_mean + tf.exp(alpha * z_log_var) * eps\n",
    "            \n",
    "        encoder_mu, encoder_log_var, z = self.encoder(data)\n",
    "        decoder_mu, decoder_log_var, _ = self.decoder(z)\n",
    "        decoder_sigma = tf.exp(alpha * decoder_log_var)\n",
    "                             \n",
    "        pdf_normal = tfp.distributions.MultivariateNormalDiag(decoder_mu, decoder_sigma, validate_args=True, name='Gauss')\n",
    "        likelihood = -(pdf_normal.log_prob(data))\n",
    "        likelihood = tf.reduce_mean(likelihood, axis=-1)\n",
    "        likelihood = tf.reduce_mean(likelihood, axis=-1)\n",
    "                \n",
    "        decoder_output = tfkl.Lambda(sample_z2, output_shape=input_shape, name='decoder_output')([decoder_mu, decoder_log_var])\n",
    "        reconstruction_loss = tf.reduce_mean(tf.reduce_sum(tfk.losses.mse(data, decoder_output), axis=1))\n",
    "            \n",
    "        kl_loss = -0.5 * (1 + encoder_log_var - tf.square(encoder_mu) - tf.exp(encoder_log_var))\n",
    "        kl_loss = tf.reduce_mean(tf.reduce_sum(kl_loss, axis=1))\n",
    "\n",
    "        total_loss = likelihood + kl_loss + reconstruction_loss\n",
    "            \n",
    "        self.total_loss_tracker.update_state(total_loss)\n",
    "        self.likelihood_tracker.update_state(likelihood)\n",
    "        self.kl_loss_tracker.update_state(kl_loss)\n",
    "        self.reconstruction_loss_tracker.update_state(reconstruction_loss)\n",
    "        \n",
    "        return {\n",
    "            \"loss\": self.total_loss_tracker.result(),\n",
    "            \"likelihood\": self.likelihood_tracker.result(),\n",
    "            \"kl_loss\": self.kl_loss_tracker.result(),\n",
    "            \"reconstruction_loss\": self.reconstruction_loss_tracker.result()\n",
    "        }"
   ]
  },
  {
   "cell_type": "code",
   "execution_count": 24,
   "id": "4f4d3ce8",
   "metadata": {
    "_cell_guid": "3a2dfb11-ea50-4bf2-9c89-4ac6e312f9e4",
    "_uuid": "893a7da0-7591-4c34-b59e-96e748d40a55",
    "collapsed": false,
    "execution": {
     "iopub.execute_input": "2022-08-27T20:01:16.215996Z",
     "iopub.status.busy": "2022-08-27T20:01:16.215567Z",
     "iopub.status.idle": "2022-08-27T20:45:00.236507Z",
     "shell.execute_reply": "2022-08-27T20:45:00.234463Z"
    },
    "jupyter": {
     "outputs_hidden": false
    },
    "papermill": {
     "duration": 2624.045934,
     "end_time": "2022-08-27T20:45:00.240137",
     "exception": false,
     "start_time": "2022-08-27T20:01:16.194203",
     "status": "completed"
    },
    "tags": []
   },
   "outputs": [
    {
     "name": "stderr",
     "output_type": "stream",
     "text": [
      "2022-08-27 20:01:16.383710: I tensorflow/compiler/mlir/mlir_graph_optimization_pass.cc:185] None of the MLIR Optimization Passes are enabled (registered 2)\n"
     ]
    },
    {
     "name": "stdout",
     "output_type": "stream",
     "text": [
      "Epoch 1/150\n"
     ]
    },
    {
     "name": "stderr",
     "output_type": "stream",
     "text": [
      "2022-08-27 20:01:16.698132: W tensorflow/python/util/util.cc:348] Sets are not currently considered sequences, but this may change in the future, so consider avoiding using them.\n"
     ]
    },
    {
     "name": "stdout",
     "output_type": "stream",
     "text": [
      "568/568 [==============================] - 19s 27ms/step - loss: 822.0356 - likelihood: 11.6427 - kl_loss: 18.8175 - reconstruction_loss: 495.1473 - val_loss: 364.8180 - val_likelihood: 15.0314 - val_kl_loss: 20.6253 - val_reconstruction_loss: 329.1612\n",
      "Epoch 2/150\n",
      "568/568 [==============================] - 14s 24ms/step - loss: 289.6503 - likelihood: 15.4199 - kl_loss: 20.9793 - reconstruction_loss: 241.8400 - val_loss: 309.4760 - val_likelihood: 15.4315 - val_kl_loss: 21.6427 - val_reconstruction_loss: 272.4019\n",
      "Epoch 3/150\n",
      "568/568 [==============================] - 14s 25ms/step - loss: 227.8014 - likelihood: 13.8018 - kl_loss: 22.8247 - reconstruction_loss: 169.4312 - val_loss: 214.1186 - val_likelihood: 15.1390 - val_kl_loss: 24.2972 - val_reconstruction_loss: 174.6824\n",
      "Epoch 4/150\n",
      "568/568 [==============================] - 13s 24ms/step - loss: 164.4247 - likelihood: 9.6349 - kl_loss: 23.4077 - reconstruction_loss: 124.2375 - val_loss: 173.3802 - val_likelihood: 7.4368 - val_kl_loss: 21.7814 - val_reconstruction_loss: 144.1621\n",
      "Epoch 5/150\n",
      "568/568 [==============================] - 14s 24ms/step - loss: 141.7951 - likelihood: 7.9563 - kl_loss: 23.2337 - reconstruction_loss: 106.3535 - val_loss: 149.5300 - val_likelihood: 6.1244 - val_kl_loss: 22.5545 - val_reconstruction_loss: 120.8511\n",
      "Epoch 6/150\n",
      "568/568 [==============================] - 14s 25ms/step - loss: 125.2999 - likelihood: 6.6387 - kl_loss: 23.0405 - reconstruction_loss: 91.8193 - val_loss: 137.7359 - val_likelihood: 6.6686 - val_kl_loss: 24.3376 - val_reconstruction_loss: 106.7296\n",
      "Epoch 7/150\n",
      "568/568 [==============================] - 14s 24ms/step - loss: 110.5054 - likelihood: 5.4823 - kl_loss: 22.8188 - reconstruction_loss: 77.4243 - val_loss: 113.1490 - val_likelihood: 4.3021 - val_kl_loss: 23.9636 - val_reconstruction_loss: 84.8834\n",
      "Epoch 8/150\n",
      "568/568 [==============================] - 15s 26ms/step - loss: 94.2351 - likelihood: 4.4562 - kl_loss: 22.6092 - reconstruction_loss: 64.0258 - val_loss: 99.9392 - val_likelihood: 4.0165 - val_kl_loss: 22.5722 - val_reconstruction_loss: 73.3506\n",
      "Epoch 9/150\n",
      "568/568 [==============================] - 14s 25ms/step - loss: 82.8294 - likelihood: 3.7434 - kl_loss: 22.3307 - reconstruction_loss: 54.9210 - val_loss: 91.4051 - val_likelihood: 3.7458 - val_kl_loss: 22.4267 - val_reconstruction_loss: 65.2325\n",
      "Epoch 10/150\n",
      "568/568 [==============================] - 14s 25ms/step - loss: 74.2940 - likelihood: 3.0916 - kl_loss: 22.2215 - reconstruction_loss: 47.3247 - val_loss: 80.8484 - val_likelihood: 3.1080 - val_kl_loss: 22.4412 - val_reconstruction_loss: 55.2992\n",
      "Epoch 11/150\n",
      "568/568 [==============================] - 14s 24ms/step - loss: 68.5159 - likelihood: 2.6833 - kl_loss: 22.1388 - reconstruction_loss: 42.3363 - val_loss: 71.8593 - val_likelihood: 2.4476 - val_kl_loss: 21.8132 - val_reconstruction_loss: 47.5984\n",
      "Epoch 12/150\n",
      "568/568 [==============================] - 14s 24ms/step - loss: 62.9766 - likelihood: 2.2678 - kl_loss: 21.9568 - reconstruction_loss: 37.7886 - val_loss: 67.8110 - val_likelihood: 2.5125 - val_kl_loss: 20.8627 - val_reconstruction_loss: 44.4358\n",
      "Epoch 13/150\n",
      "568/568 [==============================] - 15s 26ms/step - loss: 58.4040 - likelihood: 1.9192 - kl_loss: 21.5278 - reconstruction_loss: 34.0171 - val_loss: 63.3724 - val_likelihood: 2.1226 - val_kl_loss: 20.3626 - val_reconstruction_loss: 40.8873\n",
      "Epoch 14/150\n",
      "568/568 [==============================] - 14s 24ms/step - loss: 54.8269 - likelihood: 1.6437 - kl_loss: 20.9205 - reconstruction_loss: 31.3087 - val_loss: 58.7440 - val_likelihood: 2.1494 - val_kl_loss: 20.5018 - val_reconstruction_loss: 36.0928\n",
      "Epoch 15/150\n",
      "568/568 [==============================] - 14s 25ms/step - loss: 50.6506 - likelihood: 1.2890 - kl_loss: 20.3907 - reconstruction_loss: 27.9947 - val_loss: 57.1743 - val_likelihood: 2.1166 - val_kl_loss: 19.3727 - val_reconstruction_loss: 35.6850\n",
      "Epoch 16/150\n",
      "568/568 [==============================] - 14s 25ms/step - loss: 47.3500 - likelihood: 1.0827 - kl_loss: 19.9858 - reconstruction_loss: 25.7769 - val_loss: 58.2988 - val_likelihood: 2.6518 - val_kl_loss: 19.6926 - val_reconstruction_loss: 35.9544\n",
      "Epoch 17/150\n",
      "568/568 [==============================] - 14s 25ms/step - loss: 45.2217 - likelihood: 0.9217 - kl_loss: 19.4489 - reconstruction_loss: 24.1934 - val_loss: 54.1580 - val_likelihood: 2.2282 - val_kl_loss: 19.4390 - val_reconstruction_loss: 32.4908\n",
      "Epoch 18/150\n",
      "568/568 [==============================] - 14s 24ms/step - loss: 42.7141 - likelihood: 0.7306 - kl_loss: 19.0465 - reconstruction_loss: 22.4527 - val_loss: 46.7521 - val_likelihood: 1.2892 - val_kl_loss: 17.9834 - val_reconstruction_loss: 27.4796\n",
      "Epoch 19/150\n",
      "568/568 [==============================] - 14s 24ms/step - loss: 41.1713 - likelihood: 0.6372 - kl_loss: 18.8776 - reconstruction_loss: 21.2844 - val_loss: 45.4502 - val_likelihood: 1.2124 - val_kl_loss: 18.9468 - val_reconstruction_loss: 25.2910\n",
      "Epoch 20/150\n",
      "568/568 [==============================] - 15s 26ms/step - loss: 39.8801 - likelihood: 0.5616 - kl_loss: 18.7128 - reconstruction_loss: 20.3312 - val_loss: 43.5552 - val_likelihood: 1.0544 - val_kl_loss: 18.7513 - val_reconstruction_loss: 23.7495\n",
      "Epoch 21/150\n",
      "568/568 [==============================] - 14s 24ms/step - loss: 39.0933 - likelihood: 0.5476 - kl_loss: 18.5260 - reconstruction_loss: 19.7625 - val_loss: 47.4340 - val_likelihood: 1.9121 - val_kl_loss: 17.5453 - val_reconstruction_loss: 27.9766\n",
      "Epoch 22/150\n",
      "568/568 [==============================] - 14s 25ms/step - loss: 37.8467 - likelihood: 0.4842 - kl_loss: 18.4137 - reconstruction_loss: 19.0288 - val_loss: 43.2353 - val_likelihood: 1.5259 - val_kl_loss: 17.8361 - val_reconstruction_loss: 23.8733\n",
      "Epoch 23/150\n",
      "568/568 [==============================] - 14s 24ms/step - loss: 37.4471 - likelihood: 0.4747 - kl_loss: 18.2733 - reconstruction_loss: 18.6258 - val_loss: 40.9360 - val_likelihood: 1.0837 - val_kl_loss: 17.8263 - val_reconstruction_loss: 22.0259\n",
      "Epoch 24/150\n",
      "568/568 [==============================] - 14s 24ms/step - loss: 37.0351 - likelihood: 0.4406 - kl_loss: 18.1118 - reconstruction_loss: 18.2206 - val_loss: 42.5850 - val_likelihood: 1.5939 - val_kl_loss: 17.3727 - val_reconstruction_loss: 23.6184\n",
      "Epoch 25/150\n",
      "568/568 [==============================] - 15s 26ms/step - loss: 36.2194 - likelihood: 0.4050 - kl_loss: 17.6346 - reconstruction_loss: 17.9086 - val_loss: 40.5619 - val_likelihood: 1.5109 - val_kl_loss: 16.4871 - val_reconstruction_loss: 22.5640\n",
      "Epoch 26/150\n",
      "568/568 [==============================] - 14s 25ms/step - loss: 35.0487 - likelihood: 0.2976 - kl_loss: 17.2636 - reconstruction_loss: 17.2481 - val_loss: 40.7904 - val_likelihood: 1.3500 - val_kl_loss: 16.7240 - val_reconstruction_loss: 22.7164\n",
      "Epoch 27/150\n",
      "568/568 [==============================] - 15s 26ms/step - loss: 34.5897 - likelihood: 0.2709 - kl_loss: 17.0711 - reconstruction_loss: 16.9902 - val_loss: 50.5245 - val_likelihood: 3.2701 - val_kl_loss: 17.9122 - val_reconstruction_loss: 29.3422\n",
      "Epoch 28/150\n",
      "568/568 [==============================] - 14s 24ms/step - loss: 34.6423 - likelihood: 0.2279 - kl_loss: 17.0383 - reconstruction_loss: 16.8410 - val_loss: 40.9683 - val_likelihood: 1.2756 - val_kl_loss: 16.9058 - val_reconstruction_loss: 22.7869\n",
      "Epoch 29/150\n",
      "568/568 [==============================] - 15s 26ms/step - loss: 33.8654 - likelihood: 0.1817 - kl_loss: 16.9399 - reconstruction_loss: 16.5327 - val_loss: 40.4056 - val_likelihood: 1.2902 - val_kl_loss: 17.7204 - val_reconstruction_loss: 21.3950\n",
      "Epoch 30/150\n",
      "568/568 [==============================] - 14s 24ms/step - loss: 33.3819 - likelihood: 0.1333 - kl_loss: 16.9552 - reconstruction_loss: 16.2052 - val_loss: 38.9268 - val_likelihood: 1.3149 - val_kl_loss: 16.4671 - val_reconstruction_loss: 21.1448\n",
      "Epoch 31/150\n",
      "568/568 [==============================] - 14s 24ms/step - loss: 32.9530 - likelihood: 0.1081 - kl_loss: 16.8100 - reconstruction_loss: 16.0302 - val_loss: 38.7597 - val_likelihood: 1.2594 - val_kl_loss: 16.3504 - val_reconstruction_loss: 21.1499\n",
      "Epoch 32/150\n",
      "568/568 [==============================] - 14s 25ms/step - loss: 32.9325 - likelihood: 0.1119 - kl_loss: 16.8375 - reconstruction_loss: 16.0833 - val_loss: 39.2415 - val_likelihood: 1.0738 - val_kl_loss: 16.7647 - val_reconstruction_loss: 21.4030\n",
      "Epoch 33/150\n",
      "568/568 [==============================] - 14s 25ms/step - loss: 32.9250 - likelihood: 0.0779 - kl_loss: 16.7464 - reconstruction_loss: 15.8999 - val_loss: 40.1979 - val_likelihood: 1.3237 - val_kl_loss: 16.7602 - val_reconstruction_loss: 22.1139\n",
      "Epoch 34/150\n",
      "568/568 [==============================] - 15s 26ms/step - loss: 32.2853 - likelihood: 0.0355 - kl_loss: 16.6304 - reconstruction_loss: 15.6478 - val_loss: 38.3356 - val_likelihood: 0.8876 - val_kl_loss: 17.3813 - val_reconstruction_loss: 20.0667\n",
      "Epoch 35/150\n",
      "568/568 [==============================] - 14s 24ms/step - loss: 32.6205 - likelihood: 0.0325 - kl_loss: 16.5779 - reconstruction_loss: 15.6772 - val_loss: 41.1351 - val_likelihood: 1.3854 - val_kl_loss: 17.8219 - val_reconstruction_loss: 21.9278\n",
      "Epoch 36/150\n",
      "568/568 [==============================] - 14s 25ms/step - loss: 32.0032 - likelihood: -0.0079 - kl_loss: 16.6517 - reconstruction_loss: 15.3817 - val_loss: 38.2820 - val_likelihood: 0.9686 - val_kl_loss: 17.4158 - val_reconstruction_loss: 19.8977\n",
      "Epoch 37/150\n",
      "568/568 [==============================] - 14s 25ms/step - loss: 31.9777 - likelihood: -0.0297 - kl_loss: 16.4720 - reconstruction_loss: 15.3335 - val_loss: 37.6640 - val_likelihood: 1.0938 - val_kl_loss: 15.8554 - val_reconstruction_loss: 20.7147\n",
      "Epoch 38/150\n",
      "568/568 [==============================] - 15s 26ms/step - loss: 32.0345 - likelihood: -0.0263 - kl_loss: 16.4355 - reconstruction_loss: 15.3334 - val_loss: 36.2271 - val_likelihood: 0.6956 - val_kl_loss: 16.4186 - val_reconstruction_loss: 19.1129\n",
      "Epoch 39/150\n",
      "568/568 [==============================] - 14s 25ms/step - loss: 31.7832 - likelihood: -0.0419 - kl_loss: 16.3884 - reconstruction_loss: 15.2808 - val_loss: 40.8737 - val_likelihood: 1.4980 - val_kl_loss: 16.1228 - val_reconstruction_loss: 23.2529\n",
      "Epoch 40/150\n",
      "568/568 [==============================] - 14s 24ms/step - loss: 31.3277 - likelihood: -0.0478 - kl_loss: 16.2435 - reconstruction_loss: 15.1789 - val_loss: 38.3942 - val_likelihood: 1.1517 - val_kl_loss: 16.0792 - val_reconstruction_loss: 21.1634\n",
      "Epoch 41/150\n",
      "568/568 [==============================] - 14s 25ms/step - loss: 31.0568 - likelihood: -0.0435 - kl_loss: 16.1450 - reconstruction_loss: 15.2280 - val_loss: 36.9747 - val_likelihood: 0.9646 - val_kl_loss: 15.4405 - val_reconstruction_loss: 20.5696\n",
      "Epoch 42/150\n",
      "568/568 [==============================] - 14s 25ms/step - loss: 30.9370 - likelihood: -0.1174 - kl_loss: 16.0528 - reconstruction_loss: 14.9007 - val_loss: 36.5596 - val_likelihood: 0.6736 - val_kl_loss: 16.4518 - val_reconstruction_loss: 19.4343\n",
      "Epoch 43/150\n",
      "568/568 [==============================] - 14s 25ms/step - loss: 31.0199 - likelihood: -0.0733 - kl_loss: 15.9039 - reconstruction_loss: 15.0933 - val_loss: 37.0169 - val_likelihood: 0.8454 - val_kl_loss: 16.2315 - val_reconstruction_loss: 19.9401\n",
      "Epoch 44/150\n",
      "568/568 [==============================] - 14s 25ms/step - loss: 30.3727 - likelihood: -0.1536 - kl_loss: 15.6492 - reconstruction_loss: 14.7766 - val_loss: 36.7530 - val_likelihood: 0.8526 - val_kl_loss: 15.5885 - val_reconstruction_loss: 20.3119\n",
      "Epoch 45/150\n",
      "568/568 [==============================] - 14s 25ms/step - loss: 30.2515 - likelihood: 0.0227 - kl_loss: 15.6315 - reconstruction_loss: 15.4391 - val_loss: 36.5586 - val_likelihood: 0.9319 - val_kl_loss: 15.3455 - val_reconstruction_loss: 20.2812\n",
      "Epoch 46/150\n",
      "568/568 [==============================] - 14s 25ms/step - loss: 30.3389 - likelihood: -0.1613 - kl_loss: 15.3286 - reconstruction_loss: 14.8282 - val_loss: 34.7399 - val_likelihood: 0.9480 - val_kl_loss: 14.7945 - val_reconstruction_loss: 18.9973\n",
      "Epoch 47/150\n",
      "568/568 [==============================] - 14s 24ms/step - loss: 29.3851 - likelihood: -0.2023 - kl_loss: 14.9257 - reconstruction_loss: 14.5291 - val_loss: 33.4848 - val_likelihood: 0.4352 - val_kl_loss: 15.2676 - val_reconstruction_loss: 17.7820\n",
      "Epoch 48/150\n",
      "568/568 [==============================] - 14s 25ms/step - loss: 28.7858 - likelihood: -0.2211 - kl_loss: 14.4966 - reconstruction_loss: 14.4290 - val_loss: 35.4795 - val_likelihood: 0.9881 - val_kl_loss: 14.2049 - val_reconstruction_loss: 20.2865\n",
      "Epoch 49/150\n",
      "568/568 [==============================] - 14s 25ms/step - loss: 28.0867 - likelihood: -0.2921 - kl_loss: 14.1272 - reconstruction_loss: 14.2134 - val_loss: 33.9561 - val_likelihood: 0.8368 - val_kl_loss: 13.9524 - val_reconstruction_loss: 19.1669\n",
      "Epoch 50/150\n",
      "568/568 [==============================] - 14s 25ms/step - loss: 27.6242 - likelihood: -0.2648 - kl_loss: 13.6879 - reconstruction_loss: 14.2971 - val_loss: 35.5357 - val_likelihood: 0.9848 - val_kl_loss: 13.8997 - val_reconstruction_loss: 20.6511\n",
      "Epoch 51/150\n",
      "568/568 [==============================] - 14s 24ms/step - loss: 27.2200 - likelihood: -0.3288 - kl_loss: 13.5185 - reconstruction_loss: 14.0111 - val_loss: 32.4089 - val_likelihood: 0.8171 - val_kl_loss: 12.8471 - val_reconstruction_loss: 18.7447\n",
      "Epoch 52/150\n",
      "568/568 [==============================] - 14s 25ms/step - loss: 26.9917 - likelihood: -0.3351 - kl_loss: 13.3038 - reconstruction_loss: 13.9869 - val_loss: 32.5430 - val_likelihood: 0.5934 - val_kl_loss: 13.3896 - val_reconstruction_loss: 18.5599\n",
      "Epoch 53/150\n",
      "568/568 [==============================] - 14s 24ms/step - loss: 26.8996 - likelihood: -0.3576 - kl_loss: 13.2363 - reconstruction_loss: 13.8661 - val_loss: 34.7560 - val_likelihood: 0.9753 - val_kl_loss: 13.4336 - val_reconstruction_loss: 20.3471\n",
      "Epoch 54/150\n",
      "568/568 [==============================] - 14s 24ms/step - loss: 26.5968 - likelihood: -0.3774 - kl_loss: 13.2449 - reconstruction_loss: 13.8288 - val_loss: 32.2021 - val_likelihood: 0.8450 - val_kl_loss: 12.6051 - val_reconstruction_loss: 18.7520\n",
      "Epoch 55/150\n",
      "568/568 [==============================] - 15s 27ms/step - loss: 26.7983 - likelihood: -0.3942 - kl_loss: 13.2023 - reconstruction_loss: 13.7866 - val_loss: 32.7986 - val_likelihood: 0.7052 - val_kl_loss: 13.2703 - val_reconstruction_loss: 18.8230\n",
      "Epoch 56/150\n",
      "568/568 [==============================] - 14s 24ms/step - loss: 26.3200 - likelihood: -0.4405 - kl_loss: 13.1365 - reconstruction_loss: 13.5810 - val_loss: 31.6984 - val_likelihood: 0.5289 - val_kl_loss: 13.1966 - val_reconstruction_loss: 17.9729\n",
      "Epoch 57/150\n",
      "568/568 [==============================] - 14s 25ms/step - loss: 26.4213 - likelihood: -0.4390 - kl_loss: 13.2424 - reconstruction_loss: 13.5428 - val_loss: 33.0515 - val_likelihood: 0.7143 - val_kl_loss: 13.3018 - val_reconstruction_loss: 19.0354\n",
      "Epoch 58/150\n",
      "568/568 [==============================] - 14s 24ms/step - loss: 26.2161 - likelihood: -0.4598 - kl_loss: 13.1898 - reconstruction_loss: 13.4380 - val_loss: 33.8244 - val_likelihood: 0.7991 - val_kl_loss: 13.1733 - val_reconstruction_loss: 19.8520\n",
      "Epoch 59/150\n",
      "568/568 [==============================] - 14s 24ms/step - loss: 26.1725 - likelihood: -0.4697 - kl_loss: 13.1242 - reconstruction_loss: 13.4248 - val_loss: 35.2897 - val_likelihood: 1.0356 - val_kl_loss: 12.9880 - val_reconstruction_loss: 21.2661\n",
      "Epoch 60/150\n",
      "568/568 [==============================] - 14s 25ms/step - loss: 26.3444 - likelihood: -0.4561 - kl_loss: 13.0157 - reconstruction_loss: 13.5114 - val_loss: 32.5501 - val_likelihood: 0.7416 - val_kl_loss: 12.7722 - val_reconstruction_loss: 19.0362\n",
      "Epoch 61/150\n",
      "568/568 [==============================] - 13s 24ms/step - loss: 26.1403 - likelihood: -0.4778 - kl_loss: 13.0816 - reconstruction_loss: 13.3954 - val_loss: 32.1357 - val_likelihood: 0.7074 - val_kl_loss: 12.5505 - val_reconstruction_loss: 18.8778\n",
      "Epoch 62/150\n",
      "568/568 [==============================] - 14s 24ms/step - loss: 26.3192 - likelihood: -0.4581 - kl_loss: 13.0988 - reconstruction_loss: 13.4481 - val_loss: 31.5126 - val_likelihood: 0.6126 - val_kl_loss: 12.9272 - val_reconstruction_loss: 17.9728\n",
      "Epoch 63/150\n",
      "568/568 [==============================] - 14s 25ms/step - loss: 25.7622 - likelihood: -0.5225 - kl_loss: 13.0472 - reconstruction_loss: 13.2247 - val_loss: 31.9648 - val_likelihood: 0.7520 - val_kl_loss: 12.5689 - val_reconstruction_loss: 18.6439\n",
      "Epoch 64/150\n",
      "568/568 [==============================] - 14s 24ms/step - loss: 25.5859 - likelihood: -0.5138 - kl_loss: 12.9467 - reconstruction_loss: 13.1911 - val_loss: 34.0883 - val_likelihood: 1.0086 - val_kl_loss: 13.1738 - val_reconstruction_loss: 19.9058\n",
      "Epoch 65/150\n",
      "568/568 [==============================] - 14s 24ms/step - loss: 25.3995 - likelihood: -0.5344 - kl_loss: 12.9751 - reconstruction_loss: 13.1820 - val_loss: 30.9634 - val_likelihood: 0.5384 - val_kl_loss: 12.2659 - val_reconstruction_loss: 18.1591\n",
      "Epoch 66/150\n",
      "568/568 [==============================] - 14s 25ms/step - loss: 25.5632 - likelihood: -0.5347 - kl_loss: 12.9215 - reconstruction_loss: 13.1524 - val_loss: 34.8378 - val_likelihood: 1.1631 - val_kl_loss: 13.6524 - val_reconstruction_loss: 20.0223\n",
      "Epoch 67/150\n",
      "568/568 [==============================] - 14s 24ms/step - loss: 25.4610 - likelihood: -0.5375 - kl_loss: 12.9413 - reconstruction_loss: 13.0953 - val_loss: 32.5442 - val_likelihood: 0.5989 - val_kl_loss: 13.3719 - val_reconstruction_loss: 18.5733\n",
      "Epoch 68/150\n",
      "568/568 [==============================] - 14s 24ms/step - loss: 25.8701 - likelihood: -0.5210 - kl_loss: 13.0062 - reconstruction_loss: 13.1924 - val_loss: 31.3291 - val_likelihood: 0.5413 - val_kl_loss: 13.0647 - val_reconstruction_loss: 17.7231\n",
      "Epoch 69/150\n",
      "568/568 [==============================] - 15s 26ms/step - loss: 25.2507 - likelihood: -0.5814 - kl_loss: 12.9130 - reconstruction_loss: 12.9147 - val_loss: 36.0231 - val_likelihood: 0.9885 - val_kl_loss: 13.8995 - val_reconstruction_loss: 21.1350\n",
      "Epoch 70/150\n",
      "568/568 [==============================] - 14s 24ms/step - loss: 25.5413 - likelihood: -0.5663 - kl_loss: 12.8951 - reconstruction_loss: 13.0517 - val_loss: 31.2915 - val_likelihood: 0.6568 - val_kl_loss: 13.2822 - val_reconstruction_loss: 17.3525\n",
      "Epoch 71/150\n",
      "568/568 [==============================] - 14s 25ms/step - loss: 25.3016 - likelihood: -0.6086 - kl_loss: 12.9552 - reconstruction_loss: 12.8481 - val_loss: 31.6731 - val_likelihood: 0.4342 - val_kl_loss: 13.0953 - val_reconstruction_loss: 18.1436\n",
      "Epoch 72/150\n",
      "568/568 [==============================] - 14s 24ms/step - loss: 25.1613 - likelihood: -0.5894 - kl_loss: 12.8511 - reconstruction_loss: 12.9020 - val_loss: 33.1173 - val_likelihood: 0.9651 - val_kl_loss: 13.1777 - val_reconstruction_loss: 18.9746\n",
      "Epoch 73/150\n",
      "568/568 [==============================] - 13s 24ms/step - loss: 25.3406 - likelihood: -0.5973 - kl_loss: 12.9158 - reconstruction_loss: 12.9415 - val_loss: 35.7582 - val_likelihood: 1.1873 - val_kl_loss: 13.4018 - val_reconstruction_loss: 21.1691\n",
      "Epoch 74/150\n",
      "568/568 [==============================] - 14s 25ms/step - loss: 25.3596 - likelihood: -0.6174 - kl_loss: 12.8027 - reconstruction_loss: 12.8899 - val_loss: 30.9113 - val_likelihood: 0.6087 - val_kl_loss: 12.4442 - val_reconstruction_loss: 17.8584\n",
      "Epoch 75/150\n",
      "568/568 [==============================] - 14s 25ms/step - loss: 25.4736 - likelihood: -0.5813 - kl_loss: 12.9322 - reconstruction_loss: 12.9501 - val_loss: 32.1890 - val_likelihood: 0.6305 - val_kl_loss: 12.9970 - val_reconstruction_loss: 18.5615\n",
      "Epoch 76/150\n",
      "568/568 [==============================] - 14s 24ms/step - loss: 25.0692 - likelihood: -0.6109 - kl_loss: 12.8327 - reconstruction_loss: 12.8287 - val_loss: 35.2582 - val_likelihood: 1.4414 - val_kl_loss: 12.3674 - val_reconstruction_loss: 21.4495\n",
      "Epoch 77/150\n",
      "568/568 [==============================] - 14s 25ms/step - loss: 25.0452 - likelihood: -0.6483 - kl_loss: 12.8292 - reconstruction_loss: 12.7150 - val_loss: 33.8706 - val_likelihood: 0.7450 - val_kl_loss: 13.3989 - val_reconstruction_loss: 19.7267\n",
      "Epoch 78/150\n",
      "568/568 [==============================] - 14s 25ms/step - loss: 24.8671 - likelihood: -0.6251 - kl_loss: 12.9358 - reconstruction_loss: 12.7587 - val_loss: 30.6931 - val_likelihood: 0.2503 - val_kl_loss: 13.3940 - val_reconstruction_loss: 17.0487\n",
      "Epoch 79/150\n",
      "568/568 [==============================] - 14s 24ms/step - loss: 24.9702 - likelihood: -0.6608 - kl_loss: 12.8615 - reconstruction_loss: 12.6609 - val_loss: 33.3975 - val_likelihood: 0.8015 - val_kl_loss: 12.7230 - val_reconstruction_loss: 19.8730\n",
      "Epoch 80/150\n",
      "568/568 [==============================] - 14s 25ms/step - loss: 24.8158 - likelihood: -0.6609 - kl_loss: 12.7792 - reconstruction_loss: 12.6621 - val_loss: 33.4671 - val_likelihood: 0.7716 - val_kl_loss: 12.6911 - val_reconstruction_loss: 20.0044\n",
      "Epoch 81/150\n",
      "568/568 [==============================] - 14s 24ms/step - loss: 24.5042 - likelihood: -0.6607 - kl_loss: 12.7421 - reconstruction_loss: 12.5812 - val_loss: 30.9800 - val_likelihood: 0.3010 - val_kl_loss: 13.2299 - val_reconstruction_loss: 17.4491\n",
      "Epoch 82/150\n",
      "568/568 [==============================] - 14s 24ms/step - loss: 24.9731 - likelihood: -0.6385 - kl_loss: 12.7386 - reconstruction_loss: 12.7832 - val_loss: 32.8428 - val_likelihood: 0.9383 - val_kl_loss: 13.1146 - val_reconstruction_loss: 18.7898\n",
      "Epoch 83/150\n",
      "568/568 [==============================] - 15s 26ms/step - loss: 24.5296 - likelihood: -0.7034 - kl_loss: 12.7564 - reconstruction_loss: 12.4840 - val_loss: 30.3459 - val_likelihood: 0.6490 - val_kl_loss: 12.4319 - val_reconstruction_loss: 17.2651\n",
      "Epoch 84/150\n",
      "568/568 [==============================] - 14s 24ms/step - loss: 24.9540 - likelihood: -0.6757 - kl_loss: 12.8088 - reconstruction_loss: 12.5762 - val_loss: 31.5433 - val_likelihood: 0.3977 - val_kl_loss: 13.0570 - val_reconstruction_loss: 18.0886\n",
      "Epoch 85/150\n",
      "568/568 [==============================] - 14s 24ms/step - loss: 24.3336 - likelihood: -0.7325 - kl_loss: 12.6734 - reconstruction_loss: 12.4041 - val_loss: 30.5849 - val_likelihood: 0.7770 - val_kl_loss: 12.4751 - val_reconstruction_loss: 17.3328\n",
      "Epoch 86/150\n",
      "568/568 [==============================] - 15s 26ms/step - loss: 24.5824 - likelihood: -0.7039 - kl_loss: 12.8137 - reconstruction_loss: 12.4223 - val_loss: 30.5341 - val_likelihood: 0.4878 - val_kl_loss: 12.6604 - val_reconstruction_loss: 17.3860\n",
      "Epoch 87/150\n",
      "568/568 [==============================] - 14s 24ms/step - loss: 24.5649 - likelihood: -0.7013 - kl_loss: 12.5785 - reconstruction_loss: 12.4836 - val_loss: 30.4379 - val_likelihood: 0.1822 - val_kl_loss: 12.9184 - val_reconstruction_loss: 17.3372\n",
      "Epoch 88/150\n",
      "568/568 [==============================] - 15s 26ms/step - loss: 24.1527 - likelihood: -0.7310 - kl_loss: 12.5389 - reconstruction_loss: 12.3893 - val_loss: 30.1936 - val_likelihood: 0.4150 - val_kl_loss: 12.5564 - val_reconstruction_loss: 17.2221\n",
      "Epoch 89/150\n",
      "568/568 [==============================] - 14s 24ms/step - loss: 24.4266 - likelihood: -0.6967 - kl_loss: 12.5095 - reconstruction_loss: 12.5335 - val_loss: 32.6191 - val_likelihood: 0.8983 - val_kl_loss: 12.6460 - val_reconstruction_loss: 19.0747\n",
      "Epoch 90/150\n",
      "568/568 [==============================] - 14s 25ms/step - loss: 24.0294 - likelihood: -0.7368 - kl_loss: 12.4255 - reconstruction_loss: 12.3693 - val_loss: 30.5242 - val_likelihood: 0.2924 - val_kl_loss: 12.4114 - val_reconstruction_loss: 17.8205\n",
      "Epoch 91/150\n",
      "568/568 [==============================] - 14s 24ms/step - loss: 24.0793 - likelihood: -0.7522 - kl_loss: 12.4255 - reconstruction_loss: 12.3432 - val_loss: 30.4254 - val_likelihood: 0.4986 - val_kl_loss: 11.9693 - val_reconstruction_loss: 17.9575\n",
      "Epoch 92/150\n",
      "568/568 [==============================] - 14s 24ms/step - loss: 23.9029 - likelihood: -0.7551 - kl_loss: 12.3678 - reconstruction_loss: 12.3250 - val_loss: 29.7773 - val_likelihood: 0.3741 - val_kl_loss: 12.3486 - val_reconstruction_loss: 17.0546\n",
      "Epoch 93/150\n",
      "568/568 [==============================] - 15s 26ms/step - loss: 23.9957 - likelihood: -0.7527 - kl_loss: 12.3737 - reconstruction_loss: 12.2734 - val_loss: 34.7497 - val_likelihood: 1.1394 - val_kl_loss: 12.4432 - val_reconstruction_loss: 21.1670\n",
      "Epoch 94/150\n",
      "568/568 [==============================] - 14s 24ms/step - loss: 23.3506 - likelihood: -0.8176 - kl_loss: 12.0671 - reconstruction_loss: 12.0740 - val_loss: 31.0955 - val_likelihood: 0.7180 - val_kl_loss: 11.9071 - val_reconstruction_loss: 18.4705\n",
      "Epoch 95/150\n",
      "568/568 [==============================] - 14s 25ms/step - loss: 23.4102 - likelihood: -0.7953 - kl_loss: 11.9271 - reconstruction_loss: 12.1784 - val_loss: 30.1110 - val_likelihood: 0.6432 - val_kl_loss: 11.7743 - val_reconstruction_loss: 17.6936\n",
      "Epoch 96/150\n",
      "568/568 [==============================] - 14s 25ms/step - loss: 23.1697 - likelihood: -0.8127 - kl_loss: 11.8172 - reconstruction_loss: 12.1429 - val_loss: 28.4509 - val_likelihood: 0.0478 - val_kl_loss: 11.6564 - val_reconstruction_loss: 16.7467\n",
      "Epoch 97/150\n",
      "568/568 [==============================] - 14s 25ms/step - loss: 22.7922 - likelihood: -0.8097 - kl_loss: 11.7422 - reconstruction_loss: 12.1299 - val_loss: 27.8542 - val_likelihood: 0.0617 - val_kl_loss: 11.5599 - val_reconstruction_loss: 16.2326\n",
      "Epoch 98/150\n",
      "568/568 [==============================] - 14s 24ms/step - loss: 22.6391 - likelihood: -0.8786 - kl_loss: 11.5537 - reconstruction_loss: 11.9646 - val_loss: 29.1528 - val_likelihood: 0.1327 - val_kl_loss: 11.7658 - val_reconstruction_loss: 17.2542\n",
      "Epoch 99/150\n",
      "568/568 [==============================] - 14s 26ms/step - loss: 22.6933 - likelihood: -0.8653 - kl_loss: 11.5516 - reconstruction_loss: 12.0004 - val_loss: 30.6898 - val_likelihood: 0.4140 - val_kl_loss: 11.5732 - val_reconstruction_loss: 18.7026\n",
      "Epoch 100/150\n",
      "568/568 [==============================] - 14s 25ms/step - loss: 22.5003 - likelihood: -0.9200 - kl_loss: 11.6118 - reconstruction_loss: 11.8188 - val_loss: 28.7932 - val_likelihood: 0.1419 - val_kl_loss: 11.4095 - val_reconstruction_loss: 17.2418\n",
      "Epoch 101/150\n",
      "568/568 [==============================] - 14s 24ms/step - loss: 22.3804 - likelihood: -0.9012 - kl_loss: 11.5079 - reconstruction_loss: 11.8434 - val_loss: 28.6210 - val_likelihood: 0.2145 - val_kl_loss: 11.3785 - val_reconstruction_loss: 17.0279\n",
      "Epoch 102/150\n",
      "568/568 [==============================] - 15s 26ms/step - loss: 22.2839 - likelihood: -0.9012 - kl_loss: 11.4681 - reconstruction_loss: 11.8708 - val_loss: 27.2879 - val_likelihood: -0.1770 - val_kl_loss: 11.5506 - val_reconstruction_loss: 15.9143\n",
      "Epoch 103/150\n",
      "568/568 [==============================] - 14s 24ms/step - loss: 22.1076 - likelihood: -0.9550 - kl_loss: 11.4025 - reconstruction_loss: 11.7403 - val_loss: 27.3531 - val_likelihood: -0.0365 - val_kl_loss: 11.5472 - val_reconstruction_loss: 15.8424\n",
      "Epoch 104/150\n",
      "568/568 [==============================] - 15s 26ms/step - loss: 22.3113 - likelihood: -0.9294 - kl_loss: 11.4626 - reconstruction_loss: 11.7621 - val_loss: 28.0958 - val_likelihood: -0.1135 - val_kl_loss: 12.3473 - val_reconstruction_loss: 15.8621\n",
      "Epoch 105/150\n",
      "568/568 [==============================] - 14s 24ms/step - loss: 22.2076 - likelihood: -0.9583 - kl_loss: 11.4303 - reconstruction_loss: 11.7310 - val_loss: 27.8310 - val_likelihood: 0.0248 - val_kl_loss: 11.5881 - val_reconstruction_loss: 16.2181\n",
      "Epoch 106/150\n",
      "568/568 [==============================] - 14s 24ms/step - loss: 22.1919 - likelihood: -0.9751 - kl_loss: 11.5059 - reconstruction_loss: 11.6503 - val_loss: 29.9300 - val_likelihood: 0.4440 - val_kl_loss: 11.3042 - val_reconstruction_loss: 18.1818\n",
      "Epoch 107/150\n",
      "568/568 [==============================] - 14s 25ms/step - loss: 22.2462 - likelihood: -0.9739 - kl_loss: 11.4257 - reconstruction_loss: 11.6981 - val_loss: 29.0356 - val_likelihood: 0.0228 - val_kl_loss: 12.2012 - val_reconstruction_loss: 16.8116\n",
      "Epoch 108/150\n",
      "568/568 [==============================] - 14s 25ms/step - loss: 21.9340 - likelihood: -0.9778 - kl_loss: 11.4491 - reconstruction_loss: 11.6615 - val_loss: 30.5425 - val_likelihood: 0.5269 - val_kl_loss: 11.1034 - val_reconstruction_loss: 18.9121\n",
      "Epoch 109/150\n",
      "568/568 [==============================] - 14s 25ms/step - loss: 22.1965 - likelihood: -0.9910 - kl_loss: 11.4137 - reconstruction_loss: 11.6120 - val_loss: 27.6273 - val_likelihood: -0.0969 - val_kl_loss: 11.7784 - val_reconstruction_loss: 15.9457\n",
      "Epoch 110/150\n",
      "568/568 [==============================] - 14s 24ms/step - loss: 22.0746 - likelihood: -0.9941 - kl_loss: 11.4882 - reconstruction_loss: 11.6868 - val_loss: 31.9753 - val_likelihood: 1.0004 - val_kl_loss: 11.6540 - val_reconstruction_loss: 19.3209\n",
      "Epoch 111/150\n",
      "568/568 [==============================] - 15s 26ms/step - loss: 22.1168 - likelihood: -1.0325 - kl_loss: 11.4210 - reconstruction_loss: 11.5234 - val_loss: 28.5524 - val_likelihood: 0.2513 - val_kl_loss: 11.2668 - val_reconstruction_loss: 17.0343\n",
      "Epoch 112/150\n",
      "568/568 [==============================] - 14s 24ms/step - loss: 22.0673 - likelihood: -0.9910 - kl_loss: 11.5523 - reconstruction_loss: 11.5930 - val_loss: 29.8153 - val_likelihood: 0.3117 - val_kl_loss: 11.6469 - val_reconstruction_loss: 17.8568\n",
      "Epoch 113/150\n",
      "568/568 [==============================] - 14s 24ms/step - loss: 21.9880 - likelihood: -1.0568 - kl_loss: 11.4151 - reconstruction_loss: 11.4836 - val_loss: 30.2466 - val_likelihood: 0.3442 - val_kl_loss: 11.3968 - val_reconstruction_loss: 18.5055\n",
      "Epoch 114/150\n",
      "568/568 [==============================] - 15s 26ms/step - loss: 21.9075 - likelihood: -1.0186 - kl_loss: 11.4531 - reconstruction_loss: 11.5337 - val_loss: 28.7843 - val_likelihood: 0.1054 - val_kl_loss: 11.5636 - val_reconstruction_loss: 17.1153\n",
      "Epoch 115/150\n",
      "568/568 [==============================] - 14s 24ms/step - loss: 21.9207 - likelihood: -1.1008 - kl_loss: 11.4039 - reconstruction_loss: 11.4116 - val_loss: 30.5056 - val_likelihood: 0.4652 - val_kl_loss: 11.7149 - val_reconstruction_loss: 18.3255\n",
      "Epoch 116/150\n",
      "568/568 [==============================] - 14s 25ms/step - loss: 21.7671 - likelihood: -1.0465 - kl_loss: 11.3959 - reconstruction_loss: 11.4919 - val_loss: 29.3537 - val_likelihood: 0.2502 - val_kl_loss: 11.7879 - val_reconstruction_loss: 17.3156\n",
      "Epoch 117/150\n",
      "568/568 [==============================] - 14s 25ms/step - loss: 21.7201 - likelihood: -1.0875 - kl_loss: 11.3796 - reconstruction_loss: 11.4095 - val_loss: 29.8272 - val_likelihood: 0.1614 - val_kl_loss: 11.7514 - val_reconstruction_loss: 17.9143\n",
      "Epoch 118/150\n",
      "568/568 [==============================] - 14s 24ms/step - loss: 21.7764 - likelihood: -1.0881 - kl_loss: 11.4156 - reconstruction_loss: 11.4337 - val_loss: 31.4005 - val_likelihood: 0.7086 - val_kl_loss: 11.3142 - val_reconstruction_loss: 19.3777\n",
      "Epoch 119/150\n",
      "568/568 [==============================] - 14s 24ms/step - loss: 21.7800 - likelihood: -1.1075 - kl_loss: 11.4328 - reconstruction_loss: 11.3262 - val_loss: 30.4087 - val_likelihood: 0.3281 - val_kl_loss: 11.5364 - val_reconstruction_loss: 18.5441\n",
      "Epoch 120/150\n",
      "568/568 [==============================] - 14s 25ms/step - loss: 21.5601 - likelihood: -1.1094 - kl_loss: 11.3434 - reconstruction_loss: 11.3575 - val_loss: 30.3748 - val_likelihood: 0.4200 - val_kl_loss: 11.9225 - val_reconstruction_loss: 18.0323\n",
      "Epoch 121/150\n",
      "568/568 [==============================] - 14s 25ms/step - loss: 21.5971 - likelihood: -1.1364 - kl_loss: 11.4201 - reconstruction_loss: 11.2556 - val_loss: 29.9807 - val_likelihood: 0.3082 - val_kl_loss: 11.3995 - val_reconstruction_loss: 18.2730\n",
      "Epoch 122/150\n",
      "568/568 [==============================] - 15s 26ms/step - loss: 22.0867 - likelihood: -1.0631 - kl_loss: 11.3367 - reconstruction_loss: 11.5790 - val_loss: 29.5268 - val_likelihood: 0.2701 - val_kl_loss: 11.6765 - val_reconstruction_loss: 17.5802\n",
      "Epoch 123/150\n",
      "568/568 [==============================] - 14s 25ms/step - loss: 21.6202 - likelihood: -1.1193 - kl_loss: 11.4293 - reconstruction_loss: 11.3311 - val_loss: 28.8327 - val_likelihood: 0.0927 - val_kl_loss: 11.5189 - val_reconstruction_loss: 17.2211\n",
      "Epoch 124/150\n",
      "568/568 [==============================] - 14s 24ms/step - loss: 21.4842 - likelihood: -1.0877 - kl_loss: 11.3888 - reconstruction_loss: 11.3617 - val_loss: 29.1371 - val_likelihood: 0.4072 - val_kl_loss: 11.2594 - val_reconstruction_loss: 17.4705\n",
      "Epoch 125/150\n",
      "568/568 [==============================] - 14s 25ms/step - loss: 21.4481 - likelihood: -1.1352 - kl_loss: 11.3716 - reconstruction_loss: 11.2763 - val_loss: 28.2767 - val_likelihood: 0.1878 - val_kl_loss: 11.5597 - val_reconstruction_loss: 16.5292\n",
      "Epoch 126/150\n",
      "568/568 [==============================] - 14s 25ms/step - loss: 21.7289 - likelihood: -1.1150 - kl_loss: 11.3783 - reconstruction_loss: 11.3512 - val_loss: 30.8512 - val_likelihood: 0.4512 - val_kl_loss: 11.7937 - val_reconstruction_loss: 18.6064\n",
      "Epoch 127/150\n",
      "568/568 [==============================] - 14s 25ms/step - loss: 21.6272 - likelihood: -1.1532 - kl_loss: 11.4268 - reconstruction_loss: 11.2007 - val_loss: 29.4965 - val_likelihood: 0.2071 - val_kl_loss: 12.2393 - val_reconstruction_loss: 17.0501\n",
      "Epoch 128/150\n",
      "568/568 [==============================] - 14s 25ms/step - loss: 21.7147 - likelihood: -1.1639 - kl_loss: 11.4435 - reconstruction_loss: 11.2026 - val_loss: 28.7444 - val_likelihood: 0.2284 - val_kl_loss: 11.3141 - val_reconstruction_loss: 17.2018\n",
      "Epoch 129/150\n",
      "568/568 [==============================] - 14s 25ms/step - loss: 21.3097 - likelihood: -1.1655 - kl_loss: 11.3795 - reconstruction_loss: 11.1825 - val_loss: 31.4523 - val_likelihood: 0.8415 - val_kl_loss: 11.6740 - val_reconstruction_loss: 18.9368\n",
      "Epoch 130/150\n",
      "568/568 [==============================] - 14s 25ms/step - loss: 21.7236 - likelihood: -1.1449 - kl_loss: 11.4336 - reconstruction_loss: 11.3133 - val_loss: 30.1611 - val_likelihood: 0.6363 - val_kl_loss: 11.3938 - val_reconstruction_loss: 18.1310\n",
      "Epoch 131/150\n",
      "568/568 [==============================] - 14s 25ms/step - loss: 21.6542 - likelihood: -1.1324 - kl_loss: 11.3598 - reconstruction_loss: 11.2692 - val_loss: 30.3284 - val_likelihood: 0.3182 - val_kl_loss: 12.0083 - val_reconstruction_loss: 18.0019\n",
      "Epoch 132/150\n",
      "568/568 [==============================] - 14s 25ms/step - loss: 21.3803 - likelihood: -1.1740 - kl_loss: 11.3643 - reconstruction_loss: 11.1582 - val_loss: 32.0916 - val_likelihood: 0.9146 - val_kl_loss: 11.2798 - val_reconstruction_loss: 19.8972\n",
      "Epoch 133/150\n",
      "568/568 [==============================] - 14s 25ms/step - loss: 21.3655 - likelihood: -1.1712 - kl_loss: 11.3619 - reconstruction_loss: 11.2004 - val_loss: 29.3134 - val_likelihood: 0.2896 - val_kl_loss: 11.5447 - val_reconstruction_loss: 17.4791\n",
      "Epoch 134/150\n",
      "568/568 [==============================] - 14s 24ms/step - loss: 21.2785 - likelihood: -1.1789 - kl_loss: 11.3752 - reconstruction_loss: 11.1055 - val_loss: 27.2463 - val_likelihood: -0.0634 - val_kl_loss: 11.2600 - val_reconstruction_loss: 16.0497\n",
      "Epoch 135/150\n",
      "568/568 [==============================] - 15s 27ms/step - loss: 21.3994 - likelihood: -1.1971 - kl_loss: 11.4280 - reconstruction_loss: 11.1049 - val_loss: 29.0391 - val_likelihood: 0.0996 - val_kl_loss: 11.6481 - val_reconstruction_loss: 17.2914\n",
      "Epoch 136/150\n",
      "568/568 [==============================] - 14s 24ms/step - loss: 21.8261 - likelihood: -1.0744 - kl_loss: 11.5961 - reconstruction_loss: 11.4761 - val_loss: 27.7862 - val_likelihood: -0.1136 - val_kl_loss: 11.7369 - val_reconstruction_loss: 16.1628\n",
      "Epoch 137/150\n",
      "568/568 [==============================] - 14s 25ms/step - loss: 21.3763 - likelihood: -1.2169 - kl_loss: 11.4194 - reconstruction_loss: 11.1055 - val_loss: 30.3824 - val_likelihood: 0.3283 - val_kl_loss: 11.9192 - val_reconstruction_loss: 18.1350\n",
      "Epoch 138/150\n",
      "568/568 [==============================] - 14s 25ms/step - loss: 21.2452 - likelihood: -1.1605 - kl_loss: 11.3786 - reconstruction_loss: 11.2056 - val_loss: 28.8120 - val_likelihood: 0.0882 - val_kl_loss: 11.5137 - val_reconstruction_loss: 17.2100\n",
      "Epoch 139/150\n",
      "568/568 [==============================] - 14s 24ms/step - loss: 21.2266 - likelihood: -1.2215 - kl_loss: 11.2912 - reconstruction_loss: 11.0669 - val_loss: 29.1545 - val_likelihood: 0.1382 - val_kl_loss: 11.7487 - val_reconstruction_loss: 17.2675\n",
      "Epoch 140/150\n",
      "568/568 [==============================] - 15s 26ms/step - loss: 20.9369 - likelihood: -1.2251 - kl_loss: 11.2654 - reconstruction_loss: 11.0615 - val_loss: 28.0723 - val_likelihood: -0.1686 - val_kl_loss: 11.7878 - val_reconstruction_loss: 16.4531\n",
      "Epoch 141/150\n",
      "568/568 [==============================] - 14s 24ms/step - loss: 21.3091 - likelihood: -1.1937 - kl_loss: 11.3705 - reconstruction_loss: 11.1843 - val_loss: 28.8420 - val_likelihood: 0.1273 - val_kl_loss: 11.3193 - val_reconstruction_loss: 17.3954\n",
      "Epoch 142/150\n",
      "568/568 [==============================] - 13s 24ms/step - loss: 21.3017 - likelihood: -1.1898 - kl_loss: 11.4140 - reconstruction_loss: 11.0964 - val_loss: 27.1575 - val_likelihood: -0.0603 - val_kl_loss: 11.3514 - val_reconstruction_loss: 15.8664\n",
      "Epoch 143/150\n",
      "568/568 [==============================] - 15s 26ms/step - loss: 21.3394 - likelihood: -1.2186 - kl_loss: 11.4057 - reconstruction_loss: 11.0721 - val_loss: 30.5652 - val_likelihood: 0.2924 - val_kl_loss: 11.8998 - val_reconstruction_loss: 18.3729\n",
      "Epoch 144/150\n",
      "568/568 [==============================] - 14s 25ms/step - loss: 21.5503 - likelihood: -1.2141 - kl_loss: 11.4838 - reconstruction_loss: 11.0647 - val_loss: 28.8051 - val_likelihood: 0.0993 - val_kl_loss: 11.4017 - val_reconstruction_loss: 17.3042\n",
      "Epoch 145/150\n",
      "568/568 [==============================] - 14s 25ms/step - loss: 21.1778 - likelihood: -1.1938 - kl_loss: 11.3838 - reconstruction_loss: 11.0872 - val_loss: 27.4633 - val_likelihood: -0.1308 - val_kl_loss: 11.3688 - val_reconstruction_loss: 16.2252\n",
      "Epoch 146/150\n",
      "568/568 [==============================] - 13s 24ms/step - loss: 20.9991 - likelihood: -1.2129 - kl_loss: 11.3523 - reconstruction_loss: 11.0302 - val_loss: 29.1650 - val_likelihood: 0.3234 - val_kl_loss: 11.1957 - val_reconstruction_loss: 17.6460\n",
      "Epoch 147/150\n",
      "568/568 [==============================] - 14s 25ms/step - loss: 21.1670 - likelihood: -1.2258 - kl_loss: 11.3042 - reconstruction_loss: 11.0388 - val_loss: 29.7145 - val_likelihood: 0.6076 - val_kl_loss: 11.6877 - val_reconstruction_loss: 17.4191\n",
      "Epoch 148/150\n",
      "568/568 [==============================] - 14s 25ms/step - loss: 21.3443 - likelihood: -1.1875 - kl_loss: 11.4673 - reconstruction_loss: 11.0767 - val_loss: 27.4882 - val_likelihood: -0.0735 - val_kl_loss: 11.2551 - val_reconstruction_loss: 16.3066\n",
      "Epoch 149/150\n",
      "568/568 [==============================] - 13s 24ms/step - loss: 21.3622 - likelihood: -1.2175 - kl_loss: 11.4184 - reconstruction_loss: 11.0360 - val_loss: 28.4741 - val_likelihood: -0.2387 - val_kl_loss: 11.7744 - val_reconstruction_loss: 16.9383\n",
      "Epoch 150/150\n",
      "568/568 [==============================] - 15s 26ms/step - loss: 21.1702 - likelihood: -1.2356 - kl_loss: 11.3584 - reconstruction_loss: 11.0043 - val_loss: 30.2639 - val_likelihood: 0.3261 - val_kl_loss: 11.9381 - val_reconstruction_loss: 17.9997\n",
      "Epoch 1/200\n",
      "568/568 [==============================] - 14s 24ms/step - loss: 21.4395 - likelihood: -1.2208 - kl_loss: 11.4016 - reconstruction_loss: 11.0879 - val_loss: 28.5583 - val_likelihood: 0.1725 - val_kl_loss: 11.0880 - val_reconstruction_loss: 17.2978\n",
      "Epoch 2/200\n",
      "568/568 [==============================] - 14s 24ms/step - loss: 21.1864 - likelihood: -1.2136 - kl_loss: 11.3910 - reconstruction_loss: 11.0120 - val_loss: 27.0947 - val_likelihood: -0.1394 - val_kl_loss: 11.2518 - val_reconstruction_loss: 15.9823\n",
      "Epoch 3/200\n",
      "568/568 [==============================] - 15s 26ms/step - loss: 20.8850 - likelihood: -1.2599 - kl_loss: 11.3817 - reconstruction_loss: 10.9072 - val_loss: 29.2580 - val_likelihood: 0.2742 - val_kl_loss: 11.5482 - val_reconstruction_loss: 17.4357\n",
      "Epoch 4/200\n",
      "568/568 [==============================] - 14s 24ms/step - loss: 20.9183 - likelihood: -1.2212 - kl_loss: 11.3818 - reconstruction_loss: 11.0146 - val_loss: 29.3747 - val_likelihood: 0.1623 - val_kl_loss: 11.9420 - val_reconstruction_loss: 17.2704\n",
      "Epoch 5/200\n",
      "568/568 [==============================] - 14s 25ms/step - loss: 21.4065 - likelihood: -1.2195 - kl_loss: 11.3194 - reconstruction_loss: 11.0825 - val_loss: 29.6696 - val_likelihood: 0.3039 - val_kl_loss: 11.3835 - val_reconstruction_loss: 17.9823\n",
      "Epoch 6/200\n",
      "568/568 [==============================] - 14s 25ms/step - loss: 20.9859 - likelihood: -1.2369 - kl_loss: 11.3534 - reconstruction_loss: 10.9530 - val_loss: 26.9095 - val_likelihood: -0.1321 - val_kl_loss: 11.0698 - val_reconstruction_loss: 15.9718\n",
      "Epoch 7/200\n",
      "568/568 [==============================] - 13s 24ms/step - loss: 21.1931 - likelihood: -1.2682 - kl_loss: 11.3258 - reconstruction_loss: 10.9345 - val_loss: 27.7969 - val_likelihood: -0.0484 - val_kl_loss: 11.4851 - val_reconstruction_loss: 16.3601\n",
      "Epoch 8/200\n",
      "568/568 [==============================] - 15s 26ms/step - loss: 21.1926 - likelihood: -1.2380 - kl_loss: 11.4137 - reconstruction_loss: 10.9978 - val_loss: 28.0073 - val_likelihood: -0.0763 - val_kl_loss: 11.3404 - val_reconstruction_loss: 16.7431\n",
      "Epoch 9/200\n",
      "568/568 [==============================] - 14s 24ms/step - loss: 20.8722 - likelihood: -1.2439 - kl_loss: 11.3442 - reconstruction_loss: 10.9964 - val_loss: 32.7645 - val_likelihood: 0.7630 - val_kl_loss: 11.5640 - val_reconstruction_loss: 20.4375\n",
      "Epoch 10/200\n",
      "568/568 [==============================] - 15s 26ms/step - loss: 20.8509 - likelihood: -1.2914 - kl_loss: 11.3192 - reconstruction_loss: 10.8838 - val_loss: 28.2564 - val_likelihood: 5.1100e-04 - val_kl_loss: 11.2571 - val_reconstruction_loss: 16.9987\n",
      "Epoch 11/200\n",
      "568/568 [==============================] - 13s 24ms/step - loss: 21.1910 - likelihood: -1.1976 - kl_loss: 11.3904 - reconstruction_loss: 11.0542 - val_loss: 29.3123 - val_likelihood: 0.0542 - val_kl_loss: 11.5870 - val_reconstruction_loss: 17.6711\n",
      "Epoch 12/200\n",
      "568/568 [==============================] - 14s 24ms/step - loss: 20.9076 - likelihood: -1.2619 - kl_loss: 11.2741 - reconstruction_loss: 10.9426 - val_loss: 30.2133 - val_likelihood: 0.2842 - val_kl_loss: 11.5679 - val_reconstruction_loss: 18.3612\n",
      "Epoch 13/200\n",
      "568/568 [==============================] - 15s 26ms/step - loss: 20.9357 - likelihood: -1.2429 - kl_loss: 11.4024 - reconstruction_loss: 10.9499 - val_loss: 30.0264 - val_likelihood: 0.2888 - val_kl_loss: 11.4229 - val_reconstruction_loss: 18.3148\n",
      "Epoch 14/200\n",
      "568/568 [==============================] - 13s 24ms/step - loss: 20.6117 - likelihood: -1.3197 - kl_loss: 11.3033 - reconstruction_loss: 10.7861 - val_loss: 26.9996 - val_likelihood: -0.2858 - val_kl_loss: 11.4866 - val_reconstruction_loss: 15.7988\n",
      "Epoch 15/200\n",
      "568/568 [==============================] - 15s 26ms/step - loss: 21.0310 - likelihood: -1.2468 - kl_loss: 11.3403 - reconstruction_loss: 10.9371 - val_loss: 30.0400 - val_likelihood: 0.6657 - val_kl_loss: 11.2357 - val_reconstruction_loss: 18.1385\n",
      "Epoch 16/200\n",
      "568/568 [==============================] - 14s 24ms/step - loss: 20.9665 - likelihood: -1.2430 - kl_loss: 11.3633 - reconstruction_loss: 10.9967 - val_loss: 29.3880 - val_likelihood: 0.1373 - val_kl_loss: 11.3371 - val_reconstruction_loss: 17.9137\n",
      "Epoch 17/200\n",
      "568/568 [==============================] - 15s 27ms/step - loss: 20.9347 - likelihood: -1.3144 - kl_loss: 11.3444 - reconstruction_loss: 10.8295 - val_loss: 28.0270 - val_likelihood: 0.0913 - val_kl_loss: 11.1207 - val_reconstruction_loss: 16.8151\n",
      "Epoch 18/200\n",
      "568/568 [==============================] - 14s 24ms/step - loss: 20.8636 - likelihood: -1.2472 - kl_loss: 11.3375 - reconstruction_loss: 10.8831 - val_loss: 30.0097 - val_likelihood: 0.5433 - val_kl_loss: 11.4949 - val_reconstruction_loss: 17.9715\n",
      "Epoch 19/200\n",
      "568/568 [==============================] - 14s 25ms/step - loss: 21.0470 - likelihood: -1.2773 - kl_loss: 11.3612 - reconstruction_loss: 10.8713 - val_loss: 28.0175 - val_likelihood: -0.0374 - val_kl_loss: 11.5544 - val_reconstruction_loss: 16.5005\n",
      "Epoch 20/200\n",
      "568/568 [==============================] - 14s 25ms/step - loss: 21.0830 - likelihood: -1.2757 - kl_loss: 11.2910 - reconstruction_loss: 10.8922 - val_loss: 29.3311 - val_likelihood: 0.1870 - val_kl_loss: 11.4873 - val_reconstruction_loss: 17.6568\n",
      "Epoch 21/200\n",
      "568/568 [==============================] - 13s 24ms/step - loss: 20.8396 - likelihood: -1.3188 - kl_loss: 11.3230 - reconstruction_loss: 10.8087 - val_loss: 28.9172 - val_likelihood: 0.3218 - val_kl_loss: 11.5399 - val_reconstruction_loss: 17.0555\n",
      "Epoch 22/200\n",
      "568/568 [==============================] - 15s 26ms/step - loss: 20.9563 - likelihood: -1.2764 - kl_loss: 11.4134 - reconstruction_loss: 10.8295 - val_loss: 28.3842 - val_likelihood: 0.1073 - val_kl_loss: 11.3312 - val_reconstruction_loss: 16.9457\n",
      "Epoch 23/200\n",
      "568/568 [==============================] - 14s 24ms/step - loss: 20.6784 - likelihood: -1.2897 - kl_loss: 11.3298 - reconstruction_loss: 10.7966 - val_loss: 28.4256 - val_likelihood: 0.0236 - val_kl_loss: 11.4235 - val_reconstruction_loss: 16.9785\n",
      "Epoch 24/200\n",
      "568/568 [==============================] - 14s 24ms/step - loss: 20.8759 - likelihood: -1.2883 - kl_loss: 11.3033 - reconstruction_loss: 10.8585 - val_loss: 28.4877 - val_likelihood: -0.1003 - val_kl_loss: 11.6982 - val_reconstruction_loss: 16.8897\n",
      "Epoch 25/200\n",
      "568/568 [==============================] - 15s 26ms/step - loss: 20.9080 - likelihood: -1.2837 - kl_loss: 11.3995 - reconstruction_loss: 10.8348 - val_loss: 29.8777 - val_likelihood: 0.1021 - val_kl_loss: 11.4278 - val_reconstruction_loss: 18.3478\n",
      "Epoch 26/200\n",
      "568/568 [==============================] - 13s 24ms/step - loss: 20.7150 - likelihood: -1.3066 - kl_loss: 11.2294 - reconstruction_loss: 10.7829 - val_loss: 29.4487 - val_likelihood: 0.2141 - val_kl_loss: 11.5356 - val_reconstruction_loss: 17.6990\n",
      "Epoch 27/200\n",
      "568/568 [==============================] - 15s 26ms/step - loss: 20.8676 - likelihood: -1.2996 - kl_loss: 11.3448 - reconstruction_loss: 10.7577 - val_loss: 28.0408 - val_likelihood: 0.2112 - val_kl_loss: 11.1184 - val_reconstruction_loss: 16.7111\n",
      "Epoch 28/200\n",
      "568/568 [==============================] - 14s 25ms/step - loss: 21.1282 - likelihood: -1.2758 - kl_loss: 11.3664 - reconstruction_loss: 10.8864 - val_loss: 27.6717 - val_likelihood: -0.0899 - val_kl_loss: 11.1778 - val_reconstruction_loss: 16.5838\n",
      "Epoch 29/200\n",
      "568/568 [==============================] - 14s 25ms/step - loss: 20.6214 - likelihood: -1.2916 - kl_loss: 11.2810 - reconstruction_loss: 10.8054 - val_loss: 30.1664 - val_likelihood: 0.3901 - val_kl_loss: 11.5160 - val_reconstruction_loss: 18.2603\n",
      "Epoch 30/200\n",
      "568/568 [==============================] - 14s 25ms/step - loss: 20.7852 - likelihood: -1.3109 - kl_loss: 11.2728 - reconstruction_loss: 10.7613 - val_loss: 27.9468 - val_likelihood: -0.0892 - val_kl_loss: 11.3422 - val_reconstruction_loss: 16.6938\n",
      "Epoch 31/200\n",
      "568/568 [==============================] - 14s 24ms/step - loss: 20.7900 - likelihood: -1.3167 - kl_loss: 11.3729 - reconstruction_loss: 10.7646 - val_loss: 28.6642 - val_likelihood: 0.1981 - val_kl_loss: 11.1212 - val_reconstruction_loss: 17.3450\n",
      "Epoch 32/200\n",
      "568/568 [==============================] - 14s 25ms/step - loss: 20.8298 - likelihood: -1.2843 - kl_loss: 11.3323 - reconstruction_loss: 10.8613 - val_loss: 31.4774 - val_likelihood: 0.9044 - val_kl_loss: 11.2016 - val_reconstruction_loss: 19.3714\n",
      "Epoch 33/200\n",
      "568/568 [==============================] - 14s 25ms/step - loss: 21.0921 - likelihood: -1.2890 - kl_loss: 11.3909 - reconstruction_loss: 10.8275 - val_loss: 29.8977 - val_likelihood: 0.3236 - val_kl_loss: 11.4434 - val_reconstruction_loss: 18.1307\n",
      "Epoch 34/200\n",
      "568/568 [==============================] - 14s 24ms/step - loss: 20.7897 - likelihood: -1.3015 - kl_loss: 11.3452 - reconstruction_loss: 10.7543 - val_loss: 27.0723 - val_likelihood: -0.1499 - val_kl_loss: 11.1557 - val_reconstruction_loss: 16.0665\n",
      "Epoch 35/200\n",
      "568/568 [==============================] - 15s 27ms/step - loss: 20.7984 - likelihood: -1.3452 - kl_loss: 11.3437 - reconstruction_loss: 10.7055 - val_loss: 27.1281 - val_likelihood: -0.1130 - val_kl_loss: 11.2765 - val_reconstruction_loss: 15.9646\n",
      "Epoch 36/200\n",
      "568/568 [==============================] - 14s 24ms/step - loss: 20.6531 - likelihood: -1.3440 - kl_loss: 11.2750 - reconstruction_loss: 10.7263 - val_loss: 29.4324 - val_likelihood: 0.1158 - val_kl_loss: 11.6973 - val_reconstruction_loss: 17.6193\n"
     ]
    },
    {
     "data": {
      "text/plain": [
       "<keras.callbacks.History at 0x7fd45c380850>"
      ]
     },
     "execution_count": 24,
     "metadata": {},
     "output_type": "execute_result"
    }
   ],
   "source": [
    "vae = VAE(encoder, decoder)\n",
    "vae.compile(optimizer=tfk.optimizers.Adam())\n",
    "vae.fit(x = X_train,\n",
    "        validation_data = (X_val, None),\n",
    "        epochs=150, \n",
    "        batch_size=batch_size)\n",
    "vae.fit(x = X_train,\n",
    "        validation_data = (X_val, None),\n",
    "        epochs=epochs, \n",
    "        batch_size=batch_size,\n",
    "        callbacks=[tfk.callbacks.EarlyStopping(monitor='val_loss', patience=30, restore_best_weights=True)])"
   ]
  },
  {
   "cell_type": "markdown",
   "id": "bb91eb06",
   "metadata": {
    "_cell_guid": "674df813-4d57-4b30-84ab-c670955f8925",
    "_uuid": "e3037710-e5b4-4ee6-8986-3cf925a6b03a",
    "papermill": {
     "duration": 2.515804,
     "end_time": "2022-08-27T20:45:05.391096",
     "exception": false,
     "start_time": "2022-08-27T20:45:02.875292",
     "status": "completed"
    },
    "tags": []
   },
   "source": [
    " ## Example of prediction on the test set"
   ]
  },
  {
   "cell_type": "code",
   "execution_count": 25,
   "id": "c414823c",
   "metadata": {
    "_cell_guid": "0b0c2ee9-945a-4033-a280-82375de011ad",
    "_uuid": "724215eb-dd73-483a-9952-0ddaba731c4d",
    "collapsed": false,
    "execution": {
     "iopub.execute_input": "2022-08-27T20:45:10.315070Z",
     "iopub.status.busy": "2022-08-27T20:45:10.314551Z",
     "iopub.status.idle": "2022-08-27T20:45:10.405261Z",
     "shell.execute_reply": "2022-08-27T20:45:10.403611Z"
    },
    "jupyter": {
     "outputs_hidden": false
    },
    "papermill": {
     "duration": 2.607476,
     "end_time": "2022-08-27T20:45:10.408365",
     "exception": false,
     "start_time": "2022-08-27T20:45:07.800889",
     "status": "completed"
    },
    "tags": []
   },
   "outputs": [
    {
     "name": "stdout",
     "output_type": "stream",
     "text": [
      "tf.Tensor(\n",
      "[[0.8855085  0.86722976 0.00305778 0.92376876 0.00318059 0.00099173\n",
      "  0.00397073 0.89107174 0.8845764  0.85071236]], shape=(1, 10), dtype=float32)\n",
      "tf.Tensor(\n",
      "[[[0.00473016 0.00113181]\n",
      "  [0.00461591 0.00117879]\n",
      "  [0.00457629 0.00120777]\n",
      "  ...\n",
      "  [0.00489592 0.00105892]\n",
      "  [0.00474039 0.00114804]\n",
      "  [0.00490966 0.00105514]]], shape=(1, 672, 2), dtype=float32)\n"
     ]
    }
   ],
   "source": [
    "w = X_train[3,:,:]\n",
    "z_mu, z_log_var, z = encoder(np.expand_dims(w, axis=0))\n",
    "print(tf.exp(z_log_var))\n",
    "d_mu, d_log_var, _ = decoder(z)\n",
    "print(tf.exp(d_log_var))"
   ]
  },
  {
   "cell_type": "code",
   "execution_count": 26,
   "id": "60cbb6b3",
   "metadata": {
    "_cell_guid": "0add694f-4a63-4139-ab60-0b7d76d6966e",
    "_uuid": "337d1f06-0a89-4777-93fc-57dc865a0718",
    "collapsed": false,
    "execution": {
     "iopub.execute_input": "2022-08-27T20:45:15.658190Z",
     "iopub.status.busy": "2022-08-27T20:45:15.657034Z",
     "iopub.status.idle": "2022-08-27T20:45:15.681073Z",
     "shell.execute_reply": "2022-08-27T20:45:15.680110Z"
    },
    "jupyter": {
     "outputs_hidden": false
    },
    "papermill": {
     "duration": 2.798286,
     "end_time": "2022-08-27T20:45:15.683733",
     "exception": false,
     "start_time": "2022-08-27T20:45:12.885447",
     "status": "completed"
    },
    "tags": []
   },
   "outputs": [],
   "source": [
    "w = X_test[0,:,:] \n",
    "w = tf.expand_dims(w, 0)\n",
    "_, _, encoded_data = encoder(w)\n",
    "_, _, reconstruction = decoder(encoded_data) \n",
    "a = A_test[0,:]"
   ]
  },
  {
   "cell_type": "code",
   "execution_count": 27,
   "id": "688dd9ba",
   "metadata": {
    "_cell_guid": "fc6d5787-85dd-46a0-bec2-a02479a23431",
    "_uuid": "dce3e923-d0f8-4193-b4b3-4b69c38c786c",
    "collapsed": false,
    "execution": {
     "iopub.execute_input": "2022-08-27T20:45:20.563453Z",
     "iopub.status.busy": "2022-08-27T20:45:20.562994Z",
     "iopub.status.idle": "2022-08-27T20:45:20.576305Z",
     "shell.execute_reply": "2022-08-27T20:45:20.575104Z"
    },
    "jupyter": {
     "outputs_hidden": false
    },
    "papermill": {
     "duration": 2.44679,
     "end_time": "2022-08-27T20:45:20.578999",
     "exception": false,
     "start_time": "2022-08-27T20:45:18.132209",
     "status": "completed"
    },
    "tags": []
   },
   "outputs": [],
   "source": [
    "def inspect_multivariate_prediction(X, y, a, pred, columns, telescope, idx=None):\n",
    "\n",
    "    figs, axs = plt.subplots(len(columns) + 1, 1, sharex=True, figsize=(17,10))\n",
    "    for i, col in enumerate(columns):\n",
    "        axs[i].plot(np.arange(len(X[0,:,i])), X[0,:,i])\n",
    "        axs[i].plot(np.arange(len(X[0,:,i]), len(X[0,:,i])+telescope), y[0,:,i], color='orange')\n",
    "        axs[i].plot(np.arange(len(X[0,:,i]), len(X[0,:,i])+telescope), pred[0,:,i], color='green')\n",
    "        axs[i].set_title(col)\n",
    "           \n",
    "    axs[len(columns)].plot(np.arange(len(X[0,:,i])), a[:,0])\n",
    "    axs[len(columns)].plot(np.arange(len(X[0,:,i]), len(X[0,:,i])+telescope), a[:,0])\n",
    "    axs[len(columns)].set_title('Anomaly')\n",
    "    plt.show()"
   ]
  },
  {
   "cell_type": "code",
   "execution_count": 28,
   "id": "157a5e4a",
   "metadata": {
    "_cell_guid": "f1cad350-6df1-46ff-a7b0-7a0eabb926b9",
    "_uuid": "3038d3ed-fc77-4b17-8ff5-40c239561c17",
    "collapsed": false,
    "execution": {
     "iopub.execute_input": "2022-08-27T20:45:25.666539Z",
     "iopub.status.busy": "2022-08-27T20:45:25.665796Z",
     "iopub.status.idle": "2022-08-27T20:45:26.124386Z",
     "shell.execute_reply": "2022-08-27T20:45:26.122540Z"
    },
    "jupyter": {
     "outputs_hidden": false
    },
    "papermill": {
     "duration": 3.077408,
     "end_time": "2022-08-27T20:45:26.127724",
     "exception": false,
     "start_time": "2022-08-27T20:45:23.050316",
     "status": "completed"
    },
    "tags": []
   },
   "outputs": [
    {
     "data": {
      "image/png": "[encoded data removed]",
      "text/plain": [
       "<Figure size 1224x720 with 3 Axes>"
      ]
     },
     "metadata": {
      "needs_background": "light"
     },
     "output_type": "display_data"
    }
   ],
   "source": [
    "# Plotting predictions\n",
    "target_labels = X_test_raw.columns\n",
    "inspect_multivariate_prediction(w, w, a, reconstruction, target_labels, window)"
   ]
  },
  {
   "cell_type": "markdown",
   "id": "faab9e95",
   "metadata": {
    "_cell_guid": "25d50056-1c14-4642-929f-dfd8858a08b4",
    "_uuid": "cf9819b8-964d-4383-b699-52a4240d34eb",
    "papermill": {
     "duration": 2.644569,
     "end_time": "2022-08-27T20:45:31.347635",
     "exception": false,
     "start_time": "2022-08-27T20:45:28.703066",
     "status": "completed"
    },
    "tags": []
   },
   "source": [
    "## Computing reconstruction probability"
   ]
  },
  {
   "cell_type": "code",
   "execution_count": 29,
   "id": "0bc9dd0f",
   "metadata": {
    "_cell_guid": "36b99959-c2af-487c-a5e3-9a6d9a757462",
    "_uuid": "a62df3f9-d7fa-43f6-a440-3f23ef17585c",
    "collapsed": false,
    "execution": {
     "iopub.execute_input": "2022-08-27T20:45:36.479544Z",
     "iopub.status.busy": "2022-08-27T20:45:36.478499Z",
     "iopub.status.idle": "2022-08-27T20:45:36.486290Z",
     "shell.execute_reply": "2022-08-27T20:45:36.485150Z"
    },
    "jupyter": {
     "outputs_hidden": false
    },
    "papermill": {
     "duration": 2.593648,
     "end_time": "2022-08-27T20:45:36.488688",
     "exception": false,
     "start_time": "2022-08-27T20:45:33.895040",
     "status": "completed"
    },
    "tags": []
   },
   "outputs": [],
   "source": [
    "# Function used to create non-overlapped windows starting from the TRAINING set\n",
    "def build_sequences_reconstruction(df, window, stride):\n",
    "    dataset = []\n",
    "    temp_df = df.copy().values\n",
    "    padding_len = (len(df)-window)%stride\n",
    "    print(\"PADDING: \" +  str(padding_len))\n",
    "\n",
    "    for idx in np.arange(0,len(temp_df)-window+1,stride):\n",
    "        dataset.append(temp_df[idx:idx+window])\n",
    "\n",
    "    dataset = np.array(dataset)\n",
    "    return dataset"
   ]
  },
  {
   "cell_type": "code",
   "execution_count": 30,
   "id": "69aad4b6",
   "metadata": {
    "execution": {
     "iopub.execute_input": "2022-08-27T20:45:41.643479Z",
     "iopub.status.busy": "2022-08-27T20:45:41.643083Z",
     "iopub.status.idle": "2022-08-27T20:45:41.684018Z",
     "shell.execute_reply": "2022-08-27T20:45:41.682344Z"
    },
    "papermill": {
     "duration": 2.623514,
     "end_time": "2022-08-27T20:45:41.687064",
     "exception": false,
     "start_time": "2022-08-27T20:45:39.063550",
     "status": "completed"
    },
    "tags": []
   },
   "outputs": [
    {
     "name": "stdout",
     "output_type": "stream",
     "text": [
      "PADDING: 0\n",
      "PADDING: 0\n",
      "PADDING: 0\n",
      "PADDING: 0\n",
      "PADDING: 0\n"
     ]
    },
    {
     "data": {
      "text/plain": [
       "((1013, 672, 2), [0, 673, 674, 1011, 1012])"
      ]
     },
     "execution_count": 30,
     "metadata": {},
     "output_type": "execute_result"
    }
   ],
   "source": [
    "test_weeks = [0,1,2,3,4,12,17,18,19,39,51] # Weeks that are in the test set\n",
    "indexes = [0,5,6,9,10] # Considering positions in \"text_weeks\", indexes of weeks to be considered on alone (non consecutive)\n",
    "full_seq_index = [] # Tells us which windows of X_Test_Overlapped have to be fully considered (for all the other windows we will consider last \"stride\" elements)\n",
    "\n",
    "counter = 0 # Tells us which window of X_Test_Overlapped we're considering\n",
    "\n",
    "X_test_overlapped = np.empty(shape=(0, 672, 2))\n",
    "\n",
    "for i in range(len(indexes)): # For all windows to be considered on alone ...\n",
    "    \n",
    "    # Interval of consecutive weeks to be considered\n",
    "    left = indexes[i]\n",
    "    if i+1 < len(indexes):\n",
    "        right = indexes[i+1]\n",
    "    else:\n",
    "        right = indexes[-1] + 1\n",
    "    \n",
    "    full_seq_index.append(counter)\n",
    "    df = X_test_raw.iloc[(left)*672:(right)*672].copy()\n",
    "    dataset = build_sequences_reconstruction(df, window, stride) # Creating sequences using consecutive weeks we have identified\n",
    "    counter = counter + dataset.shape[0]\n",
    "    X_test_overlapped = np.concatenate((X_test_overlapped, dataset[:,:,:2]), axis=0) # We concatenate new windows created\n",
    "        \n",
    "X_test_overlapped.shape, full_seq_index"
   ]
  },
  {
   "cell_type": "code",
   "execution_count": 31,
   "id": "8091f4d1",
   "metadata": {
    "execution": {
     "iopub.execute_input": "2022-08-27T20:45:46.891533Z",
     "iopub.status.busy": "2022-08-27T20:45:46.891050Z",
     "iopub.status.idle": "2022-08-27T22:53:19.860676Z",
     "shell.execute_reply": "2022-08-27T22:53:19.858947Z"
    },
    "papermill": {
     "duration": 7658.015809,
     "end_time": "2022-08-27T22:53:22.382849",
     "exception": false,
     "start_time": "2022-08-27T20:45:44.367040",
     "status": "completed"
    },
    "tags": []
   },
   "outputs": [
    {
     "name": "stdout",
     "output_type": "stream",
     "text": [
      "0\n",
      "100\n",
      "200\n",
      "300\n",
      "400\n",
      "500\n",
      "600\n",
      "700\n",
      "800\n",
      "900\n",
      "1000\n"
     ]
    },
    {
     "data": {
      "text/plain": [
       "((7392,), 532.0865, -1.8731993)"
      ]
     },
     "execution_count": 31,
     "metadata": {},
     "output_type": "execute_result"
    }
   ],
   "source": [
    "reconstructed_prob = np.zeros(X_test_raw.shape[0], dtype='float32') # Array that will contain rec prob\n",
    "reconstructed_prob_written = np.zeros(X_test_raw.shape[0], dtype='float32') # Array that will contain rec prob\n",
    "new_start = 0\n",
    "\n",
    "for j in range (X_test_overlapped.shape[0]): # Consider all the windows in X_test_overlapped one at a time ...\n",
    "    \n",
    "    if(j%100==0): print(j)\n",
    "    \n",
    "    w = X_test_overlapped[j,:,:] \n",
    "    w = tf.expand_dims(w, 0)\n",
    "    \n",
    "    _, _, encoded_data = encoder(w) # Sampling only 1 time in the latent space\n",
    "    \n",
    "    if j in full_seq_index:\n",
    "        \n",
    "        for m in range(M):\n",
    "            \n",
    "            decoder_mu, decoder_log_var, _ = decoder(encoded_data)\n",
    "            decoder_sigma = tf.exp(alpha * decoder_log_var)\n",
    "            \n",
    "            for i in range(window):  \n",
    "                pdf_normal = tfp.distributions.MultivariateNormalDiag(decoder_mu[0, i, :-1], np.diag(decoder_sigma[0, i, :-1]), validate_args=True, name='Gauss')\n",
    "                p_l = -(pdf_normal.log_prob(X_test_overlapped[j, i, :-1]))             \n",
    "                reconstructed_prob[new_start+i] = reconstructed_prob[new_start+i] + p_l\n",
    "                reconstructed_prob_written[new_start+i] = reconstructed_prob_written[new_start+i] + 1\n",
    "                \n",
    "        new_start = new_start+window\n",
    "        \n",
    "    else:\n",
    "        \n",
    "        for m in range(M):\n",
    "            \n",
    "            decoder_mu, decoder_log_var, _ = decoder(encoded_data)\n",
    "            decoder_sigma = tf.exp(alpha * decoder_log_var)\n",
    "            \n",
    "            for i in range(stride):\n",
    "                pdf_normal = tfp.distributions.MultivariateNormalDiag(decoder_mu[0, window-stride+i, :-1], np.diag(decoder_sigma[0, window-stride+i, :-1]), validate_args=True, name='Gauss')\n",
    "                p_l = -(pdf_normal.log_prob(X_test_overlapped[j, window-stride+i, :-1]))   \n",
    "                if new_start+i < X_test_raw.shape[0]: # To avoid problems related to padding\n",
    "                    reconstructed_prob[new_start+i] = reconstructed_prob[new_start+i] + p_l\n",
    "                    reconstructed_prob_written[new_start+i] = reconstructed_prob_written[new_start+i] + 1\n",
    "                    \n",
    "        new_start = new_start + stride\n",
    "        \n",
    "reconstructed_prob /= M\n",
    "reconstructed_prob.shape, reconstructed_prob.max(), reconstructed_prob.min()"
   ]
  },
  {
   "cell_type": "code",
   "execution_count": 32,
   "id": "830907c2",
   "metadata": {
    "execution": {
     "iopub.execute_input": "2022-08-27T22:53:27.286554Z",
     "iopub.status.busy": "2022-08-27T22:53:27.286101Z",
     "iopub.status.idle": "2022-08-27T22:53:27.294640Z",
     "shell.execute_reply": "2022-08-27T22:53:27.293467Z"
    },
    "papermill": {
     "duration": 2.39059,
     "end_time": "2022-08-27T22:53:27.297022",
     "exception": false,
     "start_time": "2022-08-27T22:53:24.906432",
     "status": "completed"
    },
    "tags": []
   },
   "outputs": [
    {
     "data": {
      "text/plain": [
       "(369600.0, 7392)"
      ]
     },
     "execution_count": 32,
     "metadata": {},
     "output_type": "execute_result"
    }
   ],
   "source": [
    "reconstructed_prob_written.sum(), X_test_raw.shape[0]"
   ]
  },
  {
   "cell_type": "code",
   "execution_count": 33,
   "id": "030a85f8",
   "metadata": {
    "execution": {
     "iopub.execute_input": "2022-08-27T22:53:32.220671Z",
     "iopub.status.busy": "2022-08-27T22:53:32.220228Z",
     "iopub.status.idle": "2022-08-27T22:53:32.243536Z",
     "shell.execute_reply": "2022-08-27T22:53:32.242120Z"
    },
    "papermill": {
     "duration": 2.336355,
     "end_time": "2022-08-27T22:53:32.245803",
     "exception": false,
     "start_time": "2022-08-27T22:53:29.909448",
     "status": "completed"
    },
    "tags": []
   },
   "outputs": [
    {
     "name": "stdout",
     "output_type": "stream",
     "text": [
      "True\n"
     ]
    }
   ],
   "source": [
    "# Checking if we've written correct things inside \"reconstruction_prob\"\n",
    "check = True\n",
    "for i in range(reconstructed_prob_written.shape[0]):\n",
    "    if reconstructed_prob_written[i] != M: # Each cell written M times\n",
    "        check = False\n",
    "        \n",
    "print(check) # If true, everything okay"
   ]
  },
  {
   "cell_type": "code",
   "execution_count": 34,
   "id": "e4571ff1",
   "metadata": {
    "execution": {
     "iopub.execute_input": "2022-08-27T22:53:37.457098Z",
     "iopub.status.busy": "2022-08-27T22:53:37.456650Z",
     "iopub.status.idle": "2022-08-27T22:53:37.479931Z",
     "shell.execute_reply": "2022-08-27T22:53:37.478296Z"
    },
    "papermill": {
     "duration": 2.520967,
     "end_time": "2022-08-27T22:53:37.482516",
     "exception": false,
     "start_time": "2022-08-27T22:53:34.961549",
     "status": "completed"
    },
    "tags": []
   },
   "outputs": [
    {
     "name": "stdout",
     "output_type": "stream",
     "text": [
      "0\n"
     ]
    }
   ],
   "source": [
    "# Counting the number of elements in \"reconstructed_prob\" that are equal to 0\n",
    "counter = 0\n",
    "for i in range(reconstructed_prob.shape[0]):\n",
    "    if reconstructed_prob[i] == 0:\n",
    "        counter += 1\n",
    "        \n",
    "print(counter)"
   ]
  },
  {
   "cell_type": "code",
   "execution_count": 35,
   "id": "b59766ef",
   "metadata": {
    "execution": {
     "iopub.execute_input": "2022-08-27T22:53:42.525052Z",
     "iopub.status.busy": "2022-08-27T22:53:42.524266Z",
     "iopub.status.idle": "2022-08-27T22:53:42.548581Z",
     "shell.execute_reply": "2022-08-27T22:53:42.547638Z"
    },
    "papermill": {
     "duration": 2.646504,
     "end_time": "2022-08-27T22:53:42.551837",
     "exception": false,
     "start_time": "2022-08-27T22:53:39.905333",
     "status": "completed"
    },
    "tags": []
   },
   "outputs": [
    {
     "name": "stdout",
     "output_type": "stream",
     "text": [
      "tf.Tensor(\n",
      "[[0.91579944 0.89794564 0.00276832 0.94434196 0.00494208 0.00124711\n",
      "  0.00515593 0.9299008  0.91482806 0.87938076]], shape=(1, 10), dtype=float32)\n",
      "tf.Tensor(\n",
      "[[[0.00474346 0.00117721]\n",
      "  [0.00462005 0.00123039]\n",
      "  [0.0046423  0.00122612]\n",
      "  ...\n",
      "  [0.00497722 0.0010779 ]\n",
      "  [0.0047264  0.00121601]\n",
      "  [0.00485718 0.00113101]]], shape=(1, 672, 2), dtype=float32)\n"
     ]
    }
   ],
   "source": [
    "w = X_test_overlapped[0,:,:]\n",
    "z_mu, z_log_var, z = encoder(np.expand_dims(w, axis=0))\n",
    "print(tf.exp(z_log_var))\n",
    "d_mu, d_log_var, decoder_output = decoder(z)\n",
    "print(tf.exp(d_log_var))"
   ]
  },
  {
   "cell_type": "code",
   "execution_count": 36,
   "id": "91491d29",
   "metadata": {
    "execution": {
     "iopub.execute_input": "2022-08-27T22:53:47.657972Z",
     "iopub.status.busy": "2022-08-27T22:53:47.657472Z",
     "iopub.status.idle": "2022-08-27T22:53:47.665134Z",
     "shell.execute_reply": "2022-08-27T22:53:47.663999Z"
    },
    "papermill": {
     "duration": 2.701646,
     "end_time": "2022-08-27T22:53:47.667390",
     "exception": false,
     "start_time": "2022-08-27T22:53:44.965744",
     "status": "completed"
    },
    "tags": []
   },
   "outputs": [],
   "source": [
    "# Function used to predict anomalies\n",
    "def predict_anomalies(reconstruction_probabilities, threshold):\n",
    "    \n",
    "    # Inizially we don't have predicted anomalies\n",
    "    anomaly_predicted = np.zeros(shape=X_test_raw.shape[0])\n",
    "    \n",
    "    for i in range(reconstruction_probabilities.shape[0]): \n",
    "        if reconstruction_probabilities[i] > threshold:\n",
    "            anomaly_predicted[i] = 1\n",
    "            \n",
    "    return anomaly_predicted"
   ]
  },
  {
   "cell_type": "code",
   "execution_count": 37,
   "id": "8e826d2b",
   "metadata": {
    "execution": {
     "iopub.execute_input": "2022-08-27T22:53:52.538643Z",
     "iopub.status.busy": "2022-08-27T22:53:52.538228Z",
     "iopub.status.idle": "2022-08-27T22:53:52.547280Z",
     "shell.execute_reply": "2022-08-27T22:53:52.546016Z"
    },
    "papermill": {
     "duration": 2.548587,
     "end_time": "2022-08-27T22:53:52.549680",
     "exception": false,
     "start_time": "2022-08-27T22:53:50.001093",
     "status": "completed"
    },
    "tags": []
   },
   "outputs": [],
   "source": [
    "def select_best_threshold(reconstructed_prob, step, anomaly_true):\n",
    "    \n",
    "    min_prob = 0\n",
    "    max_prob = reconstructed_prob.max()\n",
    "    max_F1 = 0\n",
    "    best_threshold = 0\n",
    "    counter = 0\n",
    "    \n",
    "    print(\"best threshold = \" + str(best_threshold) + \", max F1 = \" + str(max_F1))\n",
    "    \n",
    "    thresholds = [x for x in np.arange(min_prob, max_prob, step)]\n",
    "    \n",
    "    for threshold in thresholds:\n",
    "        \n",
    "        # print(\"Trying threshold: \" + str(threshold))\n",
    "        \n",
    "        if(counter<1000):\n",
    "            \n",
    "            anomaly_predicted = predict_anomalies(reconstructed_prob, threshold)\n",
    "            f1 = f1_score(y_true=anomaly_true, y_pred=anomaly_predicted)\n",
    "            if f1 >= max_F1:\n",
    "                max_F1 = f1\n",
    "                best_threshold = threshold\n",
    "                print(\"best threshold =\" + str(best_threshold) + \", max F1 = \" + str(max_F1))\n",
    "            else:\n",
    "                counter = counter+1\n",
    "        \n",
    "        else:\n",
    "            return best_threshold"
   ]
  },
  {
   "cell_type": "code",
   "execution_count": 38,
   "id": "665dfb90",
   "metadata": {
    "execution": {
     "iopub.execute_input": "2022-08-27T22:53:57.614658Z",
     "iopub.status.busy": "2022-08-27T22:53:57.613890Z",
     "iopub.status.idle": "2022-08-27T22:54:30.937343Z",
     "shell.execute_reply": "2022-08-27T22:54:30.936388Z"
    },
    "papermill": {
     "duration": 38.458816,
     "end_time": "2022-08-27T22:54:33.390814",
     "exception": false,
     "start_time": "2022-08-27T22:53:54.931998",
     "status": "completed"
    },
    "tags": []
   },
   "outputs": [
    {
     "name": "stdout",
     "output_type": "stream",
     "text": [
      "best threshold = 0, max F1 = 0\n",
      "best threshold =0.0, max F1 = 0.14244576694183145\n",
      "best threshold =0.1, max F1 = 0.14402173913043478\n",
      "best threshold =0.2, max F1 = 0.14563297350343474\n",
      "best threshold =0.30000000000000004, max F1 = 0.14751491053677934\n",
      "best threshold =0.4, max F1 = 0.1490857946554149\n",
      "best threshold =0.5, max F1 = 0.15145948152684222\n",
      "best threshold =0.6000000000000001, max F1 = 0.15346432264736298\n",
      "best threshold =0.7000000000000001, max F1 = 0.15493840050114843\n",
      "best threshold =0.8, max F1 = 0.1565731166912851\n",
      "best threshold =0.9, max F1 = 0.1586147926464301\n",
      "best threshold =1.0, max F1 = 0.16005176876617777\n",
      "best threshold =1.1, max F1 = 0.1614096149662824\n",
      "best threshold =1.2000000000000002, max F1 = 0.16296947067867343\n",
      "best threshold =1.3, max F1 = 0.1643774922463447\n",
      "best threshold =1.4000000000000001, max F1 = 0.16662923871547272\n",
      "best threshold =1.5, max F1 = 0.16840671811166594\n",
      "best threshold =1.6, max F1 = 0.16967756688772012\n",
      "best threshold =1.7000000000000002, max F1 = 0.17096774193548386\n",
      "best threshold =1.8, max F1 = 0.17243783406925403\n",
      "best threshold =1.9000000000000001, max F1 = 0.17397420867526375\n",
      "best threshold =2.0, max F1 = 0.17620517691759677\n",
      "best threshold =2.1, max F1 = 0.1781512605042017\n",
      "best threshold =2.2, max F1 = 0.17948717948717946\n",
      "best threshold =2.3000000000000003, max F1 = 0.18137374725006114\n",
      "best threshold =2.4000000000000004, max F1 = 0.18262367708589713\n",
      "best threshold =2.5, max F1 = 0.18466898954703834\n",
      "best threshold =2.6, max F1 = 0.18661971830985916\n",
      "best threshold =2.7, max F1 = 0.18832487309644672\n",
      "best threshold =2.8000000000000003, max F1 = 0.19011017166282346\n",
      "best threshold =2.9000000000000004, max F1 = 0.1913357400722022\n",
      "best threshold =3.0, max F1 = 0.19317885967196044\n",
      "best threshold =3.1, max F1 = 0.1948529411764706\n",
      "best threshold =3.2, max F1 = 0.1970260223048327\n",
      "best threshold =3.3000000000000003, max F1 = 0.19860813704496785\n",
      "best threshold =3.4000000000000004, max F1 = 0.2004863550391786\n",
      "best threshold =3.5, max F1 = 0.2023452413416962\n",
      "best threshold =3.6, max F1 = 0.2041265474552957\n",
      "best threshold =3.7, max F1 = 0.20605387392391\n",
      "best threshold =3.8000000000000003, max F1 = 0.20784313725490194\n",
      "best threshold =3.9000000000000004, max F1 = 0.2097823013853548\n",
      "best threshold =4.0, max F1 = 0.21151653363740022\n",
      "best threshold =4.1000000000000005, max F1 = 0.21285140562249\n",
      "best threshold =4.2, max F1 = 0.21401788289587537\n",
      "best threshold =4.3, max F1 = 0.21601164483260551\n",
      "best threshold =4.4, max F1 = 0.21797884841363102\n",
      "best threshold =4.5, max F1 = 0.21991701244813278\n",
      "best threshold =4.6000000000000005, max F1 = 0.22208919485184075\n",
      "best threshold =4.7, max F1 = 0.22423692958597766\n",
      "best threshold =4.800000000000001, max F1 = 0.2264957264957265\n",
      "best threshold =4.9, max F1 = 0.2278170095179613\n",
      "best threshold =5.0, max F1 = 0.22922459067037382\n",
      "best threshold =5.1000000000000005, max F1 = 0.2314410480349345\n",
      "best threshold =5.2, max F1 = 0.2336272040302267\n",
      "best threshold =5.300000000000001, max F1 = 0.2356303588440775\n",
      "best threshold =5.4, max F1 = 0.23736404350607804\n",
      "best threshold =5.5, max F1 = 0.23943207486285897\n",
      "best threshold =5.6000000000000005, max F1 = 0.24083089905874716\n",
      "best threshold =5.7, max F1 = 0.24280104712041886\n",
      "best threshold =5.800000000000001, max F1 = 0.24496533509409046\n",
      "best threshold =5.9, max F1 = 0.24642975755562935\n",
      "best threshold =6.0, max F1 = 0.2482435597189696\n",
      "best threshold =6.1000000000000005, max F1 = 0.2500842601954837\n",
      "best threshold =6.2, max F1 = 0.2516107154967786\n",
      "best threshold =6.300000000000001, max F1 = 0.2528970688479891\n",
      "best threshold =6.4, max F1 = 0.25507047095221724\n",
      "best threshold =6.5, max F1 = 0.2566585956416465\n",
      "best threshold =6.6000000000000005, max F1 = 0.2586266991983269\n",
      "best threshold =6.7, max F1 = 0.2605337078651685\n",
      "best threshold =6.800000000000001, max F1 = 0.26228349240014137\n",
      "best threshold =6.9, max F1 = 0.2648108493932905\n",
      "best threshold =7.0, max F1 = 0.2669064748201439\n",
      "best threshold =7.1000000000000005, max F1 = 0.2679667750090285\n",
      "best threshold =7.2, max F1 = 0.2692307692307693\n",
      "best threshold =7.300000000000001, max F1 = 0.27060539752005836\n",
      "best threshold =7.4, max F1 = 0.2716953496887587\n",
      "best threshold =7.5, max F1 = 0.27225901398086827\n",
      "best threshold =7.6000000000000005, max F1 = 0.27356746765249534\n",
      "best threshold =7.7, max F1 = 0.27499070977331846\n",
      "best threshold =7.800000000000001, max F1 = 0.2769461077844312\n",
      "best threshold =7.9, max F1 = 0.2787193973634651\n",
      "best threshold =8.0, max F1 = 0.2813688212927757\n",
      "best threshold =8.1, max F1 = 0.2820022927015666\n",
      "best threshold =8.200000000000001, max F1 = 0.284393063583815\n",
      "best threshold =8.3, max F1 = 0.2858249419054996\n",
      "best threshold =8.4, max F1 = 0.28760717069368663\n",
      "best threshold =8.5, max F1 = 0.2891849529780564\n",
      "best threshold =8.6, max F1 = 0.29193037974683544\n",
      "best threshold =8.700000000000001, max F1 = 0.2929734021437078\n",
      "best threshold =8.8, max F1 = 0.2952\n",
      "best threshold =8.9, max F1 = 0.2967430639324487\n",
      "best threshold =9.0, max F1 = 0.2977346278317153\n",
      "best threshold =9.1, max F1 = 0.29930866205774703\n",
      "best threshold =9.200000000000001, max F1 = 0.3006535947712418\n",
      "best threshold =9.3, max F1 = 0.3033800494641385\n",
      "best threshold =9.4, max F1 = 0.30488815244407624\n",
      "best threshold =9.5, max F1 = 0.3070504797663747\n",
      "best threshold =9.600000000000001, max F1 = 0.3095037846930193\n",
      "best threshold =9.700000000000001, max F1 = 0.311864406779661\n",
      "best threshold =9.8, max F1 = 0.31399317406143346\n",
      "best threshold =9.9, max F1 = 0.3160154572778016\n",
      "best threshold =10.0, max F1 = 0.31683168316831684\n",
      "best threshold =10.100000000000001, max F1 = 0.3194444444444444\n",
      "best threshold =10.200000000000001, max F1 = 0.32139737991266376\n",
      "best threshold =10.3, max F1 = 0.32351648351648354\n",
      "best threshold =10.4, max F1 = 0.326530612244898\n",
      "best threshold =10.5, max F1 = 0.3279857397504456\n",
      "best threshold =10.600000000000001, max F1 = 0.3301929116195603\n",
      "best threshold =10.700000000000001, max F1 = 0.3318304779080253\n",
      "best threshold =10.8, max F1 = 0.3337868480725623\n",
      "best threshold =10.9, max F1 = 0.3362265874828689\n",
      "best threshold =11.0, max F1 = 0.33761467889908253\n",
      "best threshold =11.100000000000001, max F1 = 0.33948339483394835\n",
      "best threshold =11.200000000000001, max F1 = 0.341848583372039\n",
      "best threshold =11.3, max F1 = 0.34392523364485983\n",
      "best threshold =11.4, max F1 = 0.3458646616541353\n",
      "best threshold =11.5, max F1 = 0.3471698113207547\n",
      "best threshold =11.600000000000001, max F1 = 0.34898055950687534\n",
      "best threshold =11.700000000000001, max F1 = 0.35097758702908916\n",
      "best threshold =11.8, max F1 = 0.35215311004784694\n",
      "best threshold =11.9, max F1 = 0.3536761172513214\n",
      "best threshold =12.0, max F1 = 0.3550410033767487\n",
      "best threshold =12.100000000000001, max F1 = 0.35572740454325763\n",
      "best threshold =12.200000000000001, max F1 = 0.3578026251823043\n",
      "best threshold =12.3, max F1 = 0.3600782778864971\n",
      "best threshold =12.4, max F1 = 0.3622047244094488\n",
      "best threshold =12.5, max F1 = 0.36435643564356435\n",
      "best threshold =12.600000000000001, max F1 = 0.3658051689860835\n",
      "best threshold =12.700000000000001, max F1 = 0.367816091954023\n",
      "best threshold =12.8, max F1 = 0.369292523833417\n",
      "best threshold =12.9, max F1 = 0.3713420787083754\n",
      "best threshold =13.0, max F1 = 0.3737938039614017\n",
      "best threshold =13.100000000000001, max F1 = 0.3757018887187341\n",
      "best threshold =13.200000000000001, max F1 = 0.37782340862423\n",
      "best threshold =13.3, max F1 = 0.3789364997418689\n",
      "best threshold =13.4, max F1 = 0.37952430196483966\n",
      "best threshold =13.5, max F1 = 0.3814968814968815\n",
      "best threshold =13.600000000000001, max F1 = 0.3840920983778127\n",
      "best threshold =13.700000000000001, max F1 = 0.38550420168067223\n",
      "best threshold =13.8, max F1 = 0.38733509234828495\n",
      "best threshold =13.9, max F1 = 0.3898035050451408\n",
      "best threshold =14.0, max F1 = 0.39188467698878804\n",
      "best threshold =14.100000000000001, max F1 = 0.3933547695605573\n",
      "best threshold =14.200000000000001, max F1 = 0.3963282937365011\n",
      "best threshold =14.3, max F1 = 0.3976099945681694\n",
      "best threshold =14.4, max F1 = 0.39847577572128473\n",
      "best threshold =14.5, max F1 = 0.3995633187772926\n",
      "best threshold =14.600000000000001, max F1 = 0.4015359297860669\n",
      "best threshold =14.700000000000001, max F1 = 0.4035281146637266\n",
      "best threshold =14.8, max F1 = 0.40486725663716816\n",
      "best threshold =14.9, max F1 = 0.40689271817676487\n",
      "best threshold =15.0, max F1 = 0.4082543223647518\n",
      "best threshold =15.100000000000001, max F1 = 0.4082774049217002\n",
      "best threshold =15.200000000000001, max F1 = 0.4101123595505618\n",
      "best threshold =15.3, max F1 = 0.4133635334088336\n",
      "best threshold =15.4, max F1 = 0.41548093340922027\n",
      "best threshold =15.5, max F1 = 0.4173813607775872\n",
      "best threshold =15.600000000000001, max F1 = 0.41954022988505746\n",
      "best threshold =15.700000000000001, max F1 = 0.4212348528563185\n",
      "best threshold =15.8, max F1 = 0.42318840579710143\n",
      "best threshold =15.9, max F1 = 0.42441860465116277\n",
      "best threshold =16.0, max F1 = 0.425904317386231\n",
      "best threshold =16.1, max F1 = 0.42765084944346804\n",
      "best threshold =16.2, max F1 = 0.42815249266862176\n",
      "best threshold =16.3, max F1 = 0.4301708898055392\n",
      "best threshold =16.400000000000002, max F1 = 0.43220840734162236\n",
      "best threshold =16.5, max F1 = 0.4347826086956523\n",
      "best threshold =16.6, max F1 = 0.4373876572798083\n",
      "best threshold =16.7, max F1 = 0.4392298435619735\n",
      "best threshold =16.8, max F1 = 0.4413542926239419\n",
      "best threshold =16.900000000000002, max F1 = 0.44349939246658565\n",
      "best threshold =17.0, max F1 = 0.44485070079219985\n",
      "best threshold =17.1, max F1 = 0.44703000612369864\n",
      "best threshold =17.2, max F1 = 0.44785276073619634\n",
      "best threshold =17.3, max F1 = 0.44950738916256155\n",
      "best threshold =17.400000000000002, max F1 = 0.4511742892459827\n",
      "best threshold =17.5, max F1 = 0.4522924411400247\n",
      "best threshold =17.6, max F1 = 0.45454545454545453\n",
      "best threshold =17.7, max F1 = 0.45596502186133664\n",
      "best threshold =17.8, max F1 = 0.4568210262828535\n",
      "best threshold =17.900000000000002, max F1 = 0.45768025078369906\n",
      "best threshold =18.0, max F1 = 0.45883092394720304\n",
      "best threshold =18.1, max F1 = 0.46056782334384866\n",
      "best threshold =18.2, max F1 = 0.4617330803289057\n",
      "best threshold =18.3, max F1 = 0.4626108998732573\n",
      "best threshold =18.400000000000002, max F1 = 0.4652644996813257\n",
      "best threshold =18.5, max F1 = 0.467948717948718\n",
      "best threshold =18.6, max F1 = 0.47005795235028974\n",
      "best threshold =18.7, max F1 = 0.4715762273901808\n",
      "best threshold =18.8, max F1 = 0.474333983105913\n",
      "best threshold =18.900000000000002, max F1 = 0.477124183006536\n",
      "best threshold =19.0, max F1 = 0.47900262467191596\n",
      "best threshold =19.1, max F1 = 0.48121292023731044\n",
      "best threshold =19.200000000000003, max F1 = 0.48280423280423274\n",
      "best threshold =19.3, max F1 = 0.48601864181091875\n",
      "best threshold =19.400000000000002, max F1 = 0.48731642189586105\n",
      "best threshold =19.5, max F1 = 0.48927613941018766\n",
      "best threshold =19.6, max F1 = 0.4905913978494624\n",
      "best threshold =19.700000000000003, max F1 = 0.4925775978407558\n",
      "best threshold =19.8, max F1 = 0.49324324324324326\n",
      "best threshold =19.900000000000002, max F1 = 0.494579945799458\n",
      "best threshold =20.0, max F1 = 0.49659863945578225\n",
      "best threshold =20.1, max F1 = 0.4993160054719562\n",
      "best threshold =20.200000000000003, max F1 = 0.5006858710562414\n",
      "best threshold =20.3, max F1 = 0.5020632737276479\n",
      "best threshold =20.400000000000002, max F1 = 0.5044920525224603\n",
      "best threshold =20.5, max F1 = 0.5055401662049862\n",
      "best threshold =20.6, max F1 = 0.5076495132127955\n",
      "best threshold =20.700000000000003, max F1 = 0.509420795533845\n",
      "best threshold =20.8, max F1 = 0.5112044817927172\n",
      "best threshold =20.900000000000002, max F1 = 0.512280701754386\n",
      "best threshold =21.0, max F1 = 0.513722730471499\n",
      "best threshold =21.1, max F1 = 0.5166312809624911\n",
      "best threshold =21.200000000000003, max F1 = 0.5184659090909091\n",
      "best threshold =21.3, max F1 = 0.519203413940256\n",
      "best threshold =21.400000000000002, max F1 = 0.5203136136849608\n",
      "best threshold =21.5, max F1 = 0.5229226361031518\n",
      "best threshold =21.6, max F1 = 0.5263157894736842\n",
      "best threshold =21.700000000000003, max F1 = 0.5274566473988439\n",
      "best threshold =21.8, max F1 = 0.5278380332610267\n",
      "best threshold =21.900000000000002, max F1 = 0.5297532656023223\n",
      "best threshold =22.0, max F1 = 0.5309090909090909\n",
      "best threshold =22.1, max F1 = 0.5340160936356986\n",
      "best threshold =22.200000000000003, max F1 = 0.5355832721936903\n",
      "best threshold =22.3, max F1 = 0.5367647058823529\n",
      "best threshold =22.400000000000002, max F1 = 0.5383480825958702\n",
      "best threshold =22.5, max F1 = 0.5395417590539542\n",
      "best threshold =22.6, max F1 = 0.5427509293680297\n",
      "best threshold =22.700000000000003, max F1 = 0.5443698732289337\n",
      "best threshold =22.8, max F1 = 0.5455904334828102\n",
      "best threshold =22.900000000000002, max F1 = 0.5472263868065967\n",
      "best threshold =23.0, max F1 = 0.5484598046581517\n",
      "best threshold =23.1, max F1 = 0.549698795180723\n",
      "best threshold =23.200000000000003, max F1 = 0.5517762660619804\n",
      "best threshold =23.3, max F1 = 0.5526116578349735\n",
      "best threshold =23.400000000000002, max F1 = 0.5581039755351682\n",
      "best threshold =23.5, max F1 = 0.5602455871066769\n",
      "best threshold =23.6, max F1 = 0.5619707467282524\n",
      "best threshold =23.700000000000003, max F1 = 0.5637065637065637\n",
      "best threshold =23.8, max F1 = 0.565015479876161\n",
      "best threshold =23.900000000000002, max F1 = 0.5658914728682171\n",
      "best threshold =24.0, max F1 = 0.5694227769110765\n",
      "best threshold =24.1, max F1 = 0.5721003134796239\n",
      "best threshold =24.200000000000003, max F1 = 0.5734485467399844\n",
      "best threshold =24.3, max F1 = 0.5761641673243884\n",
      "best threshold =24.400000000000002, max F1 = 0.5779889152810769\n",
      "best threshold =24.5, max F1 = 0.5789056304520221\n",
      "best threshold =24.6, max F1 = 0.5812101910828026\n",
      "best threshold =24.700000000000003, max F1 = 0.5826017557861134\n",
      "best threshold =24.8, max F1 = 0.5858747993579455\n",
      "best threshold =24.900000000000002, max F1 = 0.5891848264729621\n",
      "best threshold =25.0, max F1 = 0.5910931174089069\n",
      "best threshold =25.200000000000003, max F1 = 0.5938009787928221\n",
      "best threshold =25.3, max F1 = 0.5947712418300654\n",
      "best threshold =25.400000000000002, max F1 = 0.5962325962325963\n",
      "best threshold =25.5, max F1 = 0.5967213114754099\n",
      "best threshold =25.6, max F1 = 0.5986842105263158\n",
      "best threshold =25.700000000000003, max F1 = 0.6001648804616653\n",
      "best threshold =25.8, max F1 = 0.6016528925619835\n",
      "best threshold =25.900000000000002, max F1 = 0.6031483015741509\n",
      "best threshold =26.0, max F1 = 0.6046511627906976\n",
      "best threshold =26.1, max F1 = 0.6056572379367721\n",
      "best threshold =26.200000000000003, max F1 = 0.6061615320566195\n",
      "best threshold =26.3, max F1 = 0.6071726438698916\n",
      "best threshold =26.400000000000002, max F1 = 0.6086956521739131\n",
      "best threshold =26.5, max F1 = 0.6102263202011736\n",
      "best threshold =26.6, max F1 = 0.6102263202011736\n",
      "best threshold =26.700000000000003, max F1 = 0.6112510495382032\n",
      "best threshold =26.8, max F1 = 0.6112510495382032\n",
      "best threshold =26.900000000000002, max F1 = 0.611764705882353\n",
      "best threshold =27.0, max F1 = 0.6138279932546375\n",
      "best threshold =27.1, max F1 = 0.6153846153846153\n",
      "best threshold =27.200000000000003, max F1 = 0.6159052453468697\n",
      "best threshold =27.3, max F1 = 0.6174724342663275\n",
      "best threshold =27.400000000000002, max F1 = 0.6179966044142614\n",
      "best threshold =27.5, max F1 = 0.6183986371379898\n",
      "best threshold =27.6, max F1 = 0.6215753424657534\n",
      "best threshold =27.700000000000003, max F1 = 0.622107969151671\n",
      "best threshold =27.8, max F1 = 0.6226415094339622\n",
      "best threshold =27.900000000000002, max F1 = 0.6237113402061856\n",
      "best threshold =28.0, max F1 = 0.6246764452113891\n",
      "best threshold =28.1, max F1 = 0.6273830155979202\n",
      "best threshold =28.200000000000003, max F1 = 0.6278260869565218\n",
      "best threshold =28.3, max F1 = 0.6300174520069808\n",
      "best threshold =28.400000000000002, max F1 = 0.6316710411198599\n",
      "best threshold =28.5, max F1 = 0.6327782646801052\n",
      "best threshold =28.6, max F1 = 0.6338893766461808\n",
      "best threshold =28.700000000000003, max F1 = 0.6350043975373791\n",
      "best threshold =29.0, max F1 = 0.6360424028268552\n",
      "best threshold =29.1, max F1 = 0.636604774535809\n",
      "best threshold =29.200000000000003, max F1 = 0.6394316163410302\n",
      "best threshold =29.3, max F1 = 0.6422836752899197\n",
      "best threshold =29.400000000000002, max F1 = 0.6440071556350626\n",
      "best threshold =29.5, max F1 = 0.6457399103139013\n",
      "best threshold =29.6, max F1 = 0.6492335437330928\n",
      "best threshold =29.700000000000003, max F1 = 0.6492335437330928\n",
      "best threshold =29.8, max F1 = 0.6498194945848376\n",
      "best threshold =29.900000000000002, max F1 = 0.6515837104072398\n",
      "best threshold =30.0, max F1 = 0.6521344232515894\n",
      "best threshold =30.1, max F1 = 0.6533212010919017\n",
      "best threshold =30.200000000000003, max F1 = 0.6545123062898814\n",
      "best threshold =30.3, max F1 = 0.656907593778591\n",
      "best threshold =30.400000000000002, max F1 = 0.6575091575091574\n",
      "best threshold =30.5, max F1 = 0.6575091575091574\n",
      "best threshold =30.6, max F1 = 0.6587155963302752\n",
      "best threshold =30.700000000000003, max F1 = 0.6593204775022957\n",
      "best threshold =30.8, max F1 = 0.6599264705882353\n",
      "best threshold =30.900000000000002, max F1 = 0.6611418047882136\n",
      "best threshold =31.0, max F1 = 0.6611418047882136\n",
      "best threshold =31.1, max F1 = 0.6611418047882136\n",
      "best threshold =31.200000000000003, max F1 = 0.6623616236162362\n",
      "best threshold =31.3, max F1 = 0.6629732225300091\n",
      "best threshold =31.400000000000002, max F1 = 0.6635859519408503\n",
      "best threshold =31.5, max F1 = 0.6660482374768089\n",
      "best threshold =31.6, max F1 = 0.6666666666666667\n",
      "best threshold =31.700000000000003, max F1 = 0.6704014939309058\n",
      "best threshold =31.8, max F1 = 0.6722846441947565\n",
      "best threshold =31.900000000000002, max F1 = 0.6741784037558686\n",
      "best threshold =32.0, max F1 = 0.6741784037558686\n",
      "best threshold =32.1, max F1 = 0.6754468485418627\n",
      "best threshold =32.2, max F1 = 0.6767200754005654\n",
      "best threshold =32.300000000000004, max F1 = 0.6786389413988658\n",
      "best threshold =32.4, max F1 = 0.6799242424242423\n",
      "best threshold =32.5, max F1 = 0.6825095057034221\n",
      "best threshold =32.6, max F1 = 0.6838095238095239\n",
      "best threshold =32.7, max F1 = 0.6844613918017158\n",
      "best threshold =32.800000000000004, max F1 = 0.6844613918017158\n",
      "best threshold =32.9, max F1 = 0.6857688634192932\n",
      "best threshold =33.2, max F1 = 0.6858237547892722\n",
      "best threshold =33.300000000000004, max F1 = 0.6864813039309684\n",
      "best threshold =33.4, max F1 = 0.6871401151631478\n",
      "best threshold =33.5, max F1 = 0.6884615384615385\n",
      "best threshold =33.6, max F1 = 0.6897880539499036\n",
      "best threshold =33.7, max F1 = 0.6897880539499036\n",
      "best threshold =33.800000000000004, max F1 = 0.6904532304725169\n",
      "best threshold =33.9, max F1 = 0.6911196911196912\n",
      "best threshold =34.1, max F1 = 0.691860465116279\n",
      "best threshold =34.2, max F1 = 0.6952288218111002\n",
      "best threshold =34.300000000000004, max F1 = 0.6965853658536586\n",
      "best threshold =34.4, max F1 = 0.6979472140762464\n",
      "best threshold =34.5, max F1 = 0.6993143976493633\n",
      "best threshold =34.6, max F1 = 0.6999999999999998\n",
      "best threshold =34.7, max F1 = 0.7020648967551623\n",
      "best threshold =34.800000000000004, max F1 = 0.703448275862069\n",
      "best threshold =34.9, max F1 = 0.7055335968379447\n",
      "best threshold =35.0, max F1 = 0.7062314540059348\n",
      "best threshold =35.1, max F1 = 0.707631318136769\n",
      "best threshold =35.2, max F1 = 0.7090367428003972\n",
      "best threshold =35.5, max F1 = 0.7091633466135459\n",
      "best threshold =35.6, max F1 = 0.7105788423153693\n",
      "best threshold =35.7, max F1 = 0.712\n",
      "best threshold =35.800000000000004, max F1 = 0.7127127127127126\n",
      "best threshold =35.9, max F1 = 0.715577889447236\n",
      "best threshold =36.0, max F1 = 0.7170191339375631\n",
      "best threshold =36.1, max F1 = 0.7184661957618569\n",
      "best threshold =36.2, max F1 = 0.7199191102123358\n",
      "best threshold =36.300000000000004, max F1 = 0.7221095334685599\n",
      "best threshold =36.4, max F1 = 0.7221095334685599\n",
      "best threshold =36.5, max F1 = 0.7228426395939086\n",
      "best threshold =36.6, max F1 = 0.7243133265513734\n",
      "best threshold =36.7, max F1 = 0.7243133265513734\n",
      "best threshold =36.800000000000004, max F1 = 0.7243133265513734\n",
      "best threshold =36.9, max F1 = 0.7243133265513734\n",
      "best threshold =37.0, max F1 = 0.7265306122448979\n",
      "best threshold =37.1, max F1 = 0.7272727272727272\n",
      "best threshold =37.2, max F1 = 0.7272727272727272\n",
      "best threshold =37.300000000000004, max F1 = 0.7280163599182004\n",
      "best threshold =37.4, max F1 = 0.7302564102564102\n",
      "best threshold =37.5, max F1 = 0.7317574511819116\n",
      "best threshold =37.6, max F1 = 0.7317574511819116\n",
      "best threshold =38.300000000000004, max F1 = 0.7329192546583851\n",
      "best threshold =38.400000000000006, max F1 = 0.7336787564766838\n",
      "best threshold =38.5, max F1 = 0.7344398340248963\n",
      "best threshold =38.6, max F1 = 0.735202492211838\n",
      "best threshold =38.7, max F1 = 0.7375\n",
      "best threshold =38.800000000000004, max F1 = 0.7382690302398333\n",
      "best threshold =38.900000000000006, max F1 = 0.7390396659707724\n",
      "best threshold =39.0, max F1 = 0.7398119122257053\n",
      "best threshold =39.1, max F1 = 0.7405857740585773\n",
      "best threshold =39.2, max F1 = 0.7405857740585773\n",
      "best threshold =39.300000000000004, max F1 = 0.7421383647798743\n",
      "best threshold =39.400000000000006, max F1 = 0.7421383647798743\n",
      "best threshold =39.5, max F1 = 0.7423764458464773\n",
      "best threshold =39.6, max F1 = 0.7431578947368421\n",
      "best threshold =39.7, max F1 = 0.7431578947368421\n",
      "best threshold =39.800000000000004, max F1 = 0.743940990516333\n",
      "best threshold =39.900000000000006, max F1 = 0.7447257383966244\n",
      "best threshold =40.0, max F1 = 0.7455121436114044\n",
      "best threshold =40.1, max F1 = 0.7463002114164905\n",
      "best threshold =40.2, max F1 = 0.7463002114164905\n",
      "best threshold =40.300000000000004, max F1 = 0.7478813559322034\n",
      "best threshold =40.400000000000006, max F1 = 0.7494692144373672\n",
      "best threshold =40.5, max F1 = 0.7502656748140276\n",
      "best threshold =40.6, max F1 = 0.7510638297872341\n",
      "best threshold =40.7, max F1 = 0.7510638297872341\n",
      "best threshold =40.800000000000004, max F1 = 0.7534685165421557\n",
      "best threshold =41.300000000000004, max F1 = 0.7537473233404711\n",
      "best threshold =41.400000000000006, max F1 = 0.7545551982851019\n",
      "best threshold =41.5, max F1 = 0.7545551982851019\n",
      "best threshold =41.6, max F1 = 0.7569892473118279\n",
      "best threshold =41.7, max F1 = 0.7569892473118279\n",
      "best threshold =41.800000000000004, max F1 = 0.7578040904198062\n",
      "best threshold =41.900000000000006, max F1 = 0.7578040904198062\n",
      "best threshold =42.0, max F1 = 0.7578040904198062\n",
      "best threshold =42.1, max F1 = 0.7586206896551724\n",
      "best threshold =42.2, max F1 = 0.7602591792656589\n",
      "best threshold =42.300000000000004, max F1 = 0.7610810810810811\n",
      "best threshold =42.400000000000006, max F1 = 0.7610810810810811\n",
      "best threshold =42.5, max F1 = 0.7610810810810811\n",
      "best threshold =42.6, max F1 = 0.7619047619047619\n",
      "best threshold =42.7, max F1 = 0.76273022751896\n",
      "best threshold =42.800000000000004, max F1 = 0.7635574837310196\n",
      "best threshold =42.900000000000006, max F1 = 0.7652173913043477\n",
      "best threshold =43.2, max F1 = 0.7663755458515283\n",
      "best threshold =43.300000000000004, max F1 = 0.7663755458515283\n",
      "best threshold =43.400000000000006, max F1 = 0.7672131147540984\n",
      "best threshold =43.5, max F1 = 0.7680525164113786\n",
      "best threshold =43.6, max F1 = 0.768893756845564\n",
      "best threshold =43.7, max F1 = 0.768893756845564\n",
      "best threshold =43.800000000000004, max F1 = 0.769736842105263\n",
      "best threshold =43.900000000000006, max F1 = 0.7705817782656422\n",
      "best threshold =44.0, max F1 = 0.7739801543550164\n",
      "best threshold =44.1, max F1 = 0.7739801543550164\n",
      "best threshold =44.2, max F1 = 0.7739801543550164\n",
      "best threshold =44.300000000000004, max F1 = 0.7748344370860928\n",
      "best threshold =44.400000000000006, max F1 = 0.7748344370860928\n",
      "best threshold =44.5, max F1 = 0.7756906077348067\n",
      "best threshold =44.6, max F1 = 0.7765486725663716\n",
      "best threshold =44.7, max F1 = 0.7765486725663716\n",
      "best threshold =44.800000000000004, max F1 = 0.7765486725663716\n",
      "best threshold =44.900000000000006, max F1 = 0.7765486725663716\n",
      "best threshold =45.0, max F1 = 0.7774086378737541\n",
      "best threshold =45.1, max F1 = 0.7774086378737541\n",
      "best threshold =45.2, max F1 = 0.778270509977827\n",
      "best threshold =45.400000000000006, max F1 = 0.778642936596218\n",
      "best threshold =45.5, max F1 = 0.7812499999999999\n",
      "best threshold =45.6, max F1 = 0.7821229050279329\n",
      "best threshold =45.7, max F1 = 0.7838745800671892\n",
      "best threshold =45.800000000000004, max F1 = 0.7847533632286995\n",
      "best threshold =45.900000000000006, max F1 = 0.7847533632286995\n",
      "best threshold =46.0, max F1 = 0.7847533632286995\n",
      "best threshold =46.1, max F1 = 0.7847533632286995\n",
      "best threshold =46.2, max F1 = 0.7847533632286995\n",
      "best threshold =46.300000000000004, max F1 = 0.7856341189674523\n",
      "best threshold =46.400000000000006, max F1 = 0.7865168539325843\n",
      "best threshold =46.5, max F1 = 0.7865168539325843\n",
      "best threshold =47.0, max F1 = 0.7869222096956031\n",
      "best threshold =47.1, max F1 = 0.7878103837471784\n",
      "best threshold =47.2, max F1 = 0.7887005649717514\n",
      "best threshold =47.400000000000006, max F1 = 0.7891156462585034\n",
      "best threshold =47.5, max F1 = 0.7900113507377979\n",
      "best threshold =47.6, max F1 = 0.7900113507377979\n",
      "best threshold =47.7, max F1 = 0.7918088737201366\n",
      "best threshold =47.800000000000004, max F1 = 0.7918088737201366\n",
      "best threshold =47.900000000000006, max F1 = 0.7918088737201366\n",
      "best threshold =48.0, max F1 = 0.7927107061503417\n",
      "best threshold =48.1, max F1 = 0.7927107061503417\n",
      "best threshold =48.2, max F1 = 0.7927107061503417\n",
      "best threshold =48.300000000000004, max F1 = 0.7927107061503417\n",
      "best threshold =48.400000000000006, max F1 = 0.7927107061503417\n",
      "best threshold =48.5, max F1 = 0.7936145952109465\n",
      "best threshold =48.6, max F1 = 0.7936145952109465\n",
      "best threshold =48.800000000000004, max F1 = 0.7940503432494279\n",
      "best threshold =48.900000000000006, max F1 = 0.7940503432494279\n",
      "best threshold =49.0, max F1 = 0.7940503432494279\n",
      "best threshold =49.1, max F1 = 0.7949599083619703\n",
      "best threshold =49.2, max F1 = 0.7977011494252874\n",
      "best threshold =49.300000000000004, max F1 = 0.7977011494252874\n",
      "best threshold =49.400000000000006, max F1 = 0.7986191024165707\n",
      "best threshold =49.5, max F1 = 0.7986191024165707\n",
      "best threshold =49.6, max F1 = 0.7986191024165707\n",
      "best threshold =49.7, max F1 = 0.7986191024165707\n",
      "best threshold =49.800000000000004, max F1 = 0.7986191024165707\n",
      "best threshold =49.900000000000006, max F1 = 0.7995391705069124\n",
      "best threshold =50.0, max F1 = 0.7995391705069124\n",
      "best threshold =50.2, max F1 = 0.7999999999999999\n",
      "best threshold =50.300000000000004, max F1 = 0.8009259259259259\n",
      "best threshold =50.400000000000006, max F1 = 0.801853997682503\n",
      "best threshold =50.5, max F1 = 0.801853997682503\n",
      "best threshold =50.6, max F1 = 0.801853997682503\n",
      "best threshold =50.7, max F1 = 0.801853997682503\n",
      "best threshold =50.800000000000004, max F1 = 0.801853997682503\n",
      "best threshold =50.900000000000006, max F1 = 0.801853997682503\n",
      "best threshold =51.0, max F1 = 0.801853997682503\n",
      "best threshold =51.1, max F1 = 0.801853997682503\n",
      "best threshold =51.2, max F1 = 0.8027842227378191\n",
      "best threshold =51.300000000000004, max F1 = 0.8037166085946574\n",
      "best threshold =51.800000000000004, max F1 = 0.8041958041958043\n",
      "best threshold =51.900000000000006, max F1 = 0.8041958041958043\n",
      "best threshold =52.0, max F1 = 0.8041958041958043\n",
      "best threshold =52.1, max F1 = 0.8060747663551402\n",
      "best threshold =52.2, max F1 = 0.8060747663551402\n",
      "best threshold =52.300000000000004, max F1 = 0.8060747663551402\n",
      "best threshold =52.400000000000006, max F1 = 0.8070175438596491\n",
      "best threshold =52.5, max F1 = 0.8070175438596491\n",
      "best threshold =52.6, max F1 = 0.8079625292740047\n",
      "best threshold =52.7, max F1 = 0.8089097303634232\n",
      "best threshold =52.800000000000004, max F1 = 0.8089097303634232\n",
      "best threshold =53.2, max F1 = 0.8089622641509434\n",
      "best threshold =53.300000000000004, max F1 = 0.8089622641509434\n",
      "best threshold =53.400000000000006, max F1 = 0.8089622641509434\n",
      "best threshold =53.5, max F1 = 0.8089622641509434\n",
      "best threshold =53.6, max F1 = 0.8089622641509434\n",
      "best threshold =53.7, max F1 = 0.8099173553719008\n",
      "best threshold =54.1, max F1 = 0.8104265402843601\n",
      "best threshold =54.2, max F1 = 0.8113879003558719\n",
      "best threshold =54.300000000000004, max F1 = 0.8113879003558719\n",
      "best threshold =54.400000000000006, max F1 = 0.8113879003558719\n",
      "best threshold =54.5, max F1 = 0.8123515439429928\n",
      "best threshold =54.6, max F1 = 0.8123515439429928\n",
      "best threshold =54.7, max F1 = 0.8123515439429928\n",
      "best threshold =54.800000000000004, max F1 = 0.8123515439429928\n",
      "best threshold =54.900000000000006, max F1 = 0.8123515439429928\n",
      "best threshold =55.0, max F1 = 0.8123515439429928\n",
      "best threshold =55.1, max F1 = 0.8133174791914388\n",
      "best threshold =55.2, max F1 = 0.8133174791914388\n",
      "best threshold =55.300000000000004, max F1 = 0.8133174791914388\n",
      "best threshold =55.400000000000006, max F1 = 0.8133174791914388\n",
      "best threshold =55.5, max F1 = 0.8142857142857143\n",
      "best threshold =55.6, max F1 = 0.8142857142857143\n",
      "best threshold =55.7, max F1 = 0.8142857142857143\n",
      "best threshold =55.800000000000004, max F1 = 0.8142857142857143\n",
      "best threshold =55.900000000000006, max F1 = 0.8152562574493445\n",
      "best threshold =56.0, max F1 = 0.8152562574493445\n",
      "best threshold =56.1, max F1 = 0.8152562574493445\n",
      "best threshold =56.2, max F1 = 0.8152562574493445\n",
      "best threshold =56.300000000000004, max F1 = 0.8152562574493445\n",
      "best threshold =56.400000000000006, max F1 = 0.8152562574493445\n",
      "best threshold =56.5, max F1 = 0.8152562574493445\n",
      "best threshold =56.900000000000006, max F1 = 0.8167664670658682\n",
      "best threshold =57.0, max F1 = 0.8167664670658682\n",
      "best threshold =57.1, max F1 = 0.8177458033573142\n",
      "best threshold =57.2, max F1 = 0.8177458033573142\n",
      "best threshold =57.300000000000004, max F1 = 0.8197115384615384\n",
      "best threshold =57.400000000000006, max F1 = 0.8197115384615384\n",
      "best threshold =57.5, max F1 = 0.8197115384615384\n",
      "best threshold =57.6, max F1 = 0.8206979542719615\n",
      "best threshold =57.7, max F1 = 0.8206979542719615\n",
      "best threshold =57.800000000000004, max F1 = 0.8206979542719615\n",
      "best threshold =57.900000000000006, max F1 = 0.8206979542719615\n",
      "best threshold =58.0, max F1 = 0.8206979542719615\n",
      "best threshold =58.1, max F1 = 0.8206979542719615\n",
      "best threshold =58.2, max F1 = 0.8206979542719615\n",
      "best threshold =58.300000000000004, max F1 = 0.8226779252110977\n",
      "best threshold =58.400000000000006, max F1 = 0.8226779252110977\n",
      "best threshold =58.5, max F1 = 0.8226779252110977\n",
      "best threshold =58.6, max F1 = 0.8226779252110977\n",
      "best threshold =58.7, max F1 = 0.8226779252110977\n",
      "best threshold =58.800000000000004, max F1 = 0.8226779252110977\n",
      "best threshold =58.900000000000006, max F1 = 0.8226779252110977\n",
      "best threshold =59.0, max F1 = 0.8226779252110977\n",
      "best threshold =59.1, max F1 = 0.8226779252110977\n",
      "best threshold =59.2, max F1 = 0.8226779252110977\n",
      "best threshold =59.300000000000004, max F1 = 0.8226779252110977\n",
      "best threshold =59.400000000000006, max F1 = 0.8226779252110977\n",
      "best threshold =59.5, max F1 = 0.8226779252110977\n",
      "best threshold =59.6, max F1 = 0.8236714975845411\n",
      "best threshold =59.7, max F1 = 0.8236714975845411\n",
      "best threshold =59.800000000000004, max F1 = 0.8236714975845411\n",
      "best threshold =59.900000000000006, max F1 = 0.8246674727932286\n",
      "best threshold =60.0, max F1 = 0.8246674727932286\n",
      "best threshold =60.1, max F1 = 0.8266666666666667\n",
      "best threshold =60.2, max F1 = 0.8266666666666667\n",
      "best threshold =60.300000000000004, max F1 = 0.8276699029126213\n",
      "best threshold =60.400000000000006, max F1 = 0.8286755771567436\n",
      "best threshold =60.5, max F1 = 0.8296836982968371\n",
      "best threshold =60.6, max F1 = 0.830694275274056\n",
      "best threshold =60.7, max F1 = 0.830694275274056\n",
      "best threshold =60.800000000000004, max F1 = 0.830694275274056\n",
      "best threshold =60.900000000000006, max F1 = 0.830694275274056\n",
      "best threshold =61.0, max F1 = 0.830694275274056\n",
      "best threshold =61.800000000000004, max F1 = 0.8314883148831488\n",
      "best threshold =61.900000000000006, max F1 = 0.832512315270936\n",
      "best threshold =62.0, max F1 = 0.832512315270936\n",
      "best threshold =62.1, max F1 = 0.8335388409371146\n",
      "best threshold =62.2, max F1 = 0.8335388409371146\n",
      "best threshold =62.300000000000004, max F1 = 0.8335388409371146\n",
      "best threshold =62.400000000000006, max F1 = 0.8335388409371146\n",
      "best threshold =62.6, max F1 = 0.8341584158415842\n",
      "best threshold =62.7, max F1 = 0.8341584158415842\n",
      "best threshold =62.800000000000004, max F1 = 0.8341584158415842\n",
      "best threshold =62.900000000000006, max F1 = 0.8341584158415842\n",
      "best threshold =63.0, max F1 = 0.8351920693928128\n",
      "best threshold =63.1, max F1 = 0.8351920693928128\n",
      "best threshold =63.2, max F1 = 0.8351920693928128\n",
      "best threshold =63.300000000000004, max F1 = 0.8351920693928128\n",
      "best threshold =64.4, max F1 = 0.8358208955223881\n",
      "best threshold =64.5, max F1 = 0.8368617683686177\n",
      "best threshold =64.60000000000001, max F1 = 0.8379052369077307\n",
      "best threshold =64.7, max F1 = 0.8379052369077307\n",
      "best threshold =64.8, max F1 = 0.8389513108614232\n",
      "best threshold =64.9, max F1 = 0.8389513108614232\n",
      "best threshold =65.0, max F1 = 0.8389513108614232\n",
      "best threshold =65.10000000000001, max F1 = 0.8400000000000002\n",
      "best threshold =65.2, max F1 = 0.8400000000000002\n",
      "best threshold =65.3, max F1 = 0.8400000000000002\n",
      "best threshold =65.4, max F1 = 0.8400000000000002\n",
      "best threshold =65.5, max F1 = 0.8400000000000002\n",
      "best threshold =66.3, max F1 = 0.8406524466750314\n",
      "best threshold =66.4, max F1 = 0.8406524466750314\n",
      "best threshold =66.5, max F1 = 0.8406524466750314\n",
      "best threshold =66.60000000000001, max F1 = 0.8406524466750314\n",
      "best threshold =66.7, max F1 = 0.8406524466750314\n",
      "best threshold =67.7, max F1 = 0.8413098236775819\n",
      "best threshold =67.8, max F1 = 0.8413098236775819\n",
      "best threshold =67.9, max F1 = 0.8413098236775819\n",
      "best threshold =68.0, max F1 = 0.8413098236775819\n",
      "best threshold =68.10000000000001, max F1 = 0.8413098236775819\n",
      "best threshold =68.2, max F1 = 0.8413098236775819\n",
      "best threshold =68.3, max F1 = 0.8413098236775819\n",
      "best threshold =68.4, max F1 = 0.8423707440100883\n",
      "best threshold =68.5, max F1 = 0.8434343434343434\n",
      "best threshold =68.60000000000001, max F1 = 0.8434343434343434\n",
      "best threshold =68.7, max F1 = 0.8434343434343434\n",
      "best threshold =68.8, max F1 = 0.8434343434343434\n",
      "best threshold =68.9, max F1 = 0.8434343434343434\n",
      "best threshold =69.0, max F1 = 0.8434343434343434\n",
      "best threshold =69.10000000000001, max F1 = 0.8434343434343434\n",
      "best threshold =69.2, max F1 = 0.8434343434343434\n",
      "best threshold =69.3, max F1 = 0.8434343434343434\n",
      "best threshold =69.4, max F1 = 0.8434343434343434\n",
      "best threshold =69.5, max F1 = 0.8434343434343434\n",
      "best threshold =69.60000000000001, max F1 = 0.8434343434343434\n",
      "best threshold =69.7, max F1 = 0.8434343434343434\n",
      "best threshold =69.8, max F1 = 0.8445006321112516\n",
      "best threshold =69.9, max F1 = 0.8455696202531646\n",
      "best threshold =70.0, max F1 = 0.8455696202531646\n",
      "best threshold =70.10000000000001, max F1 = 0.8455696202531646\n",
      "best threshold =70.2, max F1 = 0.8455696202531646\n",
      "best threshold =70.3, max F1 = 0.8455696202531646\n",
      "best threshold =70.4, max F1 = 0.8466413181242078\n",
      "best threshold =70.5, max F1 = 0.8466413181242078\n",
      "best threshold =70.60000000000001, max F1 = 0.8477157360406092\n",
      "best threshold =70.7, max F1 = 0.8477157360406092\n",
      "best threshold =70.8, max F1 = 0.8477157360406092\n",
      "best threshold =70.9, max F1 = 0.8477157360406092\n",
      "best threshold =71.0, max F1 = 0.8477157360406092\n",
      "best threshold =71.10000000000001, max F1 = 0.8477157360406092\n",
      "best threshold =71.2, max F1 = 0.8477157360406092\n",
      "best threshold =71.3, max F1 = 0.8487928843710293\n",
      "best threshold =71.4, max F1 = 0.8498727735368958\n",
      "best threshold =71.5, max F1 = 0.8498727735368958\n",
      "best threshold =71.60000000000001, max F1 = 0.8509554140127389\n",
      "best threshold =71.7, max F1 = 0.8520408163265307\n",
      "best threshold =71.8, max F1 = 0.8520408163265307\n",
      "best threshold =71.9, max F1 = 0.8520408163265307\n",
      "best threshold =72.0, max F1 = 0.8520408163265307\n",
      "best threshold =72.10000000000001, max F1 = 0.8520408163265307\n",
      "best threshold =72.2, max F1 = 0.8520408163265307\n",
      "best threshold =72.3, max F1 = 0.8520408163265307\n",
      "best threshold =72.4, max F1 = 0.8531289910600256\n",
      "best threshold =72.5, max F1 = 0.8531289910600256\n",
      "best threshold =72.60000000000001, max F1 = 0.8531289910600256\n",
      "best threshold =72.7, max F1 = 0.8542199488491049\n",
      "best threshold =72.8, max F1 = 0.8542199488491049\n",
      "best threshold =72.9, max F1 = 0.8542199488491049\n",
      "best threshold =74.4, max F1 = 0.8545688545688546\n",
      "best threshold =74.5, max F1 = 0.8545688545688546\n",
      "best threshold =74.60000000000001, max F1 = 0.8545688545688546\n",
      "best threshold =74.7, max F1 = 0.8545688545688546\n",
      "best threshold =74.8, max F1 = 0.8567741935483871\n",
      "best threshold =74.9, max F1 = 0.8567741935483871\n",
      "best threshold =75.0, max F1 = 0.8567741935483871\n",
      "best threshold =75.10000000000001, max F1 = 0.8567741935483871\n",
      "best threshold =75.2, max F1 = 0.8567741935483871\n",
      "best threshold =75.3, max F1 = 0.8578811369509044\n",
      "best threshold =75.4, max F1 = 0.8578811369509044\n",
      "best threshold =75.5, max F1 = 0.8589909443725744\n",
      "best threshold =75.60000000000001, max F1 = 0.8589909443725744\n",
      "best threshold =75.7, max F1 = 0.8589909443725744\n",
      "best threshold =75.8, max F1 = 0.8589909443725744\n",
      "best threshold =75.9, max F1 = 0.8589909443725744\n",
      "best threshold =76.0, max F1 = 0.8589909443725744\n",
      "best threshold =76.10000000000001, max F1 = 0.8589909443725744\n",
      "best threshold =76.2, max F1 = 0.8589909443725744\n",
      "best threshold =76.3, max F1 = 0.8589909443725744\n",
      "best threshold =76.4, max F1 = 0.8589909443725744\n",
      "best threshold =76.5, max F1 = 0.8589909443725744\n",
      "best threshold =76.60000000000001, max F1 = 0.8589909443725744\n",
      "best threshold =76.7, max F1 = 0.8589909443725744\n",
      "best threshold =76.80000000000001, max F1 = 0.8601036269430051\n",
      "best threshold =76.9, max F1 = 0.8601036269430051\n",
      "best threshold =77.0, max F1 = 0.8601036269430051\n",
      "best threshold =77.10000000000001, max F1 = 0.8601036269430051\n",
      "best threshold =77.2, max F1 = 0.8601036269430051\n",
      "best threshold =77.30000000000001, max F1 = 0.8601036269430051\n",
      "best threshold =77.4, max F1 = 0.8601036269430051\n",
      "best threshold =77.5, max F1 = 0.8601036269430051\n",
      "best threshold =77.60000000000001, max F1 = 0.8601036269430051\n",
      "best threshold =77.7, max F1 = 0.8601036269430051\n",
      "best threshold =77.80000000000001, max F1 = 0.8601036269430051\n",
      "best threshold =77.9, max F1 = 0.8601036269430051\n",
      "best threshold =79.9, max F1 = 0.8608582574772431\n",
      "best threshold =80.0, max F1 = 0.8608582574772431\n",
      "best threshold =80.10000000000001, max F1 = 0.8608582574772431\n",
      "best threshold =80.2, max F1 = 0.8619791666666667\n",
      "best threshold =80.30000000000001, max F1 = 0.8619791666666667\n",
      "best threshold =80.4, max F1 = 0.863102998696219\n",
      "best threshold =80.5, max F1 = 0.863102998696219\n",
      "best threshold =80.60000000000001, max F1 = 0.863102998696219\n",
      "best threshold =80.7, max F1 = 0.863102998696219\n",
      "best threshold =80.80000000000001, max F1 = 0.863102998696219\n",
      "best threshold =80.9, max F1 = 0.863102998696219\n",
      "best threshold =81.0, max F1 = 0.863102998696219\n",
      "best threshold =81.10000000000001, max F1 = 0.863102998696219\n",
      "best threshold =81.2, max F1 = 0.863102998696219\n",
      "best threshold =81.30000000000001, max F1 = 0.863102998696219\n",
      "best threshold =81.4, max F1 = 0.863102998696219\n",
      "best threshold =81.5, max F1 = 0.863102998696219\n",
      "best threshold =81.60000000000001, max F1 = 0.863102998696219\n",
      "best threshold =81.7, max F1 = 0.8642297650130549\n",
      "best threshold =83.7, max F1 = 0.8646517739816031\n",
      "best threshold =83.80000000000001, max F1 = 0.8646517739816031\n",
      "best threshold =83.9, max F1 = 0.8646517739816031\n",
      "best threshold =84.0, max F1 = 0.8646517739816031\n",
      "best threshold =84.10000000000001, max F1 = 0.8646517739816031\n",
      "best threshold =84.2, max F1 = 0.8646517739816031\n",
      "best threshold =84.30000000000001, max F1 = 0.8646517739816031\n",
      "best threshold =84.4, max F1 = 0.8646517739816031\n",
      "best threshold =84.5, max F1 = 0.8646517739816031\n",
      "best threshold =84.60000000000001, max F1 = 0.8646517739816031\n",
      "best threshold =84.7, max F1 = 0.8646517739816031\n",
      "best threshold =84.80000000000001, max F1 = 0.8646517739816031\n",
      "best threshold =84.9, max F1 = 0.8646517739816031\n",
      "best threshold =85.0, max F1 = 0.8646517739816031\n",
      "best threshold =85.10000000000001, max F1 = 0.8646517739816031\n",
      "best threshold =85.2, max F1 = 0.8646517739816031\n",
      "best threshold =85.30000000000001, max F1 = 0.8646517739816031\n",
      "best threshold =85.4, max F1 = 0.8646517739816031\n",
      "best threshold =85.5, max F1 = 0.8646517739816031\n",
      "best threshold =85.60000000000001, max F1 = 0.8646517739816031\n",
      "best threshold =85.7, max F1 = 0.8646517739816031\n",
      "best threshold =85.80000000000001, max F1 = 0.8646517739816031\n",
      "best threshold =85.9, max F1 = 0.8646517739816031\n",
      "best threshold =86.0, max F1 = 0.8646517739816031\n",
      "best threshold =86.10000000000001, max F1 = 0.8646517739816031\n",
      "best threshold =86.2, max F1 = 0.8646517739816031\n",
      "best threshold =86.30000000000001, max F1 = 0.8646517739816031\n",
      "best threshold =86.4, max F1 = 0.8646517739816031\n",
      "best threshold =86.5, max F1 = 0.8646517739816031\n",
      "best threshold =87.30000000000001, max F1 = 0.8654353562005277\n",
      "best threshold =87.4, max F1 = 0.8654353562005277\n",
      "best threshold =87.5, max F1 = 0.8654353562005277\n",
      "best threshold =87.60000000000001, max F1 = 0.8654353562005277\n",
      "best threshold =87.7, max F1 = 0.8654353562005277\n",
      "best threshold =87.80000000000001, max F1 = 0.8654353562005277\n",
      "best threshold =87.9, max F1 = 0.8654353562005277\n",
      "best threshold =88.0, max F1 = 0.8654353562005277\n",
      "best threshold =88.10000000000001, max F1 = 0.8654353562005277\n",
      "best threshold =88.2, max F1 = 0.8654353562005277\n",
      "best threshold =88.30000000000001, max F1 = 0.8654353562005277\n",
      "best threshold =88.4, max F1 = 0.8654353562005277\n",
      "best threshold =88.5, max F1 = 0.8654353562005277\n",
      "best threshold =88.60000000000001, max F1 = 0.8654353562005277\n",
      "best threshold =95.80000000000001, max F1 = 0.8662251655629138\n",
      "best threshold =95.9, max F1 = 0.8662251655629138\n",
      "best threshold =96.0, max F1 = 0.8662251655629138\n",
      "best threshold =99.30000000000001, max F1 = 0.8666666666666667\n",
      "best threshold =99.4, max F1 = 0.8666666666666667\n",
      "best threshold =99.5, max F1 = 0.8666666666666667\n",
      "best threshold =99.60000000000001, max F1 = 0.8666666666666667\n",
      "best threshold =99.7, max F1 = 0.8666666666666667\n",
      "best threshold =99.80000000000001, max F1 = 0.8666666666666667\n",
      "best threshold =99.9, max F1 = 0.8666666666666667\n",
      "best threshold =100.0, max F1 = 0.8666666666666667\n",
      "best threshold =100.10000000000001, max F1 = 0.8666666666666667\n",
      "best threshold =100.2, max F1 = 0.8666666666666667\n",
      "best threshold =100.30000000000001, max F1 = 0.8666666666666667\n",
      "best threshold =100.4, max F1 = 0.8666666666666667\n",
      "best threshold =100.5, max F1 = 0.8666666666666667\n",
      "best threshold =100.60000000000001, max F1 = 0.8666666666666667\n",
      "best threshold =100.7, max F1 = 0.8678237650200266\n",
      "best threshold =100.80000000000001, max F1 = 0.8678237650200266\n",
      "best threshold =100.9, max F1 = 0.8678237650200266\n",
      "best threshold =101.0, max F1 = 0.8678237650200266\n",
      "best threshold =101.10000000000001, max F1 = 0.8678237650200266\n",
      "best threshold =101.2, max F1 = 0.8678237650200266\n",
      "best threshold =101.30000000000001, max F1 = 0.8678237650200266\n",
      "best threshold =101.4, max F1 = 0.8678237650200266\n",
      "best threshold =101.5, max F1 = 0.8678237650200266\n",
      "best threshold =101.60000000000001, max F1 = 0.8678237650200266\n",
      "best threshold =101.7, max F1 = 0.8678237650200266\n",
      "best threshold =101.80000000000001, max F1 = 0.8678237650200266\n",
      "best threshold =101.9, max F1 = 0.8678237650200266\n"
     ]
    },
    {
     "data": {
      "text/plain": [
       "(101.9, 378.0, (7392,))"
      ]
     },
     "execution_count": 38,
     "metadata": {},
     "output_type": "execute_result"
    }
   ],
   "source": [
    "step = 1/10\n",
    "threshold = select_best_threshold(reconstructed_prob, step, Anomaly_Test)\n",
    "anomaly_predicted = predict_anomalies(reconstructed_prob, threshold)\n",
    "\n",
    "threshold, anomaly_predicted.sum(), anomaly_predicted.shape"
   ]
  },
  {
   "cell_type": "code",
   "execution_count": 39,
   "id": "69cd4c2b",
   "metadata": {
    "execution": {
     "iopub.execute_input": "2022-08-27T22:54:38.382960Z",
     "iopub.status.busy": "2022-08-27T22:54:38.382074Z",
     "iopub.status.idle": "2022-08-27T22:54:38.395504Z",
     "shell.execute_reply": "2022-08-27T22:54:38.394692Z"
    },
    "papermill": {
     "duration": 2.456878,
     "end_time": "2022-08-27T22:54:38.399143",
     "exception": false,
     "start_time": "2022-08-27T22:54:35.942265",
     "status": "completed"
    },
    "tags": []
   },
   "outputs": [
    {
     "data": {
      "text/html": [
       "<div>\n",
       "<style scoped>\n",
       "    .dataframe tbody tr th:only-of-type {\n",
       "        vertical-align: middle;\n",
       "    }\n",
       "\n",
       "    .dataframe tbody tr th {\n",
       "        vertical-align: top;\n",
       "    }\n",
       "\n",
       "    .dataframe thead th {\n",
       "        text-align: right;\n",
       "    }\n",
       "</style>\n",
       "<table border=\"1\" class=\"dataframe\">\n",
       "  <thead>\n",
       "    <tr style=\"text-align: right;\">\n",
       "      <th></th>\n",
       "      <th>Anomaly</th>\n",
       "    </tr>\n",
       "  </thead>\n",
       "  <tbody>\n",
       "    <tr>\n",
       "      <th>0</th>\n",
       "      <td>0</td>\n",
       "    </tr>\n",
       "    <tr>\n",
       "      <th>1</th>\n",
       "      <td>0</td>\n",
       "    </tr>\n",
       "    <tr>\n",
       "      <th>2</th>\n",
       "      <td>0</td>\n",
       "    </tr>\n",
       "    <tr>\n",
       "      <th>3</th>\n",
       "      <td>0</td>\n",
       "    </tr>\n",
       "    <tr>\n",
       "      <th>4</th>\n",
       "      <td>0</td>\n",
       "    </tr>\n",
       "    <tr>\n",
       "      <th>...</th>\n",
       "      <td>...</td>\n",
       "    </tr>\n",
       "    <tr>\n",
       "      <th>7387</th>\n",
       "      <td>0</td>\n",
       "    </tr>\n",
       "    <tr>\n",
       "      <th>7388</th>\n",
       "      <td>0</td>\n",
       "    </tr>\n",
       "    <tr>\n",
       "      <th>7389</th>\n",
       "      <td>0</td>\n",
       "    </tr>\n",
       "    <tr>\n",
       "      <th>7390</th>\n",
       "      <td>0</td>\n",
       "    </tr>\n",
       "    <tr>\n",
       "      <th>7391</th>\n",
       "      <td>0</td>\n",
       "    </tr>\n",
       "  </tbody>\n",
       "</table>\n",
       "<p>7392 rows × 1 columns</p>\n",
       "</div>"
      ],
      "text/plain": [
       "      Anomaly\n",
       "0           0\n",
       "1           0\n",
       "2           0\n",
       "3           0\n",
       "4           0\n",
       "...       ...\n",
       "7387        0\n",
       "7388        0\n",
       "7389        0\n",
       "7390        0\n",
       "7391        0\n",
       "\n",
       "[7392 rows x 1 columns]"
      ]
     },
     "execution_count": 39,
     "metadata": {},
     "output_type": "execute_result"
    }
   ],
   "source": [
    "Anomaly_Test.reset_index(inplace=True)\n",
    "Anomaly_Test.drop(columns='index', inplace=True)\n",
    "Anomaly_Test"
   ]
  },
  {
   "cell_type": "code",
   "execution_count": 40,
   "id": "f0c43224",
   "metadata": {
    "execution": {
     "iopub.execute_input": "2022-08-27T22:54:43.491292Z",
     "iopub.status.busy": "2022-08-27T22:54:43.490803Z",
     "iopub.status.idle": "2022-08-27T22:54:43.508077Z",
     "shell.execute_reply": "2022-08-27T22:54:43.506701Z"
    },
    "papermill": {
     "duration": 2.431069,
     "end_time": "2022-08-27T22:54:43.511581",
     "exception": false,
     "start_time": "2022-08-27T22:54:41.080512",
     "status": "completed"
    },
    "tags": []
   },
   "outputs": [
    {
     "data": {
      "text/html": [
       "<div>\n",
       "<style scoped>\n",
       "    .dataframe tbody tr th:only-of-type {\n",
       "        vertical-align: middle;\n",
       "    }\n",
       "\n",
       "    .dataframe tbody tr th {\n",
       "        vertical-align: top;\n",
       "    }\n",
       "\n",
       "    .dataframe thead th {\n",
       "        text-align: right;\n",
       "    }\n",
       "</style>\n",
       "<table border=\"1\" class=\"dataframe\">\n",
       "  <thead>\n",
       "    <tr style=\"text-align: right;\">\n",
       "      <th></th>\n",
       "      <th>Consumption</th>\n",
       "      <th>DayOfWeek</th>\n",
       "      <th>Anomaly_Label_GT</th>\n",
       "      <th>Anomaly_Predicted</th>\n",
       "      <th>Reconstruction_Probability</th>\n",
       "    </tr>\n",
       "  </thead>\n",
       "  <tbody>\n",
       "    <tr>\n",
       "      <th>0</th>\n",
       "      <td>-0.660426</td>\n",
       "      <td>-0.499988</td>\n",
       "      <td>0</td>\n",
       "      <td>0.0</td>\n",
       "      <td>15.735534</td>\n",
       "    </tr>\n",
       "    <tr>\n",
       "      <th>1</th>\n",
       "      <td>-0.699319</td>\n",
       "      <td>-0.499988</td>\n",
       "      <td>0</td>\n",
       "      <td>0.0</td>\n",
       "      <td>11.671026</td>\n",
       "    </tr>\n",
       "    <tr>\n",
       "      <th>2</th>\n",
       "      <td>-0.685176</td>\n",
       "      <td>-0.499988</td>\n",
       "      <td>0</td>\n",
       "      <td>0.0</td>\n",
       "      <td>10.607636</td>\n",
       "    </tr>\n",
       "    <tr>\n",
       "      <th>3</th>\n",
       "      <td>-0.586177</td>\n",
       "      <td>-0.499988</td>\n",
       "      <td>0</td>\n",
       "      <td>0.0</td>\n",
       "      <td>4.723571</td>\n",
       "    </tr>\n",
       "    <tr>\n",
       "      <th>4</th>\n",
       "      <td>-0.434142</td>\n",
       "      <td>-0.499988</td>\n",
       "      <td>0</td>\n",
       "      <td>0.0</td>\n",
       "      <td>2.979594</td>\n",
       "    </tr>\n",
       "  </tbody>\n",
       "</table>\n",
       "</div>"
      ],
      "text/plain": [
       "   Consumption  DayOfWeek  Anomaly_Label_GT  Anomaly_Predicted  \\\n",
       "0    -0.660426  -0.499988                 0                0.0   \n",
       "1    -0.699319  -0.499988                 0                0.0   \n",
       "2    -0.685176  -0.499988                 0                0.0   \n",
       "3    -0.586177  -0.499988                 0                0.0   \n",
       "4    -0.434142  -0.499988                 0                0.0   \n",
       "\n",
       "   Reconstruction_Probability  \n",
       "0                   15.735534  \n",
       "1                   11.671026  \n",
       "2                   10.607636  \n",
       "3                    4.723571  \n",
       "4                    2.979594  "
      ]
     },
     "execution_count": 40,
     "metadata": {},
     "output_type": "execute_result"
    }
   ],
   "source": [
    "X_test_raw['Anomaly_Label_GT'] = Anomaly_Test # Ground truth anomalies\n",
    "X_test_raw['Anomaly_Predicted'] = anomaly_predicted \n",
    "X_test_raw['Reconstruction_Probability'] = reconstructed_prob\n",
    "X_test_raw.head()"
   ]
  },
  {
   "cell_type": "code",
   "execution_count": 41,
   "id": "c23b188a",
   "metadata": {
    "execution": {
     "iopub.execute_input": "2022-08-27T22:54:48.593487Z",
     "iopub.status.busy": "2022-08-27T22:54:48.593065Z",
     "iopub.status.idle": "2022-08-27T22:54:48.605392Z",
     "shell.execute_reply": "2022-08-27T22:54:48.604063Z"
    },
    "papermill": {
     "duration": 2.473919,
     "end_time": "2022-08-27T22:54:48.608317",
     "exception": false,
     "start_time": "2022-08-27T22:54:46.134398",
     "status": "completed"
    },
    "tags": []
   },
   "outputs": [
    {
     "data": {
      "text/plain": [
       "0       0\n",
       "1       0\n",
       "2       0\n",
       "3       0\n",
       "4       0\n",
       "       ..\n",
       "7387    0\n",
       "7388    0\n",
       "7389    0\n",
       "7390    0\n",
       "7391    0\n",
       "Name: Anomaly_Label_GT, Length: 7392, dtype: int64"
      ]
     },
     "execution_count": 41,
     "metadata": {},
     "output_type": "execute_result"
    }
   ],
   "source": [
    "X_test_raw['Anomaly_Label_GT']"
   ]
  },
  {
   "cell_type": "code",
   "execution_count": 42,
   "id": "40f72cf0",
   "metadata": {
    "execution": {
     "iopub.execute_input": "2022-08-27T22:54:53.685324Z",
     "iopub.status.busy": "2022-08-27T22:54:53.684486Z",
     "iopub.status.idle": "2022-08-27T22:54:53.691247Z",
     "shell.execute_reply": "2022-08-27T22:54:53.690293Z"
    },
    "papermill": {
     "duration": 2.405469,
     "end_time": "2022-08-27T22:54:53.694234",
     "exception": false,
     "start_time": "2022-08-27T22:54:51.288765",
     "status": "completed"
    },
    "tags": []
   },
   "outputs": [],
   "source": [
    "# Function used to plot time series\n",
    "def inspect_dataframe(df, columns):\n",
    "    figs, axs = plt.subplots(len(columns), 1, sharex=True, figsize=(30,20))\n",
    "    for i, col in enumerate(columns):\n",
    "        axs[i].plot(df[col])\n",
    "        axs[i].set_title(col)\n",
    "    plt.show()"
   ]
  },
  {
   "cell_type": "code",
   "execution_count": 43,
   "id": "f6302256",
   "metadata": {
    "execution": {
     "iopub.execute_input": "2022-08-27T22:54:58.738374Z",
     "iopub.status.busy": "2022-08-27T22:54:58.737968Z",
     "iopub.status.idle": "2022-08-27T22:54:58.751481Z",
     "shell.execute_reply": "2022-08-27T22:54:58.750627Z"
    },
    "papermill": {
     "duration": 2.525227,
     "end_time": "2022-08-27T22:54:58.754736",
     "exception": false,
     "start_time": "2022-08-27T22:54:56.229509",
     "status": "completed"
    },
    "tags": []
   },
   "outputs": [],
   "source": [
    "import datetime as dt\n",
    "\n",
    "i=4\n",
    "j=i+3\n",
    "\n",
    "X = np.array(X_test_raw.iloc[i*672:j*672][['Consumption']])\n",
    "anomaly_true = X_test_raw.iloc[i*672:j*672]['Anomaly_Label_GT'].copy()\n",
    "anomaly_prediction = X_test_raw.iloc[i*672:j*672]['Anomaly_Predicted'].copy()\n",
    "reconstruction_probability = X_test_raw.iloc[i*672:j*672]['Reconstruction_Probability'].copy()"
   ]
  },
  {
   "cell_type": "code",
   "execution_count": 44,
   "id": "541cb6e4",
   "metadata": {
    "execution": {
     "iopub.execute_input": "2022-08-27T22:55:04.068766Z",
     "iopub.status.busy": "2022-08-27T22:55:04.068119Z",
     "iopub.status.idle": "2022-08-27T22:55:04.079698Z",
     "shell.execute_reply": "2022-08-27T22:55:04.078733Z"
    },
    "papermill": {
     "duration": 2.512849,
     "end_time": "2022-08-27T22:55:04.082583",
     "exception": false,
     "start_time": "2022-08-27T22:55:01.569734",
     "status": "completed"
    },
    "tags": []
   },
   "outputs": [],
   "source": [
    "def inspect_multivariate_prediction(X, y, a_true, a_predicted, reconstruction_prob, columns): \n",
    "   \n",
    "    figs, axs = plt.subplots(4, 1, sharex=True, figsize=(17,17)) \n",
    "    for i, col in enumerate(columns[:1]): \n",
    "        axs[i].plot(np.arange(len(X[:,i])), X[:,i]) \n",
    "        axs[i].plot(np.arange(len(X[:,i]), len(X[:,i])*2), y[:,i], color='orange')  \n",
    "        axs[i].set_title(col) \n",
    "                 \n",
    "    axs[1].plot(np.arange(len(X[:,i])), a_true) \n",
    "    axs[1].plot(np.arange(len(X[:,i]), len(X[:,i])*2), a_true) \n",
    "    axs[1].set_title('Anomaly_Label_GT') \n",
    "    \n",
    "    axs[2].plot(np.arange(len(X[:,i])), a_predicted) \n",
    "    axs[2].plot(np.arange(len(X[:,i]), len(X[:,i])*2), a_predicted) \n",
    "    axs[2].set_title('Anomaly_Predicted')\n",
    "    \n",
    "    axs[3].plot(np.arange(len(X[:,i])), reconstruction_prob) \n",
    "    axs[3].plot(np.arange(len(X[:,i]), len(X[:,i])*2), reconstruction_prob) \n",
    "    axs[3].set_title('Reconstrution_Probability') \n",
    "    plt.show()"
   ]
  },
  {
   "cell_type": "code",
   "execution_count": 45,
   "id": "8a31c5b1",
   "metadata": {
    "execution": {
     "iopub.execute_input": "2022-08-27T22:55:09.210577Z",
     "iopub.status.busy": "2022-08-27T22:55:09.210126Z",
     "iopub.status.idle": "2022-08-27T22:55:10.049607Z",
     "shell.execute_reply": "2022-08-27T22:55:10.048630Z"
    },
    "papermill": {
     "duration": 3.229967,
     "end_time": "2022-08-27T22:55:10.053480",
     "exception": false,
     "start_time": "2022-08-27T22:55:06.823513",
     "status": "completed"
    },
    "tags": []
   },
   "outputs": [
    {
     "data": {
      "image/png": "[encoded data removed]",
      "text/plain": [
       "<Figure size 1224x1224 with 4 Axes>"
      ]
     },
     "metadata": {
      "needs_background": "light"
     },
     "output_type": "display_data"
    }
   ],
   "source": [
    "# Plotting predictionsreconstruction_loss2 = tf.reduce_mean(tf.reduce_sum(tfk.losses.mse(data, y), axis=1))\n",
    "inspect_multivariate_prediction(X, X, anomaly_true, anomaly_prediction, reconstruction_probability, target_labels) "
   ]
  },
  {
   "cell_type": "code",
   "execution_count": 46,
   "id": "39e67487",
   "metadata": {
    "execution": {
     "iopub.execute_input": "2022-08-27T22:55:15.184030Z",
     "iopub.status.busy": "2022-08-27T22:55:15.182866Z",
     "iopub.status.idle": "2022-08-27T22:55:15.360203Z",
     "shell.execute_reply": "2022-08-27T22:55:15.358511Z"
    },
    "papermill": {
     "duration": 2.542261,
     "end_time": "2022-08-27T22:55:15.363184",
     "exception": false,
     "start_time": "2022-08-27T22:55:12.820923",
     "status": "completed"
    },
    "tags": []
   },
   "outputs": [
    {
     "name": "stdout",
     "output_type": "stream",
     "text": [
      "Accuracy: 0.9866\n",
      "Precision: 0.8598\n",
      "Recall: 0.876\n",
      "F1: 0.8678\n"
     ]
    },
    {
     "data": {
      "image/png": "[encoded data removed]",
      "text/plain": [
       "<Figure size 360x360 with 1 Axes>"
      ]
     },
     "metadata": {
      "needs_background": "light"
     },
     "output_type": "display_data"
    }
   ],
   "source": [
    "anomaly_predicted = anomaly_predicted\n",
    "\n",
    "# Compute the confusion matrix\n",
    "cm = confusion_matrix(y_true=Anomaly_Test, y_pred=anomaly_predicted)\n",
    "\n",
    "# Compute the classification metrics\n",
    "accuracy = accuracy_score(y_true=Anomaly_Test, y_pred=anomaly_predicted)\n",
    "precision = precision_score(y_true=Anomaly_Test, y_pred=anomaly_predicted)\n",
    "recall = recall_score(y_true=Anomaly_Test, y_pred=anomaly_predicted)\n",
    "f1 = f1_score(y_true=Anomaly_Test, y_pred=anomaly_predicted)\n",
    "print('Accuracy:',accuracy.round(4))\n",
    "print('Precision:',precision.round(4))\n",
    "print('Recall:',recall.round(4))\n",
    "print('F1:',f1.round(4))\n",
    "\n",
    "# Plot the confusion matrix\n",
    "fig, ax = plt.subplots(figsize=(5, 5))\n",
    "ax.matshow(cm, cmap=plt.cm.Oranges, alpha=0.3)\n",
    "for i in range(cm.shape[0]):\n",
    "    for j in range(cm.shape[1]):\n",
    "        ax.text(x=j, y=i,s=cm[i, j], va='center', ha='center', size='xx-large')\n",
    "        \n",
    "plt.xlabel('Predictions', fontsize=18)\n",
    "plt.ylabel('Actuals', fontsize=18)\n",
    "plt.title('Confusion Matrix', fontsize=18)\n",
    "plt.show()"
   ]
  }
 ],
 "metadata": {
  "kernelspec": {
   "display_name": "Python 3",
   "language": "python",
   "name": "python3"
  },
  "language_info": {
   "codemirror_mode": {
    "name": "ipython",
    "version": 3
   },
   "file_extension": ".py",
   "mimetype": "text/x-python",
   "name": "python",
   "nbconvert_exporter": "python",
   "pygments_lexer": "ipython3",
   "version": "3.7.12"
  },
  "papermill": {
   "default_parameters": {},
   "duration": 10469.392834,
   "end_time": "2022-08-27T22:55:21.106462",
   "environment_variables": {},
   "exception": null,
   "input_path": "__notebook__.ipynb",
   "output_path": "__notebook__.ipynb",
   "parameters": {},
   "start_time": "2022-08-27T20:00:51.713628",
   "version": "2.3.4"
  }
 },
 "nbformat": 4,
 "nbformat_minor": 5
}
